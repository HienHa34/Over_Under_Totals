{
 "cells": [
  {
   "cell_type": "code",
   "execution_count": 321,
   "metadata": {},
   "outputs": [],
   "source": [
    "import pandas as pd \n",
    "from sklearn.preprocessing import StandardScaler\n",
    "from statsmodels.tools import add_constant\n",
    "from statsmodels.discrete.discrete_model import Logit\n",
    "from sklearn.linear_model import LogisticRegression, Lasso, Ridge\n",
    "from sklearn.model_selection import train_test_split, cross_val_score, GridSearchCV\n",
    "from sklearn.tree import DecisionTreeClassifier\n",
    "from sklearn.ensemble import RandomForestClassifier,GradientBoostingClassifier, AdaBoostClassifier \n",
    "from sklearn.metrics import roc_auc_score,accuracy_score, precision_score,recall_score, f1_score\n",
    "import warnings\n",
    "warnings.filterwarnings(\"ignore\", category=FutureWarning)\n"
   ]
  },
  {
   "cell_type": "code",
   "execution_count": 155,
   "metadata": {},
   "outputs": [],
   "source": [
    "games = pd.read_csv('games_cleaned.csv')"
   ]
  },
  {
   "cell_type": "code",
   "execution_count": 156,
   "metadata": {
    "scrolled": true
   },
   "outputs": [
    {
     "data": {
      "text/html": [
       "<div>\n",
       "<style scoped>\n",
       "    .dataframe tbody tr th:only-of-type {\n",
       "        vertical-align: middle;\n",
       "    }\n",
       "\n",
       "    .dataframe tbody tr th {\n",
       "        vertical-align: top;\n",
       "    }\n",
       "\n",
       "    .dataframe thead th {\n",
       "        text-align: right;\n",
       "    }\n",
       "</style>\n",
       "<table border=\"1\" class=\"dataframe\">\n",
       "  <thead>\n",
       "    <tr style=\"text-align: right;\">\n",
       "      <th></th>\n",
       "      <th>Unnamed: 0</th>\n",
       "      <th>season</th>\n",
       "      <th>week</th>\n",
       "      <th>Date</th>\n",
       "      <th>Home Team</th>\n",
       "      <th>Away Team</th>\n",
       "      <th>home_team_score</th>\n",
       "      <th>visit_team_score</th>\n",
       "      <th>game_over_under</th>\n",
       "      <th>line</th>\n",
       "      <th>...</th>\n",
       "      <th>temperature</th>\n",
       "      <th>wind_speed</th>\n",
       "      <th>wind_bearing</th>\n",
       "      <th>name</th>\n",
       "      <th>month</th>\n",
       "      <th>start</th>\n",
       "      <th>over_hit</th>\n",
       "      <th>under_hit</th>\n",
       "      <th>favorite_covered</th>\n",
       "      <th>underdog_covered</th>\n",
       "    </tr>\n",
       "  </thead>\n",
       "  <tbody>\n",
       "    <tr>\n",
       "      <td>0</td>\n",
       "      <td>0</td>\n",
       "      <td>1983</td>\n",
       "      <td>1</td>\n",
       "      <td>1983-09-03 00:00:00</td>\n",
       "      <td>SF</td>\n",
       "      <td>PHI</td>\n",
       "      <td>17</td>\n",
       "      <td>22</td>\n",
       "      <td>40.0</td>\n",
       "      <td>-4.0</td>\n",
       "      <td>...</td>\n",
       "      <td>73.32</td>\n",
       "      <td>6.12</td>\n",
       "      <td>282.0</td>\n",
       "      <td>PHI @ SF</td>\n",
       "      <td>September</td>\n",
       "      <td>Night</td>\n",
       "      <td>0</td>\n",
       "      <td>1</td>\n",
       "      <td>0</td>\n",
       "      <td>1</td>\n",
       "    </tr>\n",
       "    <tr>\n",
       "      <td>1</td>\n",
       "      <td>1</td>\n",
       "      <td>1983</td>\n",
       "      <td>1</td>\n",
       "      <td>1983-09-04 00:00:00</td>\n",
       "      <td>NO</td>\n",
       "      <td>ARI</td>\n",
       "      <td>28</td>\n",
       "      <td>17</td>\n",
       "      <td>37.0</td>\n",
       "      <td>-3.0</td>\n",
       "      <td>...</td>\n",
       "      <td>70.00</td>\n",
       "      <td>0.00</td>\n",
       "      <td>0.0</td>\n",
       "      <td>SLC @ NO</td>\n",
       "      <td>September</td>\n",
       "      <td>Day</td>\n",
       "      <td>1</td>\n",
       "      <td>0</td>\n",
       "      <td>1</td>\n",
       "      <td>0</td>\n",
       "    </tr>\n",
       "    <tr>\n",
       "      <td>2</td>\n",
       "      <td>2</td>\n",
       "      <td>1983</td>\n",
       "      <td>1</td>\n",
       "      <td>1983-09-04 00:00:00</td>\n",
       "      <td>BUF</td>\n",
       "      <td>MIA</td>\n",
       "      <td>0</td>\n",
       "      <td>12</td>\n",
       "      <td>36.0</td>\n",
       "      <td>4.0</td>\n",
       "      <td>...</td>\n",
       "      <td>78.95</td>\n",
       "      <td>10.67</td>\n",
       "      <td>194.0</td>\n",
       "      <td>MIA @ BUF</td>\n",
       "      <td>September</td>\n",
       "      <td>Day</td>\n",
       "      <td>0</td>\n",
       "      <td>1</td>\n",
       "      <td>0</td>\n",
       "      <td>1</td>\n",
       "    </tr>\n",
       "    <tr>\n",
       "      <td>3</td>\n",
       "      <td>3</td>\n",
       "      <td>1983</td>\n",
       "      <td>1</td>\n",
       "      <td>1983-09-04 00:00:00</td>\n",
       "      <td>CHI</td>\n",
       "      <td>ATL</td>\n",
       "      <td>17</td>\n",
       "      <td>20</td>\n",
       "      <td>38.0</td>\n",
       "      <td>-1.5</td>\n",
       "      <td>...</td>\n",
       "      <td>86.66</td>\n",
       "      <td>11.04</td>\n",
       "      <td>196.0</td>\n",
       "      <td>ATL @ CHI</td>\n",
       "      <td>September</td>\n",
       "      <td>Day</td>\n",
       "      <td>0</td>\n",
       "      <td>1</td>\n",
       "      <td>0</td>\n",
       "      <td>1</td>\n",
       "    </tr>\n",
       "    <tr>\n",
       "      <td>4</td>\n",
       "      <td>4</td>\n",
       "      <td>1983</td>\n",
       "      <td>1</td>\n",
       "      <td>1983-09-04 00:00:00</td>\n",
       "      <td>CIN</td>\n",
       "      <td>OAK</td>\n",
       "      <td>10</td>\n",
       "      <td>20</td>\n",
       "      <td>42.0</td>\n",
       "      <td>-2.0</td>\n",
       "      <td>...</td>\n",
       "      <td>82.18</td>\n",
       "      <td>7.90</td>\n",
       "      <td>194.0</td>\n",
       "      <td>LAD @ CIN</td>\n",
       "      <td>September</td>\n",
       "      <td>Day</td>\n",
       "      <td>0</td>\n",
       "      <td>1</td>\n",
       "      <td>0</td>\n",
       "      <td>1</td>\n",
       "    </tr>\n",
       "  </tbody>\n",
       "</table>\n",
       "<p>5 rows × 22 columns</p>\n",
       "</div>"
      ],
      "text/plain": [
       "   Unnamed: 0  season  week                 Date Home Team Away Team  \\\n",
       "0           0    1983     1  1983-09-03 00:00:00        SF       PHI   \n",
       "1           1    1983     1  1983-09-04 00:00:00        NO       ARI   \n",
       "2           2    1983     1  1983-09-04 00:00:00       BUF       MIA   \n",
       "3           3    1983     1  1983-09-04 00:00:00       CHI       ATL   \n",
       "4           4    1983     1  1983-09-04 00:00:00       CIN       OAK   \n",
       "\n",
       "   home_team_score  visit_team_score  game_over_under  line  ... temperature  \\\n",
       "0               17                22             40.0  -4.0  ...       73.32   \n",
       "1               28                17             37.0  -3.0  ...       70.00   \n",
       "2                0                12             36.0   4.0  ...       78.95   \n",
       "3               17                20             38.0  -1.5  ...       86.66   \n",
       "4               10                20             42.0  -2.0  ...       82.18   \n",
       "\n",
       "  wind_speed  wind_bearing       name      month  start over_hit under_hit  \\\n",
       "0       6.12         282.0   PHI @ SF  September  Night        0         1   \n",
       "1       0.00           0.0   SLC @ NO  September    Day        1         0   \n",
       "2      10.67         194.0  MIA @ BUF  September    Day        0         1   \n",
       "3      11.04         196.0  ATL @ CHI  September    Day        0         1   \n",
       "4       7.90         194.0  LAD @ CIN  September    Day        0         1   \n",
       "\n",
       "   favorite_covered  underdog_covered  \n",
       "0                 0                 1  \n",
       "1                 1                 0  \n",
       "2                 0                 1  \n",
       "3                 0                 1  \n",
       "4                 0                 1  \n",
       "\n",
       "[5 rows x 22 columns]"
      ]
     },
     "execution_count": 156,
     "metadata": {},
     "output_type": "execute_result"
    }
   ],
   "source": [
    "games.head()"
   ]
  },
  {
   "cell_type": "code",
   "execution_count": 157,
   "metadata": {},
   "outputs": [
    {
     "data": {
      "text/plain": [
       "Index(['Unnamed: 0', 'season', 'week', 'Date', 'Home Team', 'Away Team',\n",
       "       'home_team_score', 'visit_team_score', 'game_over_under', 'line',\n",
       "       'surface', 'weather_icon', 'temperature', 'wind_speed', 'wind_bearing',\n",
       "       'name', 'month', 'start', 'over_hit', 'under_hit', 'favorite_covered',\n",
       "       'underdog_covered'],\n",
       "      dtype='object')"
      ]
     },
     "execution_count": 157,
     "metadata": {},
     "output_type": "execute_result"
    }
   ],
   "source": [
    "games.columns"
   ]
  },
  {
   "cell_type": "markdown",
   "metadata": {},
   "source": [
    "#### Delete Unusable Features "
   ]
  },
  {
   "cell_type": "code",
   "execution_count": 158,
   "metadata": {},
   "outputs": [],
   "source": [
    "games.drop( ['Unnamed: 0',  'Date', \n",
    "       'home_team_score', 'visit_team_score', \n",
    "       'name',  'under_hit', 'favorite_covered',\n",
    "       'underdog_covered'], axis = 1, inplace = True)"
   ]
  },
  {
   "cell_type": "code",
   "execution_count": 159,
   "metadata": {
    "scrolled": false
   },
   "outputs": [
    {
     "data": {
      "text/html": [
       "<div>\n",
       "<style scoped>\n",
       "    .dataframe tbody tr th:only-of-type {\n",
       "        vertical-align: middle;\n",
       "    }\n",
       "\n",
       "    .dataframe tbody tr th {\n",
       "        vertical-align: top;\n",
       "    }\n",
       "\n",
       "    .dataframe thead th {\n",
       "        text-align: right;\n",
       "    }\n",
       "</style>\n",
       "<table border=\"1\" class=\"dataframe\">\n",
       "  <thead>\n",
       "    <tr style=\"text-align: right;\">\n",
       "      <th></th>\n",
       "      <th>season</th>\n",
       "      <th>week</th>\n",
       "      <th>Home Team</th>\n",
       "      <th>Away Team</th>\n",
       "      <th>game_over_under</th>\n",
       "      <th>line</th>\n",
       "      <th>surface</th>\n",
       "      <th>weather_icon</th>\n",
       "      <th>temperature</th>\n",
       "      <th>wind_speed</th>\n",
       "      <th>wind_bearing</th>\n",
       "      <th>month</th>\n",
       "      <th>start</th>\n",
       "      <th>over_hit</th>\n",
       "    </tr>\n",
       "  </thead>\n",
       "  <tbody>\n",
       "    <tr>\n",
       "      <td>0</td>\n",
       "      <td>1983</td>\n",
       "      <td>1</td>\n",
       "      <td>SF</td>\n",
       "      <td>PHI</td>\n",
       "      <td>40.0</td>\n",
       "      <td>-4.0</td>\n",
       "      <td>Grass</td>\n",
       "      <td>Clear Day</td>\n",
       "      <td>73.32</td>\n",
       "      <td>6.12</td>\n",
       "      <td>282.0</td>\n",
       "      <td>September</td>\n",
       "      <td>Night</td>\n",
       "      <td>0</td>\n",
       "    </tr>\n",
       "    <tr>\n",
       "      <td>1</td>\n",
       "      <td>1983</td>\n",
       "      <td>1</td>\n",
       "      <td>NO</td>\n",
       "      <td>ARI</td>\n",
       "      <td>37.0</td>\n",
       "      <td>-3.0</td>\n",
       "      <td>Dome</td>\n",
       "      <td>Dome</td>\n",
       "      <td>70.00</td>\n",
       "      <td>0.00</td>\n",
       "      <td>0.0</td>\n",
       "      <td>September</td>\n",
       "      <td>Day</td>\n",
       "      <td>1</td>\n",
       "    </tr>\n",
       "    <tr>\n",
       "      <td>2</td>\n",
       "      <td>1983</td>\n",
       "      <td>1</td>\n",
       "      <td>BUF</td>\n",
       "      <td>MIA</td>\n",
       "      <td>36.0</td>\n",
       "      <td>4.0</td>\n",
       "      <td>Turf</td>\n",
       "      <td>Partly Cloudy Day</td>\n",
       "      <td>78.95</td>\n",
       "      <td>10.67</td>\n",
       "      <td>194.0</td>\n",
       "      <td>September</td>\n",
       "      <td>Day</td>\n",
       "      <td>0</td>\n",
       "    </tr>\n",
       "    <tr>\n",
       "      <td>3</td>\n",
       "      <td>1983</td>\n",
       "      <td>1</td>\n",
       "      <td>CHI</td>\n",
       "      <td>ATL</td>\n",
       "      <td>38.0</td>\n",
       "      <td>-1.5</td>\n",
       "      <td>Grass</td>\n",
       "      <td>Clear Day</td>\n",
       "      <td>86.66</td>\n",
       "      <td>11.04</td>\n",
       "      <td>196.0</td>\n",
       "      <td>September</td>\n",
       "      <td>Day</td>\n",
       "      <td>0</td>\n",
       "    </tr>\n",
       "    <tr>\n",
       "      <td>4</td>\n",
       "      <td>1983</td>\n",
       "      <td>1</td>\n",
       "      <td>CIN</td>\n",
       "      <td>OAK</td>\n",
       "      <td>42.0</td>\n",
       "      <td>-2.0</td>\n",
       "      <td>Turf</td>\n",
       "      <td>Clear Day</td>\n",
       "      <td>82.18</td>\n",
       "      <td>7.90</td>\n",
       "      <td>194.0</td>\n",
       "      <td>September</td>\n",
       "      <td>Day</td>\n",
       "      <td>0</td>\n",
       "    </tr>\n",
       "  </tbody>\n",
       "</table>\n",
       "</div>"
      ],
      "text/plain": [
       "   season  week Home Team Away Team  game_over_under  line surface  \\\n",
       "0    1983     1        SF       PHI             40.0  -4.0   Grass   \n",
       "1    1983     1        NO       ARI             37.0  -3.0    Dome   \n",
       "2    1983     1       BUF       MIA             36.0   4.0    Turf   \n",
       "3    1983     1       CHI       ATL             38.0  -1.5   Grass   \n",
       "4    1983     1       CIN       OAK             42.0  -2.0    Turf   \n",
       "\n",
       "        weather_icon  temperature  wind_speed  wind_bearing      month  start  \\\n",
       "0          Clear Day        73.32        6.12         282.0  September  Night   \n",
       "1               Dome        70.00        0.00           0.0  September    Day   \n",
       "2  Partly Cloudy Day        78.95       10.67         194.0  September    Day   \n",
       "3          Clear Day        86.66       11.04         196.0  September    Day   \n",
       "4          Clear Day        82.18        7.90         194.0  September    Day   \n",
       "\n",
       "   over_hit  \n",
       "0         0  \n",
       "1         1  \n",
       "2         0  \n",
       "3         0  \n",
       "4         0  "
      ]
     },
     "execution_count": 159,
     "metadata": {},
     "output_type": "execute_result"
    }
   ],
   "source": [
    "games.head()"
   ]
  },
  {
   "cell_type": "code",
   "execution_count": 319,
   "metadata": {},
   "outputs": [
    {
     "data": {
      "text/plain": [
       "Index(['season', 'week', 'Home Team', 'Away Team', 'game_over_under', 'line',\n",
       "       'surface', 'weather_icon', 'temperature', 'wind_speed', 'wind_bearing',\n",
       "       'month', 'start', 'over_hit'],\n",
       "      dtype='object')"
      ]
     },
     "execution_count": 319,
     "metadata": {},
     "output_type": "execute_result"
    }
   ],
   "source": [
    "games.columns"
   ]
  },
  {
   "cell_type": "code",
   "execution_count": 326,
   "metadata": {},
   "outputs": [],
   "source": [
    "def print_cv_scores(model,X_train,y_train ):\n",
    "    f1= cross_val_score(model, X_train,y_train, cv = 10, scoring ='f1')\n",
    "    precision = cross_val_score(model,X_train, y_train, cv = 10, scoring = 'precision')\n",
    "    recall = cross_val_score(model,X_train,y_train, cv = 10, scoring = 'recall')\n",
    "    print(f'Average Recall Score : {recall.mean()}')\n",
    "    print(f'Average Precision Score : {precision.mean()}')   \n",
    "    print(f'Average F1 Score : {f1.mean()}') \n",
    "    print(f'F1 Scores:{f1}')\n"
   ]
  },
  {
   "cell_type": "markdown",
   "metadata": {},
   "source": [
    "#### Without Dummies"
   ]
  },
  {
   "cell_type": "code",
   "execution_count": 271,
   "metadata": {},
   "outputs": [],
   "source": [
    "y = games.over_hit.values\n",
    "X = games[['line', 'game_over_under',\n",
    "        'temperature', 'wind_speed', 'wind_bearing']]"
   ]
  },
  {
   "cell_type": "code",
   "execution_count": 272,
   "metadata": {},
   "outputs": [],
   "source": [
    "X_train, X_test, y_train, y_test = train_test_split(X,y, test_size = 0.2)"
   ]
  },
  {
   "cell_type": "code",
   "execution_count": 327,
   "metadata": {},
   "outputs": [
    {
     "name": "stderr",
     "output_type": "stream",
     "text": [
      "/opt/anaconda3/lib/python3.7/site-packages/sklearn/metrics/classification.py:1437: UndefinedMetricWarning: F-score is ill-defined and being set to 0.0 due to no predicted samples.\n",
      "  'precision', 'predicted', average, warn_for)\n",
      "/opt/anaconda3/lib/python3.7/site-packages/sklearn/metrics/classification.py:1437: UndefinedMetricWarning: F-score is ill-defined and being set to 0.0 due to no predicted samples.\n",
      "  'precision', 'predicted', average, warn_for)\n",
      "/opt/anaconda3/lib/python3.7/site-packages/sklearn/metrics/classification.py:1437: UndefinedMetricWarning: F-score is ill-defined and being set to 0.0 due to no predicted samples.\n",
      "  'precision', 'predicted', average, warn_for)\n",
      "/opt/anaconda3/lib/python3.7/site-packages/sklearn/metrics/classification.py:1437: UndefinedMetricWarning: Precision is ill-defined and being set to 0.0 due to no predicted samples.\n",
      "  'precision', 'predicted', average, warn_for)\n",
      "/opt/anaconda3/lib/python3.7/site-packages/sklearn/metrics/classification.py:1437: UndefinedMetricWarning: Precision is ill-defined and being set to 0.0 due to no predicted samples.\n",
      "  'precision', 'predicted', average, warn_for)\n",
      "/opt/anaconda3/lib/python3.7/site-packages/sklearn/metrics/classification.py:1437: UndefinedMetricWarning: Precision is ill-defined and being set to 0.0 due to no predicted samples.\n",
      "  'precision', 'predicted', average, warn_for)\n"
     ]
    },
    {
     "name": "stdout",
     "output_type": "stream",
     "text": [
      "Average Recall Score : 0.009116809116809118\n",
      "Average Precision Score : 0.35804761904761906\n",
      "Average F1 Score : 0.01734794996570036\n",
      "F1 Scores:[0.         0.00561798 0.         0.         0.01133144 0.\n",
      " 0.05913978 0.01133144 0.02754821 0.05851064]\n"
     ]
    }
   ],
   "source": [
    "logreg = LogisticRegression(solver = 'lbfgs')\n",
    "print_cv_scores(logreg,X_train, y_train)"
   ]
  },
  {
   "cell_type": "code",
   "execution_count": 281,
   "metadata": {
    "scrolled": true
   },
   "outputs": [
    {
     "name": "stdout",
     "output_type": "stream",
     "text": [
      "Accuracy Score : 0.528374655647383\n",
      "F1 Score : 0.3929078014184397\n"
     ]
    }
   ],
   "source": [
    "logreg = LogisticRegression(solver = 'lbfgs')\n",
    "model_prediction_scores(logreg, X_train, X_test, y_train,y_test)"
   ]
  },
  {
   "cell_type": "markdown",
   "metadata": {},
   "source": [
    "#### Scaled "
   ]
  },
  {
   "cell_type": "code",
   "execution_count": 283,
   "metadata": {},
   "outputs": [],
   "source": [
    "X_train_stand = X_train.copy()\n",
    "X_test_stand = X_test.copy()\n",
    "scale = StandardScaler().fit(X_train_stand)\n",
    "X_train_stand = scale.transform(X_train_stand)\n",
    "X_test_stand = scale.transform(X_test_stand)"
   ]
  },
  {
   "cell_type": "code",
   "execution_count": 284,
   "metadata": {},
   "outputs": [
    {
     "name": "stdout",
     "output_type": "stream",
     "text": [
      "Accuracy Score : 0.5217745004033302\n",
      "F1 Score : 0.3869385094645105\n"
     ]
    }
   ],
   "source": [
    "logreg = LogisticRegression(solver = 'lbfgs')\n",
    "print_cv_scores(logreg, X_train_stand, y_train)"
   ]
  },
  {
   "cell_type": "code",
   "execution_count": 285,
   "metadata": {},
   "outputs": [
    {
     "name": "stdout",
     "output_type": "stream",
     "text": [
      "Accuracy Score : 0.528374655647383\n",
      "F1 Score : 0.3929078014184397\n"
     ]
    }
   ],
   "source": [
    "logreg = LogisticRegression(solver = 'lbfgs')\n",
    "model_prediction_scores(logreg, X_train_stand, X_test_stand,y_train, y_test)"
   ]
  },
  {
   "cell_type": "code",
   "execution_count": 170,
   "metadata": {},
   "outputs": [
    {
     "name": "stdout",
     "output_type": "stream",
     "text": [
      "Optimization terminated successfully.\n",
      "         Current function value: 0.690791\n",
      "         Iterations 4\n"
     ]
    }
   ],
   "source": [
    "X_const = add_constant(X,prepend =True)\n",
    "logit_model = Logit(y,X_const).fit()"
   ]
  },
  {
   "cell_type": "code",
   "execution_count": 171,
   "metadata": {},
   "outputs": [
    {
     "data": {
      "text/html": [
       "<table class=\"simpletable\">\n",
       "<caption>Logit Regression Results</caption>\n",
       "<tr>\n",
       "  <th>Dep. Variable:</th>           <td>y</td>        <th>  No. Observations:  </th>  <td>  9073</td>  \n",
       "</tr>\n",
       "<tr>\n",
       "  <th>Model:</th>                 <td>Logit</td>      <th>  Df Residuals:      </th>  <td>  9067</td>  \n",
       "</tr>\n",
       "<tr>\n",
       "  <th>Method:</th>                 <td>MLE</td>       <th>  Df Model:          </th>  <td>     5</td>  \n",
       "</tr>\n",
       "<tr>\n",
       "  <th>Date:</th>            <td>Tue, 25 Aug 2020</td> <th>  Pseudo R-squ.:     </th> <td>0.002690</td> \n",
       "</tr>\n",
       "<tr>\n",
       "  <th>Time:</th>                <td>22:12:10</td>     <th>  Log-Likelihood:    </th> <td> -6267.5</td> \n",
       "</tr>\n",
       "<tr>\n",
       "  <th>converged:</th>             <td>True</td>       <th>  LL-Null:           </th> <td> -6284.4</td> \n",
       "</tr>\n",
       "<tr>\n",
       "  <th>Covariance Type:</th>     <td>nonrobust</td>    <th>  LLR p-value:       </th> <td>2.601e-06</td>\n",
       "</tr>\n",
       "</table>\n",
       "<table class=\"simpletable\">\n",
       "<tr>\n",
       "    <td></td>       <th>coef</th>     <th>std err</th>      <th>z</th>      <th>P>|z|</th>  <th>[0.025</th>    <th>0.975]</th>  \n",
       "</tr>\n",
       "<tr>\n",
       "  <th>const</th> <td>    0.8655</td> <td>    0.224</td> <td>    3.862</td> <td> 0.000</td> <td>    0.426</td> <td>    1.305</td>\n",
       "</tr>\n",
       "<tr>\n",
       "  <th>x1</th>    <td>   -0.0024</td> <td>    0.004</td> <td>   -0.661</td> <td> 0.509</td> <td>   -0.009</td> <td>    0.005</td>\n",
       "</tr>\n",
       "<tr>\n",
       "  <th>x2</th>    <td>   -0.0192</td> <td>    0.005</td> <td>   -4.138</td> <td> 0.000</td> <td>   -0.028</td> <td>   -0.010</td>\n",
       "</tr>\n",
       "<tr>\n",
       "  <th>x3</th>    <td>   -0.0010</td> <td>    0.001</td> <td>   -0.658</td> <td> 0.511</td> <td>   -0.004</td> <td>    0.002</td>\n",
       "</tr>\n",
       "<tr>\n",
       "  <th>x4</th>    <td>   -0.0236</td> <td>    0.005</td> <td>   -4.860</td> <td> 0.000</td> <td>   -0.033</td> <td>   -0.014</td>\n",
       "</tr>\n",
       "<tr>\n",
       "  <th>x5</th>    <td>    0.0003</td> <td>    0.000</td> <td>    1.677</td> <td> 0.094</td> <td>-5.72e-05</td> <td>    0.001</td>\n",
       "</tr>\n",
       "</table>"
      ],
      "text/plain": [
       "<class 'statsmodels.iolib.summary.Summary'>\n",
       "\"\"\"\n",
       "                           Logit Regression Results                           \n",
       "==============================================================================\n",
       "Dep. Variable:                      y   No. Observations:                 9073\n",
       "Model:                          Logit   Df Residuals:                     9067\n",
       "Method:                           MLE   Df Model:                            5\n",
       "Date:                Tue, 25 Aug 2020   Pseudo R-squ.:                0.002690\n",
       "Time:                        22:12:10   Log-Likelihood:                -6267.5\n",
       "converged:                       True   LL-Null:                       -6284.4\n",
       "Covariance Type:            nonrobust   LLR p-value:                 2.601e-06\n",
       "==============================================================================\n",
       "                 coef    std err          z      P>|z|      [0.025      0.975]\n",
       "------------------------------------------------------------------------------\n",
       "const          0.8655      0.224      3.862      0.000       0.426       1.305\n",
       "x1            -0.0024      0.004     -0.661      0.509      -0.009       0.005\n",
       "x2            -0.0192      0.005     -4.138      0.000      -0.028      -0.010\n",
       "x3            -0.0010      0.001     -0.658      0.511      -0.004       0.002\n",
       "x4            -0.0236      0.005     -4.860      0.000      -0.033      -0.014\n",
       "x5             0.0003      0.000      1.677      0.094   -5.72e-05       0.001\n",
       "==============================================================================\n",
       "\"\"\""
      ]
     },
     "execution_count": 171,
     "metadata": {},
     "output_type": "execute_result"
    }
   ],
   "source": [
    "logit_model.summary()"
   ]
  },
  {
   "cell_type": "markdown",
   "metadata": {},
   "source": [
    "#### With Dummies"
   ]
  },
  {
   "cell_type": "code",
   "execution_count": 286,
   "metadata": {},
   "outputs": [],
   "source": [
    "dummies1 = pd.get_dummies(games['surface'],prefix ='surface')"
   ]
  },
  {
   "cell_type": "code",
   "execution_count": 296,
   "metadata": {},
   "outputs": [],
   "source": [
    "X_dummies = games[['line', 'game_over_under',\n",
    "        'temperature', 'wind_speed', 'wind_bearing']].join(dummies1.loc[:,'surface_Grass':])"
   ]
  },
  {
   "cell_type": "code",
   "execution_count": 288,
   "metadata": {},
   "outputs": [],
   "source": [
    "X_dummies_train, X_dummies_test,y_dummies_train, y_dummies_test = train_test_split(X_dummies,y, test_size = 0.20)"
   ]
  },
  {
   "cell_type": "code",
   "execution_count": 291,
   "metadata": {
    "scrolled": true
   },
   "outputs": [
    {
     "name": "stdout",
     "output_type": "stream",
     "text": [
      "Accuracy Score : 0.5180545308984076\n",
      "F1 Score : 0.41844052570391765\n"
     ]
    }
   ],
   "source": [
    "logreg = LogisticRegression(solver = 'lbfgs', max_iter = 200)\n",
    "print_cv_scores(logreg, X_dummies_train, y_dummies_train)"
   ]
  },
  {
   "cell_type": "code",
   "execution_count": 292,
   "metadata": {},
   "outputs": [
    {
     "name": "stdout",
     "output_type": "stream",
     "text": [
      "Accuracy Score : 0.5333333333333333\n",
      "F1 Score : 0.43268586738111187\n"
     ]
    }
   ],
   "source": [
    "logreg = LogisticRegression(solver = 'lbfgs', max_iter = 200)\n",
    "model_prediction_scores(logreg,X_dummies_train, X_dummies_test, y_dummies_train, y_dummies_test)"
   ]
  },
  {
   "cell_type": "markdown",
   "metadata": {},
   "source": [
    "#### with 2 dummies"
   ]
  },
  {
   "cell_type": "code",
   "execution_count": 294,
   "metadata": {
    "scrolled": true
   },
   "outputs": [],
   "source": [
    "dummies2 = pd.get_dummies(games['weather_icon'],prefix ='weather')\n"
   ]
  },
  {
   "cell_type": "code",
   "execution_count": null,
   "metadata": {},
   "outputs": [],
   "source": []
  },
  {
   "cell_type": "code",
   "execution_count": 297,
   "metadata": {},
   "outputs": [],
   "source": [
    "X2_dummies= X_dummies.join(dummies2.loc[:,'weather_Clear Night':])"
   ]
  },
  {
   "cell_type": "code",
   "execution_count": 298,
   "metadata": {},
   "outputs": [],
   "source": [
    "X2_dummies_train, X2_dummies_test,y2_dummies_train, y2_dummies_test = train_test_split(X2_dummies,y, test_size = 0.2)"
   ]
  },
  {
   "cell_type": "code",
   "execution_count": 302,
   "metadata": {},
   "outputs": [
    {
     "name": "stdout",
     "output_type": "stream",
     "text": [
      "Accuracy Score : 0.5235543109230225\n",
      "F1 Score : 0.3893795894033939\n"
     ]
    }
   ],
   "source": [
    "logreg = LogisticRegression(solver = 'lbfgs', max_iter =400)\n",
    "print_cv_scores(logreg, X2_dummies_train, y2_dummies_train)"
   ]
  },
  {
   "cell_type": "markdown",
   "metadata": {},
   "source": [
    "#### Decsion Tree"
   ]
  },
  {
   "cell_type": "code",
   "execution_count": 303,
   "metadata": {},
   "outputs": [],
   "source": [
    "X_dt = games[['line', 'game_over_under',\n",
    "        'temperature', 'wind_speed', 'wind_bearing']]\n",
    "y = games.over_hit.values\n",
    "\n",
    "\n"
   ]
  },
  {
   "cell_type": "markdown",
   "metadata": {},
   "source": [
    "#### without dummies"
   ]
  },
  {
   "cell_type": "code",
   "execution_count": 305,
   "metadata": {},
   "outputs": [],
   "source": [
    "Xdt_train, Xdt_test, ydt_train, ydt_test = train_test_split(X_dt, y, test_size = 0.2)"
   ]
  },
  {
   "cell_type": "code",
   "execution_count": 306,
   "metadata": {},
   "outputs": [
    {
     "name": "stdout",
     "output_type": "stream",
     "text": [
      "Accuracy Score : 0.5039918307923464\n",
      "F1 Score : 0.49131471846269414\n"
     ]
    }
   ],
   "source": [
    "dt = DecisionTreeClassifier()\n",
    "print_cv_scores(dt, Xdt_train,ydt_train)"
   ]
  },
  {
   "cell_type": "code",
   "execution_count": 307,
   "metadata": {},
   "outputs": [
    {
     "name": "stdout",
     "output_type": "stream",
     "text": [
      "Accuracy Score : 0.5013774104683195\n",
      "F1 Score : 0.4654459539279386\n"
     ]
    }
   ],
   "source": [
    "dt= DecisionTreeClassifier()\n",
    "model_prediction_scores(dt, Xdt_train, Xdt_test, ydt_train, ydt_test)"
   ]
  },
  {
   "cell_type": "markdown",
   "metadata": {},
   "source": [
    "#### With Dummies"
   ]
  },
  {
   "cell_type": "markdown",
   "metadata": {},
   "source": [
    "#### surface dummies"
   ]
  },
  {
   "cell_type": "code",
   "execution_count": 308,
   "metadata": {},
   "outputs": [],
   "source": [
    "Xdt_dummies = games[['line', 'game_over_under',\n",
    "        'temperature', 'wind_speed', 'wind_bearing']].join(dummies1.loc[:,'surface_Grass':])"
   ]
  },
  {
   "cell_type": "code",
   "execution_count": 309,
   "metadata": {},
   "outputs": [],
   "source": [
    "Xdt_dummies_train, Xdt_dummies_test, ydt_dummies_train, ydt_dummies_test = train_test_split(Xdt_dummies, y, test_size= 0.2)"
   ]
  },
  {
   "cell_type": "code",
   "execution_count": 310,
   "metadata": {
    "scrolled": true
   },
   "outputs": [
    {
     "name": "stdout",
     "output_type": "stream",
     "text": [
      "Accuracy Score : 0.49297310629417074\n",
      "F1 Score : 0.468394089808913\n"
     ]
    }
   ],
   "source": [
    "dt = DecisionTreeClassifier()\n",
    "print_cv_scores(dt, Xdt_dummies_train, ydt_dummies_train)"
   ]
  },
  {
   "cell_type": "code",
   "execution_count": 311,
   "metadata": {},
   "outputs": [
    {
     "name": "stdout",
     "output_type": "stream",
     "text": [
      "Accuracy Score : 0.5068870523415978\n",
      "F1 Score : 0.4888635065676756\n"
     ]
    }
   ],
   "source": [
    "dt = DecisionTreeClassifier()\n",
    "model_prediction_scores(dt, Xdt_dummies_train, Xdt_dummies_test, ydt_dummies_train, ydt_dummies_test)"
   ]
  },
  {
   "cell_type": "markdown",
   "metadata": {},
   "source": [
    "#### both dummies"
   ]
  },
  {
   "cell_type": "code",
   "execution_count": 313,
   "metadata": {},
   "outputs": [],
   "source": [
    "Xdt2_dummies = X2_dummies"
   ]
  },
  {
   "cell_type": "code",
   "execution_count": 314,
   "metadata": {},
   "outputs": [],
   "source": [
    "Xdt2_dummies_train, Xdt2_dummies_test, ydt2_dummies_train, ydt2_dummies_test = train_test_split(Xdt2_dummies, y, test_size = 0.2)"
   ]
  },
  {
   "cell_type": "code",
   "execution_count": 317,
   "metadata": {},
   "outputs": [
    {
     "name": "stdout",
     "output_type": "stream",
     "text": [
      "Accuracy Score : 0.5017862714714465\n",
      "F1 Score : 0.4681219149519277\n"
     ]
    }
   ],
   "source": [
    "dt = DecisionTreeClassifier()\n",
    "print_cv_scores(dt, Xdt2_dummies_train, ydt2_dummies_train)"
   ]
  },
  {
   "cell_type": "code",
   "execution_count": 318,
   "metadata": {},
   "outputs": [
    {
     "name": "stdout",
     "output_type": "stream",
     "text": [
      "Accuracy Score : 0.5046831955922865\n",
      "F1 Score : 0.4764123471170646\n"
     ]
    }
   ],
   "source": [
    "dt = DecisionTreeClassifier()\n",
    "model_prediction_scores(dt,Xdt2_dummies_train, Xdt2_dummies_test, ydt2_dummies_train, ydt2_dummies_test  )"
   ]
  },
  {
   "cell_type": "code",
   "execution_count": null,
   "metadata": {},
   "outputs": [],
   "source": []
  }
 ],
 "metadata": {
  "kernelspec": {
   "display_name": "Python 3",
   "language": "python",
   "name": "python3"
  },
  "language_info": {
   "codemirror_mode": {
    "name": "ipython",
    "version": 3
   },
   "file_extension": ".py",
   "mimetype": "text/x-python",
   "name": "python",
   "nbconvert_exporter": "python",
   "pygments_lexer": "ipython3",
   "version": "3.7.7"
  }
 },
 "nbformat": 4,
 "nbformat_minor": 2
}
