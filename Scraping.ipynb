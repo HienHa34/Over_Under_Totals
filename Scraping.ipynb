{
 "cells": [
  {
   "cell_type": "code",
   "execution_count": 414,
   "metadata": {},
   "outputs": [],
   "source": [
    "import pandas as pd\n",
    "from bs4 import BeautifulSoup\n",
    "import requests\n",
    "import json\n"
   ]
  },
  {
   "cell_type": "code",
   "execution_count": 233,
   "metadata": {},
   "outputs": [],
   "source": [
    "r = requests.get('https://www.rotowire.com/betting/nfl/tables/games-archive.php')\n",
    "content = r.content\n",
    "soup = BeautifulSoup(content,'html.parser')"
   ]
  },
  {
   "cell_type": "code",
   "execution_count": 235,
   "metadata": {},
   "outputs": [],
   "source": [
    "raw = json.loads(soup.text)"
   ]
  },
  {
   "cell_type": "code",
   "execution_count": 236,
   "metadata": {},
   "outputs": [],
   "source": [
    "df = pd.DataFrame(raw)"
   ]
  },
  {
   "cell_type": "code",
   "execution_count": 239,
   "metadata": {},
   "outputs": [
    {
     "data": {
      "text/html": [
       "<div>\n",
       "<style scoped>\n",
       "    .dataframe tbody tr th:only-of-type {\n",
       "        vertical-align: middle;\n",
       "    }\n",
       "\n",
       "    .dataframe tbody tr th {\n",
       "        vertical-align: top;\n",
       "    }\n",
       "\n",
       "    .dataframe thead th {\n",
       "        text-align: right;\n",
       "    }\n",
       "</style>\n",
       "<table border=\"1\" class=\"dataframe\">\n",
       "  <thead>\n",
       "    <tr style=\"text-align: right;\">\n",
       "      <th></th>\n",
       "      <th>season</th>\n",
       "      <th>week</th>\n",
       "      <th>game_date</th>\n",
       "      <th>game_time</th>\n",
       "      <th>home_team_id</th>\n",
       "      <th>home_team_stats_id</th>\n",
       "      <th>home_team_abbrev</th>\n",
       "      <th>visit_team_id</th>\n",
       "      <th>visit_team_stats_id</th>\n",
       "      <th>visit_team_abbrev</th>\n",
       "      <th>...</th>\n",
       "      <th>kickoff</th>\n",
       "      <th>month</th>\n",
       "      <th>start</th>\n",
       "      <th>score</th>\n",
       "      <th>total</th>\n",
       "      <th>spread</th>\n",
       "      <th>over_hit</th>\n",
       "      <th>under_hit</th>\n",
       "      <th>favorite_covered</th>\n",
       "      <th>underdog_covered</th>\n",
       "    </tr>\n",
       "  </thead>\n",
       "  <tbody>\n",
       "    <tr>\n",
       "      <td>0</td>\n",
       "      <td>1983</td>\n",
       "      <td>1</td>\n",
       "      <td>1983-09-03 00:00:00</td>\n",
       "      <td>18</td>\n",
       "      <td>27</td>\n",
       "      <td>SF</td>\n",
       "      <td>SF</td>\n",
       "      <td>23</td>\n",
       "      <td>PHI</td>\n",
       "      <td>PHI</td>\n",
       "      <td>...</td>\n",
       "      <td>Sep 3 6:00 PM</td>\n",
       "      <td>September</td>\n",
       "      <td>Night</td>\n",
       "      <td>22-17</td>\n",
       "      <td>39</td>\n",
       "      <td>4.0</td>\n",
       "      <td>0</td>\n",
       "      <td>1</td>\n",
       "      <td>0</td>\n",
       "      <td>1</td>\n",
       "    </tr>\n",
       "    <tr>\n",
       "      <td>1</td>\n",
       "      <td>1983</td>\n",
       "      <td>1</td>\n",
       "      <td>1983-09-04 00:00:00</td>\n",
       "      <td>12</td>\n",
       "      <td>19</td>\n",
       "      <td>NO</td>\n",
       "      <td>NO</td>\n",
       "      <td>1</td>\n",
       "      <td>ARI</td>\n",
       "      <td>SLC</td>\n",
       "      <td>...</td>\n",
       "      <td>Sep 4 12:00 PM</td>\n",
       "      <td>September</td>\n",
       "      <td>Day</td>\n",
       "      <td>17-28</td>\n",
       "      <td>45</td>\n",
       "      <td>3.0</td>\n",
       "      <td>1</td>\n",
       "      <td>0</td>\n",
       "      <td>1</td>\n",
       "      <td>0</td>\n",
       "    </tr>\n",
       "    <tr>\n",
       "      <td>2</td>\n",
       "      <td>1983</td>\n",
       "      <td>1</td>\n",
       "      <td>1983-09-04 00:00:00</td>\n",
       "      <td>13</td>\n",
       "      <td>4</td>\n",
       "      <td>BUF</td>\n",
       "      <td>BUF</td>\n",
       "      <td>16</td>\n",
       "      <td>MIA</td>\n",
       "      <td>MIA</td>\n",
       "      <td>...</td>\n",
       "      <td>Sep 4 1:00 PM</td>\n",
       "      <td>September</td>\n",
       "      <td>Day</td>\n",
       "      <td>12-0</td>\n",
       "      <td>12</td>\n",
       "      <td>4.0</td>\n",
       "      <td>0</td>\n",
       "      <td>1</td>\n",
       "      <td>0</td>\n",
       "      <td>1</td>\n",
       "    </tr>\n",
       "    <tr>\n",
       "      <td>3</td>\n",
       "      <td>1983</td>\n",
       "      <td>1</td>\n",
       "      <td>1983-09-04 00:00:00</td>\n",
       "      <td>13</td>\n",
       "      <td>6</td>\n",
       "      <td>CHI</td>\n",
       "      <td>CHI</td>\n",
       "      <td>2</td>\n",
       "      <td>ATL</td>\n",
       "      <td>ATL</td>\n",
       "      <td>...</td>\n",
       "      <td>Sep 4 1:00 PM</td>\n",
       "      <td>September</td>\n",
       "      <td>Day</td>\n",
       "      <td>20-17</td>\n",
       "      <td>37</td>\n",
       "      <td>1.5</td>\n",
       "      <td>0</td>\n",
       "      <td>1</td>\n",
       "      <td>0</td>\n",
       "      <td>1</td>\n",
       "    </tr>\n",
       "    <tr>\n",
       "      <td>4</td>\n",
       "      <td>1983</td>\n",
       "      <td>1</td>\n",
       "      <td>1983-09-04 00:00:00</td>\n",
       "      <td>13</td>\n",
       "      <td>7</td>\n",
       "      <td>CIN</td>\n",
       "      <td>CIN</td>\n",
       "      <td>22</td>\n",
       "      <td>OAK</td>\n",
       "      <td>LAD</td>\n",
       "      <td>...</td>\n",
       "      <td>Sep 4 1:00 PM</td>\n",
       "      <td>September</td>\n",
       "      <td>Day</td>\n",
       "      <td>20-10</td>\n",
       "      <td>30</td>\n",
       "      <td>2.0</td>\n",
       "      <td>0</td>\n",
       "      <td>1</td>\n",
       "      <td>0</td>\n",
       "      <td>1</td>\n",
       "    </tr>\n",
       "  </tbody>\n",
       "</table>\n",
       "<p>5 rows × 32 columns</p>\n",
       "</div>"
      ],
      "text/plain": [
       "  season week            game_date game_time home_team_id home_team_stats_id  \\\n",
       "0   1983    1  1983-09-03 00:00:00        18           27                 SF   \n",
       "1   1983    1  1983-09-04 00:00:00        12           19                 NO   \n",
       "2   1983    1  1983-09-04 00:00:00        13            4                BUF   \n",
       "3   1983    1  1983-09-04 00:00:00        13            6                CHI   \n",
       "4   1983    1  1983-09-04 00:00:00        13            7                CIN   \n",
       "\n",
       "  home_team_abbrev visit_team_id visit_team_stats_id visit_team_abbrev  ...  \\\n",
       "0               SF            23                 PHI               PHI  ...   \n",
       "1               NO             1                 ARI               SLC  ...   \n",
       "2              BUF            16                 MIA               MIA  ...   \n",
       "3              CHI             2                 ATL               ATL  ...   \n",
       "4              CIN            22                 OAK               LAD  ...   \n",
       "\n",
       "          kickoff      month  start  score total spread over_hit under_hit  \\\n",
       "0   Sep 3 6:00 PM  September  Night  22-17    39    4.0        0         1   \n",
       "1  Sep 4 12:00 PM  September    Day  17-28    45    3.0        1         0   \n",
       "2   Sep 4 1:00 PM  September    Day   12-0    12    4.0        0         1   \n",
       "3   Sep 4 1:00 PM  September    Day  20-17    37    1.5        0         1   \n",
       "4   Sep 4 1:00 PM  September    Day  20-10    30    2.0        0         1   \n",
       "\n",
       "  favorite_covered underdog_covered  \n",
       "0                0                1  \n",
       "1                1                0  \n",
       "2                0                1  \n",
       "3                0                1  \n",
       "4                0                1  \n",
       "\n",
       "[5 rows x 32 columns]"
      ]
     },
     "execution_count": 239,
     "metadata": {},
     "output_type": "execute_result"
    }
   ],
   "source": [
    "df.head()"
   ]
  },
  {
   "cell_type": "code",
   "execution_count": 237,
   "metadata": {
    "scrolled": true
   },
   "outputs": [
    {
     "data": {
      "text/plain": [
       "(9113, 32)"
      ]
     },
     "execution_count": 237,
     "metadata": {},
     "output_type": "execute_result"
    }
   ],
   "source": [
    "df.shape"
   ]
  },
  {
   "cell_type": "code",
   "execution_count": 238,
   "metadata": {
    "scrolled": true
   },
   "outputs": [
    {
     "data": {
      "text/plain": [
       "Index(['season', 'week', 'game_date', 'game_time', 'home_team_id',\n",
       "       'home_team_stats_id', 'home_team_abbrev', 'visit_team_id',\n",
       "       'visit_team_stats_id', 'visit_team_abbrev', 'home_team_score',\n",
       "       'visit_team_score', 'game_over_under', 'line', 'surface',\n",
       "       'weather_icon', 'temperature', 'precip_probability', 'precip_type',\n",
       "       'wind_speed', 'wind_bearing', 'name', 'kickoff', 'month', 'start',\n",
       "       'score', 'total', 'spread', 'over_hit', 'under_hit', 'favorite_covered',\n",
       "       'underdog_covered'],\n",
       "      dtype='object')"
      ]
     },
     "execution_count": 238,
     "metadata": {},
     "output_type": "execute_result"
    }
   ],
   "source": [
    "df.columns"
   ]
  },
  {
   "cell_type": "code",
   "execution_count": 539,
   "metadata": {},
   "outputs": [],
   "source": [
    "df.to_csv('archive.csv')"
   ]
  }
 ],
 "metadata": {
  "kernelspec": {
   "display_name": "Python 3",
   "language": "python",
   "name": "python3"
  },
  "language_info": {
   "codemirror_mode": {
    "name": "ipython",
    "version": 3
   },
   "file_extension": ".py",
   "mimetype": "text/x-python",
   "name": "python",
   "nbconvert_exporter": "python",
   "pygments_lexer": "ipython3",
   "version": "3.7.7"
  }
 },
 "nbformat": 4,
 "nbformat_minor": 2
}
