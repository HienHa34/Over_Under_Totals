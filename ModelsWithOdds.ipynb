{
 "cells": [
  {
   "cell_type": "code",
   "execution_count": 1,
   "metadata": {},
   "outputs": [],
   "source": [
    "import pandas as pd \n",
    "import numpy as np\n",
    "from sklearn.preprocessing import StandardScaler\n",
    "from statsmodels.tools import add_constant\n",
    "from statsmodels.discrete.discrete_model import Logit\n",
    "from sklearn.linear_model import LogisticRegression, Lasso, Ridge\n",
    "from sklearn.model_selection import train_test_split, cross_val_score\n",
    "from sklearn.tree import DecisionTreeClassifier\n",
    "from sklearn.ensemble import RandomForestClassifier,GradientBoostingClassifier, AdaBoostClassifier \n",
    "from sklearn.metrics import roc_auc_score,accuracy_score, precision_score,recall_score, f1_score\n",
    "from sklearn.model_selection import RandomizedSearchCV, GridSearchCV\n",
    "import matplotlib.pyplot as plt\n",
    "%matplotlib inline\n",
    "plt.style.use('ggplot')"
   ]
  },
  {
   "cell_type": "code",
   "execution_count": 2,
   "metadata": {},
   "outputs": [],
   "source": [
    "import warnings\n",
    "warnings.filterwarnings(\"ignore\", category=FutureWarning)"
   ]
  },
  {
   "cell_type": "code",
   "execution_count": 3,
   "metadata": {},
   "outputs": [],
   "source": [
    "def feature_importances_plot(model,names):\n",
    "    feature_importances = 100*model.feature_importances_ / np.sum(gb.feature_importances_)\n",
    "    feature_importances, feature_names, feature_idxs = \\\n",
    "    zip(*sorted(zip(feature_importances, names, range(len(names)))))\n",
    "\n",
    "    width = 0.8\n",
    "\n",
    "    idx = np.arange(len(names))\n",
    "    plt.barh(idx, feature_importances, align='center', color = 'cyan')\n",
    "    plt.yticks(idx, feature_names)\n",
    "\n",
    "    plt.title(\"Feature Importances\")\n",
    "    plt.xlabel('Relative Importance of Feature', fontsize=14)\n",
    "    plt.ylabel('Feature Name', fontsize=14)"
   ]
  },
  {
   "cell_type": "markdown",
   "metadata": {},
   "source": [
    "#### Dataframe with less features"
   ]
  },
  {
   "cell_type": "code",
   "execution_count": 4,
   "metadata": {},
   "outputs": [],
   "source": [
    "less = pd.read_csv('games_and_odds.csv')"
   ]
  },
  {
   "cell_type": "markdown",
   "metadata": {},
   "source": [
    "#### Dataframe with more features"
   ]
  },
  {
   "cell_type": "code",
   "execution_count": 5,
   "metadata": {},
   "outputs": [],
   "source": [
    "more = pd.read_csv('games_and_odds2.csv')"
   ]
  },
  {
   "cell_type": "markdown",
   "metadata": {},
   "source": [
    "#### Drop rows that are draws for over/under"
   ]
  },
  {
   "cell_type": "code",
   "execution_count": 6,
   "metadata": {},
   "outputs": [],
   "source": [
    "less.drop(less[(less.over_hit == 0) & (less.under_hit == 0)].index,inplace = True)"
   ]
  },
  {
   "cell_type": "code",
   "execution_count": 7,
   "metadata": {},
   "outputs": [],
   "source": [
    "more.drop(more[(more.over_hit == 0) & (more.under_hit == 0)].index,inplace = True)"
   ]
  },
  {
   "cell_type": "code",
   "execution_count": 8,
   "metadata": {},
   "outputs": [
    {
     "data": {
      "text/plain": [
       "(8873, 26)"
      ]
     },
     "execution_count": 8,
     "metadata": {},
     "output_type": "execute_result"
    }
   ],
   "source": [
    "less.shape"
   ]
  },
  {
   "cell_type": "code",
   "execution_count": 9,
   "metadata": {},
   "outputs": [
    {
     "data": {
      "text/plain": [
       "(8873, 46)"
      ]
     },
     "execution_count": 9,
     "metadata": {},
     "output_type": "execute_result"
    }
   ],
   "source": [
    "more.shape"
   ]
  },
  {
   "cell_type": "code",
   "execution_count": 10,
   "metadata": {},
   "outputs": [],
   "source": [
    "less.drop( ['Unnamed: 0',  'Date', \n",
    "       'home_team_score', 'visit_team_score', \n",
    "       'name',  'under_hit', 'favorite_covered',\n",
    "       'underdog_covered'], axis = 1, inplace = True)"
   ]
  },
  {
   "cell_type": "code",
   "execution_count": 61,
   "metadata": {},
   "outputs": [
    {
     "data": {
      "text/plain": [
       "(8873, 18)"
      ]
     },
     "execution_count": 61,
     "metadata": {},
     "output_type": "execute_result"
    }
   ],
   "source": [
    "less.shape"
   ]
  },
  {
   "cell_type": "code",
   "execution_count": 11,
   "metadata": {},
   "outputs": [],
   "source": [
    "more.drop( ['Unnamed: 0',  'Date', \n",
    "       'home_team_score', 'visit_team_score', \n",
    "       'name',  'under_hit', 'favorite_covered',\n",
    "       'underdog_covered'], axis = 1, inplace = True)"
   ]
  },
  {
   "cell_type": "code",
   "execution_count": 62,
   "metadata": {},
   "outputs": [
    {
     "data": {
      "text/plain": [
       "(8873, 38)"
      ]
     },
     "execution_count": 62,
     "metadata": {},
     "output_type": "execute_result"
    }
   ],
   "source": [
    "more.shape"
   ]
  },
  {
   "cell_type": "code",
   "execution_count": 12,
   "metadata": {
    "scrolled": false
   },
   "outputs": [
    {
     "data": {
      "text/html": [
       "<div>\n",
       "<style scoped>\n",
       "    .dataframe tbody tr th:only-of-type {\n",
       "        vertical-align: middle;\n",
       "    }\n",
       "\n",
       "    .dataframe tbody tr th {\n",
       "        vertical-align: top;\n",
       "    }\n",
       "\n",
       "    .dataframe thead th {\n",
       "        text-align: right;\n",
       "    }\n",
       "</style>\n",
       "<table border=\"1\" class=\"dataframe\">\n",
       "  <thead>\n",
       "    <tr style=\"text-align: right;\">\n",
       "      <th></th>\n",
       "      <th>season</th>\n",
       "      <th>week</th>\n",
       "      <th>Home Team</th>\n",
       "      <th>Away Team</th>\n",
       "      <th>game_over_under</th>\n",
       "      <th>line</th>\n",
       "      <th>surface</th>\n",
       "      <th>weather_icon</th>\n",
       "      <th>temperature</th>\n",
       "      <th>wind_speed</th>\n",
       "      <th>wind_bearing</th>\n",
       "      <th>month</th>\n",
       "      <th>start</th>\n",
       "      <th>over_hit</th>\n",
       "      <th>Total Score Over Close</th>\n",
       "      <th>Total Score Under Close</th>\n",
       "      <th>Total Score Over Odds Range</th>\n",
       "      <th>Total Score Under Odds Range</th>\n",
       "    </tr>\n",
       "  </thead>\n",
       "  <tbody>\n",
       "    <tr>\n",
       "      <td>0</td>\n",
       "      <td>1983</td>\n",
       "      <td>1</td>\n",
       "      <td>SF</td>\n",
       "      <td>PHI</td>\n",
       "      <td>40.0</td>\n",
       "      <td>-4.0</td>\n",
       "      <td>Grass</td>\n",
       "      <td>Clear Day</td>\n",
       "      <td>73.32</td>\n",
       "      <td>6.12</td>\n",
       "      <td>282.0</td>\n",
       "      <td>September</td>\n",
       "      <td>Night</td>\n",
       "      <td>0</td>\n",
       "      <td>1.936783</td>\n",
       "      <td>1.93928</td>\n",
       "      <td>0.070516</td>\n",
       "      <td>0.031869</td>\n",
       "    </tr>\n",
       "    <tr>\n",
       "      <td>1</td>\n",
       "      <td>1983</td>\n",
       "      <td>1</td>\n",
       "      <td>NO</td>\n",
       "      <td>ARI</td>\n",
       "      <td>37.0</td>\n",
       "      <td>-3.0</td>\n",
       "      <td>Dome</td>\n",
       "      <td>Dome</td>\n",
       "      <td>70.00</td>\n",
       "      <td>0.00</td>\n",
       "      <td>0.0</td>\n",
       "      <td>September</td>\n",
       "      <td>Day</td>\n",
       "      <td>1</td>\n",
       "      <td>1.936783</td>\n",
       "      <td>1.93928</td>\n",
       "      <td>0.070516</td>\n",
       "      <td>0.031869</td>\n",
       "    </tr>\n",
       "    <tr>\n",
       "      <td>2</td>\n",
       "      <td>1983</td>\n",
       "      <td>1</td>\n",
       "      <td>BUF</td>\n",
       "      <td>MIA</td>\n",
       "      <td>36.0</td>\n",
       "      <td>4.0</td>\n",
       "      <td>Turf</td>\n",
       "      <td>Partly Cloudy Day</td>\n",
       "      <td>78.95</td>\n",
       "      <td>10.67</td>\n",
       "      <td>194.0</td>\n",
       "      <td>September</td>\n",
       "      <td>Day</td>\n",
       "      <td>0</td>\n",
       "      <td>1.936783</td>\n",
       "      <td>1.93928</td>\n",
       "      <td>0.070516</td>\n",
       "      <td>0.031869</td>\n",
       "    </tr>\n",
       "    <tr>\n",
       "      <td>3</td>\n",
       "      <td>1983</td>\n",
       "      <td>1</td>\n",
       "      <td>CHI</td>\n",
       "      <td>ATL</td>\n",
       "      <td>38.0</td>\n",
       "      <td>-1.5</td>\n",
       "      <td>Grass</td>\n",
       "      <td>Clear Day</td>\n",
       "      <td>86.66</td>\n",
       "      <td>11.04</td>\n",
       "      <td>196.0</td>\n",
       "      <td>September</td>\n",
       "      <td>Day</td>\n",
       "      <td>0</td>\n",
       "      <td>1.936783</td>\n",
       "      <td>1.93928</td>\n",
       "      <td>0.070516</td>\n",
       "      <td>0.031869</td>\n",
       "    </tr>\n",
       "    <tr>\n",
       "      <td>4</td>\n",
       "      <td>1983</td>\n",
       "      <td>1</td>\n",
       "      <td>CIN</td>\n",
       "      <td>OAK</td>\n",
       "      <td>42.0</td>\n",
       "      <td>-2.0</td>\n",
       "      <td>Turf</td>\n",
       "      <td>Clear Day</td>\n",
       "      <td>82.18</td>\n",
       "      <td>7.90</td>\n",
       "      <td>194.0</td>\n",
       "      <td>September</td>\n",
       "      <td>Day</td>\n",
       "      <td>0</td>\n",
       "      <td>1.936783</td>\n",
       "      <td>1.93928</td>\n",
       "      <td>0.070516</td>\n",
       "      <td>0.031869</td>\n",
       "    </tr>\n",
       "  </tbody>\n",
       "</table>\n",
       "</div>"
      ],
      "text/plain": [
       "   season  week Home Team Away Team  game_over_under  line surface  \\\n",
       "0    1983     1        SF       PHI             40.0  -4.0   Grass   \n",
       "1    1983     1        NO       ARI             37.0  -3.0    Dome   \n",
       "2    1983     1       BUF       MIA             36.0   4.0    Turf   \n",
       "3    1983     1       CHI       ATL             38.0  -1.5   Grass   \n",
       "4    1983     1       CIN       OAK             42.0  -2.0    Turf   \n",
       "\n",
       "        weather_icon  temperature  wind_speed  wind_bearing      month  start  \\\n",
       "0          Clear Day        73.32        6.12         282.0  September  Night   \n",
       "1               Dome        70.00        0.00           0.0  September    Day   \n",
       "2  Partly Cloudy Day        78.95       10.67         194.0  September    Day   \n",
       "3          Clear Day        86.66       11.04         196.0  September    Day   \n",
       "4          Clear Day        82.18        7.90         194.0  September    Day   \n",
       "\n",
       "   over_hit  Total Score Over Close  Total Score Under Close  \\\n",
       "0         0                1.936783                  1.93928   \n",
       "1         1                1.936783                  1.93928   \n",
       "2         0                1.936783                  1.93928   \n",
       "3         0                1.936783                  1.93928   \n",
       "4         0                1.936783                  1.93928   \n",
       "\n",
       "   Total Score Over Odds Range  Total Score Under Odds Range  \n",
       "0                     0.070516                      0.031869  \n",
       "1                     0.070516                      0.031869  \n",
       "2                     0.070516                      0.031869  \n",
       "3                     0.070516                      0.031869  \n",
       "4                     0.070516                      0.031869  "
      ]
     },
     "execution_count": 12,
     "metadata": {},
     "output_type": "execute_result"
    }
   ],
   "source": [
    "less.head()"
   ]
  },
  {
   "cell_type": "code",
   "execution_count": 13,
   "metadata": {},
   "outputs": [
    {
     "data": {
      "text/html": [
       "<div>\n",
       "<style scoped>\n",
       "    .dataframe tbody tr th:only-of-type {\n",
       "        vertical-align: middle;\n",
       "    }\n",
       "\n",
       "    .dataframe tbody tr th {\n",
       "        vertical-align: top;\n",
       "    }\n",
       "\n",
       "    .dataframe thead th {\n",
       "        text-align: right;\n",
       "    }\n",
       "</style>\n",
       "<table border=\"1\" class=\"dataframe\">\n",
       "  <thead>\n",
       "    <tr style=\"text-align: right;\">\n",
       "      <th></th>\n",
       "      <th>season</th>\n",
       "      <th>week</th>\n",
       "      <th>Home Team</th>\n",
       "      <th>Away Team</th>\n",
       "      <th>game_over_under</th>\n",
       "      <th>line</th>\n",
       "      <th>surface</th>\n",
       "      <th>weather_icon</th>\n",
       "      <th>temperature</th>\n",
       "      <th>wind_speed</th>\n",
       "      <th>...</th>\n",
       "      <th>Away Line Odds Max</th>\n",
       "      <th>Away Line Odds Close</th>\n",
       "      <th>Total Score Over Open</th>\n",
       "      <th>Total Score Over Min</th>\n",
       "      <th>Total Score Over Max</th>\n",
       "      <th>Total Score Over Close</th>\n",
       "      <th>Total Score Under Open</th>\n",
       "      <th>Total Score Under Min</th>\n",
       "      <th>Total Score Under Max</th>\n",
       "      <th>Total Score Under Close</th>\n",
       "    </tr>\n",
       "  </thead>\n",
       "  <tbody>\n",
       "    <tr>\n",
       "      <td>0</td>\n",
       "      <td>1983</td>\n",
       "      <td>1</td>\n",
       "      <td>SF</td>\n",
       "      <td>PHI</td>\n",
       "      <td>40.0</td>\n",
       "      <td>-4.0</td>\n",
       "      <td>Grass</td>\n",
       "      <td>Clear Day</td>\n",
       "      <td>73.32</td>\n",
       "      <td>6.12</td>\n",
       "      <td>...</td>\n",
       "      <td>1.953855</td>\n",
       "      <td>1.945161</td>\n",
       "      <td>1.94425</td>\n",
       "      <td>1.905269</td>\n",
       "      <td>1.97977</td>\n",
       "      <td>1.940806</td>\n",
       "      <td>1.939312</td>\n",
       "      <td>1.929397</td>\n",
       "      <td>1.95124</td>\n",
       "      <td>1.943486</td>\n",
       "    </tr>\n",
       "    <tr>\n",
       "      <td>1</td>\n",
       "      <td>1983</td>\n",
       "      <td>1</td>\n",
       "      <td>NO</td>\n",
       "      <td>ARI</td>\n",
       "      <td>37.0</td>\n",
       "      <td>-3.0</td>\n",
       "      <td>Dome</td>\n",
       "      <td>Dome</td>\n",
       "      <td>70.00</td>\n",
       "      <td>0.00</td>\n",
       "      <td>...</td>\n",
       "      <td>1.953855</td>\n",
       "      <td>1.945161</td>\n",
       "      <td>1.94425</td>\n",
       "      <td>1.905269</td>\n",
       "      <td>1.97977</td>\n",
       "      <td>1.940806</td>\n",
       "      <td>1.939312</td>\n",
       "      <td>1.929397</td>\n",
       "      <td>1.95124</td>\n",
       "      <td>1.943486</td>\n",
       "    </tr>\n",
       "    <tr>\n",
       "      <td>2</td>\n",
       "      <td>1983</td>\n",
       "      <td>1</td>\n",
       "      <td>BUF</td>\n",
       "      <td>MIA</td>\n",
       "      <td>36.0</td>\n",
       "      <td>4.0</td>\n",
       "      <td>Turf</td>\n",
       "      <td>Partly Cloudy Day</td>\n",
       "      <td>78.95</td>\n",
       "      <td>10.67</td>\n",
       "      <td>...</td>\n",
       "      <td>1.953855</td>\n",
       "      <td>1.945161</td>\n",
       "      <td>1.94425</td>\n",
       "      <td>1.905269</td>\n",
       "      <td>1.97977</td>\n",
       "      <td>1.940806</td>\n",
       "      <td>1.939312</td>\n",
       "      <td>1.929397</td>\n",
       "      <td>1.95124</td>\n",
       "      <td>1.943486</td>\n",
       "    </tr>\n",
       "    <tr>\n",
       "      <td>3</td>\n",
       "      <td>1983</td>\n",
       "      <td>1</td>\n",
       "      <td>CHI</td>\n",
       "      <td>ATL</td>\n",
       "      <td>38.0</td>\n",
       "      <td>-1.5</td>\n",
       "      <td>Grass</td>\n",
       "      <td>Clear Day</td>\n",
       "      <td>86.66</td>\n",
       "      <td>11.04</td>\n",
       "      <td>...</td>\n",
       "      <td>1.953855</td>\n",
       "      <td>1.945161</td>\n",
       "      <td>1.94425</td>\n",
       "      <td>1.905269</td>\n",
       "      <td>1.97977</td>\n",
       "      <td>1.940806</td>\n",
       "      <td>1.939312</td>\n",
       "      <td>1.929397</td>\n",
       "      <td>1.95124</td>\n",
       "      <td>1.943486</td>\n",
       "    </tr>\n",
       "    <tr>\n",
       "      <td>4</td>\n",
       "      <td>1983</td>\n",
       "      <td>1</td>\n",
       "      <td>CIN</td>\n",
       "      <td>OAK</td>\n",
       "      <td>42.0</td>\n",
       "      <td>-2.0</td>\n",
       "      <td>Turf</td>\n",
       "      <td>Clear Day</td>\n",
       "      <td>82.18</td>\n",
       "      <td>7.90</td>\n",
       "      <td>...</td>\n",
       "      <td>1.953855</td>\n",
       "      <td>1.945161</td>\n",
       "      <td>1.94425</td>\n",
       "      <td>1.905269</td>\n",
       "      <td>1.97977</td>\n",
       "      <td>1.940806</td>\n",
       "      <td>1.939312</td>\n",
       "      <td>1.929397</td>\n",
       "      <td>1.95124</td>\n",
       "      <td>1.943486</td>\n",
       "    </tr>\n",
       "  </tbody>\n",
       "</table>\n",
       "<p>5 rows × 38 columns</p>\n",
       "</div>"
      ],
      "text/plain": [
       "   season  week Home Team Away Team  game_over_under  line surface  \\\n",
       "0    1983     1        SF       PHI             40.0  -4.0   Grass   \n",
       "1    1983     1        NO       ARI             37.0  -3.0    Dome   \n",
       "2    1983     1       BUF       MIA             36.0   4.0    Turf   \n",
       "3    1983     1       CHI       ATL             38.0  -1.5   Grass   \n",
       "4    1983     1       CIN       OAK             42.0  -2.0    Turf   \n",
       "\n",
       "        weather_icon  temperature  wind_speed  ...  Away Line Odds Max  \\\n",
       "0          Clear Day        73.32        6.12  ...            1.953855   \n",
       "1               Dome        70.00        0.00  ...            1.953855   \n",
       "2  Partly Cloudy Day        78.95       10.67  ...            1.953855   \n",
       "3          Clear Day        86.66       11.04  ...            1.953855   \n",
       "4          Clear Day        82.18        7.90  ...            1.953855   \n",
       "\n",
       "  Away Line Odds Close Total Score Over Open  Total Score Over Min  \\\n",
       "0             1.945161               1.94425              1.905269   \n",
       "1             1.945161               1.94425              1.905269   \n",
       "2             1.945161               1.94425              1.905269   \n",
       "3             1.945161               1.94425              1.905269   \n",
       "4             1.945161               1.94425              1.905269   \n",
       "\n",
       "   Total Score Over Max  Total Score Over Close  Total Score Under Open  \\\n",
       "0               1.97977                1.940806                1.939312   \n",
       "1               1.97977                1.940806                1.939312   \n",
       "2               1.97977                1.940806                1.939312   \n",
       "3               1.97977                1.940806                1.939312   \n",
       "4               1.97977                1.940806                1.939312   \n",
       "\n",
       "   Total Score Under Min  Total Score Under Max  Total Score Under Close  \n",
       "0               1.929397                1.95124                 1.943486  \n",
       "1               1.929397                1.95124                 1.943486  \n",
       "2               1.929397                1.95124                 1.943486  \n",
       "3               1.929397                1.95124                 1.943486  \n",
       "4               1.929397                1.95124                 1.943486  \n",
       "\n",
       "[5 rows x 38 columns]"
      ]
     },
     "execution_count": 13,
     "metadata": {},
     "output_type": "execute_result"
    }
   ],
   "source": [
    "more.head()"
   ]
  },
  {
   "cell_type": "markdown",
   "metadata": {},
   "source": [
    "#### Functions to ouput Accuracy and F1 Scores"
   ]
  },
  {
   "cell_type": "code",
   "execution_count": 14,
   "metadata": {},
   "outputs": [],
   "source": [
    "def print_cv_scores(model,X_train,y_train ):\n",
    "    f1= cross_val_score(model, X_train,y_train, cv = 10, scoring ='f1')\n",
    "    precision = cross_val_score(model,X_train, y_train, cv = 10, scoring = 'precision')\n",
    "    recall = cross_val_score(model,X_train,y_train, cv = 10, scoring = 'recall')\n",
    "    print(f'Average Recall Score : {recall.mean()}')\n",
    "    print(f'Average Precision Score : {precision.mean()}')   \n",
    "    print(f'Average F1 Score : {f1.mean()}') \n",
    "    print(f'F1 Scores:{f1}')\n"
   ]
  },
  {
   "cell_type": "markdown",
   "metadata": {},
   "source": [
    "### Training Sets With Less Features"
   ]
  },
  {
   "cell_type": "markdown",
   "metadata": {},
   "source": [
    "#### without dummies"
   ]
  },
  {
   "cell_type": "code",
   "execution_count": 16,
   "metadata": {},
   "outputs": [],
   "source": [
    "X = less.drop(['over_hit','season','week','Home Team', 'Away Team',\n",
    "               'surface','weather_icon','month','start'], axis = 1)\n",
    "y = less.over_hit"
   ]
  },
  {
   "cell_type": "code",
   "execution_count": 48,
   "metadata": {},
   "outputs": [
    {
     "data": {
      "text/plain": [
       "9"
      ]
     },
     "execution_count": 48,
     "metadata": {},
     "output_type": "execute_result"
    }
   ],
   "source": [
    "len(X.columns)"
   ]
  },
  {
   "cell_type": "code",
   "execution_count": 17,
   "metadata": {},
   "outputs": [],
   "source": [
    "X_train, X_test, y_train, y_test = train_test_split(X,y,test_size = 0.2)"
   ]
  },
  {
   "cell_type": "code",
   "execution_count": 34,
   "metadata": {},
   "outputs": [
    {
     "data": {
      "text/plain": [
       "9"
      ]
     },
     "execution_count": 34,
     "metadata": {},
     "output_type": "execute_result"
    }
   ],
   "source": [
    "len(X_train.columns)"
   ]
  },
  {
   "cell_type": "markdown",
   "metadata": {},
   "source": [
    "#### with surface, weather, and start dummies"
   ]
  },
  {
   "cell_type": "code",
   "execution_count": 354,
   "metadata": {},
   "outputs": [],
   "source": [
    "dummies1 = pd.get_dummies(less['surface'],prefix ='surface')\n",
    "dummies2 = pd.get_dummies(less['weather_icon'], prefix = 'weather')\n",
    "dummies3 = pd.get_dummies(less['start'], prefix = 'start')\n",
    "X_dummies = X.join(dummies1.loc[:,'surface_Grass':])\n",
    "X_dummies = X_dummies.join(dummies2.loc[:, 'weather_Clear Night':])\n",
    "X_dummies = X_dummies.join(dummies3.loc[:,'start_Late':])"
   ]
  },
  {
   "cell_type": "code",
   "execution_count": 355,
   "metadata": {},
   "outputs": [],
   "source": [
    "X_dummies_train, X_dummies_test, y_train, y_test = train_test_split(X_dummies,y, test_size = 0.20)"
   ]
  },
  {
   "cell_type": "markdown",
   "metadata": {},
   "source": [
    "### Training Sets With More Features"
   ]
  },
  {
   "cell_type": "markdown",
   "metadata": {},
   "source": [
    "#### without dummies"
   ]
  },
  {
   "cell_type": "code",
   "execution_count": 58,
   "metadata": {},
   "outputs": [],
   "source": [
    "X2 = more.drop(\n",
    "            ['over_hit','season','week','Home Team', 'Away Team','surface','weather_icon','month','start'], \n",
    "            axis = 1)\n",
    "y2 = more.over_hit"
   ]
  },
  {
   "cell_type": "code",
   "execution_count": 59,
   "metadata": {},
   "outputs": [],
   "source": [
    "X2_train, X2_test, y2_train, y2_test = train_test_split(X2,y2,test_size = 0.2)"
   ]
  },
  {
   "cell_type": "code",
   "execution_count": 60,
   "metadata": {},
   "outputs": [
    {
     "data": {
      "text/plain": [
       "29"
      ]
     },
     "execution_count": 60,
     "metadata": {},
     "output_type": "execute_result"
    }
   ],
   "source": [
    "len(X2_train.columns)"
   ]
  },
  {
   "cell_type": "code",
   "execution_count": 31,
   "metadata": {},
   "outputs": [
    {
     "data": {
      "text/plain": [
       "Index(['game_over_under', 'line', 'temperature', 'wind_speed', 'wind_bearing',\n",
       "       'Home Odds Open', 'Home Odds Min', 'Home Odds Max', 'Home Odds Close',\n",
       "       'Away Odds Open', 'Away Odds Min', 'Away Odds Max', 'Away Odds Close',\n",
       "       'Home Line Odds Open', 'Home Line Odds Min', 'Home Line Odds Max',\n",
       "       'Home Line Odds Close', 'Away Line Odds Open', 'Away Line Odds Min',\n",
       "       'Away Line Odds Max', 'Away Line Odds Close', 'Total Score Over Open',\n",
       "       'Total Score Over Min', 'Total Score Over Max',\n",
       "       'Total Score Over Close', 'Total Score Under Open',\n",
       "       'Total Score Under Min', 'Total Score Under Max',\n",
       "       'Total Score Under Close'],\n",
       "      dtype='object')"
      ]
     },
     "execution_count": 31,
     "metadata": {},
     "output_type": "execute_result"
    }
   ],
   "source": [
    "X2_train.columns"
   ]
  },
  {
   "cell_type": "markdown",
   "metadata": {},
   "source": [
    "#### with dummies"
   ]
  },
  {
   "cell_type": "code",
   "execution_count": 63,
   "metadata": {},
   "outputs": [],
   "source": [
    "X2_dummies = X2.join(dummies1.loc[:,'surface_Grass':])\n",
    "X2_dummies = X2_dummies.join(dummies2.loc[:, 'weather_Clear Night':])\n",
    "X2_dummies = X2_dummies.join(dummies3.loc[:,'start_Late':])"
   ]
  },
  {
   "cell_type": "code",
   "execution_count": 64,
   "metadata": {},
   "outputs": [],
   "source": [
    "X2_dummies_train, X2_dummies_test, y2_train, y2_test = train_test_split(X2_dummies, y2, test_size = 0.20)"
   ]
  },
  {
   "cell_type": "code",
   "execution_count": 65,
   "metadata": {},
   "outputs": [
    {
     "data": {
      "text/plain": [
       "43"
      ]
     },
     "execution_count": 65,
     "metadata": {},
     "output_type": "execute_result"
    }
   ],
   "source": [
    "len(X2_dummies_train.columns)"
   ]
  },
  {
   "cell_type": "markdown",
   "metadata": {},
   "source": [
    "### Logistic Regression Less Features"
   ]
  },
  {
   "cell_type": "markdown",
   "metadata": {},
   "source": [
    "#### without dummies"
   ]
  },
  {
   "cell_type": "markdown",
   "metadata": {},
   "source": [
    "#### Standardized"
   ]
  },
  {
   "cell_type": "code",
   "execution_count": 66,
   "metadata": {},
   "outputs": [],
   "source": [
    "X_train_stand = X_train.copy()\n",
    "X_test_stand = X_test.copy()\n",
    "scale = StandardScaler().fit(X_train_stand)\n",
    "X_train_stand = scale.transform(X_train_stand)\n",
    "X_test_stand = scale.transform(X_test_stand)"
   ]
  },
  {
   "cell_type": "code",
   "execution_count": 67,
   "metadata": {},
   "outputs": [
    {
     "name": "stdout",
     "output_type": "stream",
     "text": [
      "Average Recall Score : 0.3847796879046879\n",
      "Average Precision Score : 0.503493023120033\n",
      "Average F1 Score : 0.43565431549495093\n",
      "F1 Scores:[0.46153846 0.42765273 0.43564356 0.44891641 0.3973064  0.41883117\n",
      " 0.43934426 0.4205298  0.43225806 0.47452229]\n"
     ]
    }
   ],
   "source": [
    "logreg = LogisticRegression(solver = 'lbfgs')\n",
    "print_cv_scores(logreg, X_train_stand, y_train)"
   ]
  },
  {
   "cell_type": "code",
   "execution_count": 68,
   "metadata": {
    "scrolled": true
   },
   "outputs": [
    {
     "name": "stdout",
     "output_type": "stream",
     "text": [
      "Optimization terminated successfully.\n",
      "         Current function value: 0.690905\n",
      "         Iterations 4\n"
     ]
    }
   ],
   "source": [
    "X_const = add_constant(X,prepend =True)\n",
    "logit_model = Logit(y,X_const).fit()"
   ]
  },
  {
   "cell_type": "code",
   "execution_count": 69,
   "metadata": {
    "scrolled": true
   },
   "outputs": [
    {
     "data": {
      "text/html": [
       "<table class=\"simpletable\">\n",
       "<caption>Logit Regression Results</caption>\n",
       "<tr>\n",
       "  <th>Dep. Variable:</th>       <td>over_hit</td>     <th>  No. Observations:  </th>  <td>  8873</td>  \n",
       "</tr>\n",
       "<tr>\n",
       "  <th>Model:</th>                 <td>Logit</td>      <th>  Df Residuals:      </th>  <td>  8863</td>  \n",
       "</tr>\n",
       "<tr>\n",
       "  <th>Method:</th>                 <td>MLE</td>       <th>  Df Model:          </th>  <td>     9</td>  \n",
       "</tr>\n",
       "<tr>\n",
       "  <th>Date:</th>            <td>Thu, 27 Aug 2020</td> <th>  Pseudo R-squ.:     </th> <td>0.003169</td> \n",
       "</tr>\n",
       "<tr>\n",
       "  <th>Time:</th>                <td>17:53:18</td>     <th>  Log-Likelihood:    </th> <td> -6130.4</td> \n",
       "</tr>\n",
       "<tr>\n",
       "  <th>converged:</th>             <td>True</td>       <th>  LL-Null:           </th> <td> -6149.9</td> \n",
       "</tr>\n",
       "<tr>\n",
       "  <th>Covariance Type:</th>     <td>nonrobust</td>    <th>  LLR p-value:       </th> <td>1.164e-05</td>\n",
       "</tr>\n",
       "</table>\n",
       "<table class=\"simpletable\">\n",
       "<tr>\n",
       "                <td></td>                  <th>coef</th>     <th>std err</th>      <th>z</th>      <th>P>|z|</th>  <th>[0.025</th>    <th>0.975]</th>  \n",
       "</tr>\n",
       "<tr>\n",
       "  <th>const</th>                        <td>    7.3262</td> <td>    6.316</td> <td>    1.160</td> <td> 0.246</td> <td>   -5.054</td> <td>   19.706</td>\n",
       "</tr>\n",
       "<tr>\n",
       "  <th>game_over_under</th>              <td>   -0.0206</td> <td>    0.005</td> <td>   -4.399</td> <td> 0.000</td> <td>   -0.030</td> <td>   -0.011</td>\n",
       "</tr>\n",
       "<tr>\n",
       "  <th>line</th>                         <td>   -0.0027</td> <td>    0.004</td> <td>   -0.752</td> <td> 0.452</td> <td>   -0.010</td> <td>    0.004</td>\n",
       "</tr>\n",
       "<tr>\n",
       "  <th>temperature</th>                  <td>   -0.0011</td> <td>    0.001</td> <td>   -0.773</td> <td> 0.440</td> <td>   -0.004</td> <td>    0.002</td>\n",
       "</tr>\n",
       "<tr>\n",
       "  <th>wind_speed</th>                   <td>   -0.0239</td> <td>    0.005</td> <td>   -4.859</td> <td> 0.000</td> <td>   -0.034</td> <td>   -0.014</td>\n",
       "</tr>\n",
       "<tr>\n",
       "  <th>wind_bearing</th>                 <td>    0.0003</td> <td>    0.000</td> <td>    1.603</td> <td> 0.109</td> <td> -7.3e-05</td> <td>    0.001</td>\n",
       "</tr>\n",
       "<tr>\n",
       "  <th>Total Score Over Close</th>       <td>   -1.1042</td> <td>    1.819</td> <td>   -0.607</td> <td> 0.544</td> <td>   -4.669</td> <td>    2.461</td>\n",
       "</tr>\n",
       "<tr>\n",
       "  <th>Total Score Under Close</th>      <td>   -2.2448</td> <td>    1.790</td> <td>   -1.254</td> <td> 0.210</td> <td>   -5.754</td> <td>    1.264</td>\n",
       "</tr>\n",
       "<tr>\n",
       "  <th>Total Score Over Odds Range</th>  <td>    1.2549</td> <td>    1.100</td> <td>    1.141</td> <td> 0.254</td> <td>   -0.901</td> <td>    3.411</td>\n",
       "</tr>\n",
       "<tr>\n",
       "  <th>Total Score Under Odds Range</th> <td>    1.8828</td> <td>    1.781</td> <td>    1.057</td> <td> 0.290</td> <td>   -1.607</td> <td>    5.373</td>\n",
       "</tr>\n",
       "</table>"
      ],
      "text/plain": [
       "<class 'statsmodels.iolib.summary.Summary'>\n",
       "\"\"\"\n",
       "                           Logit Regression Results                           \n",
       "==============================================================================\n",
       "Dep. Variable:               over_hit   No. Observations:                 8873\n",
       "Model:                          Logit   Df Residuals:                     8863\n",
       "Method:                           MLE   Df Model:                            9\n",
       "Date:                Thu, 27 Aug 2020   Pseudo R-squ.:                0.003169\n",
       "Time:                        17:53:18   Log-Likelihood:                -6130.4\n",
       "converged:                       True   LL-Null:                       -6149.9\n",
       "Covariance Type:            nonrobust   LLR p-value:                 1.164e-05\n",
       "================================================================================================\n",
       "                                   coef    std err          z      P>|z|      [0.025      0.975]\n",
       "------------------------------------------------------------------------------------------------\n",
       "const                            7.3262      6.316      1.160      0.246      -5.054      19.706\n",
       "game_over_under                 -0.0206      0.005     -4.399      0.000      -0.030      -0.011\n",
       "line                            -0.0027      0.004     -0.752      0.452      -0.010       0.004\n",
       "temperature                     -0.0011      0.001     -0.773      0.440      -0.004       0.002\n",
       "wind_speed                      -0.0239      0.005     -4.859      0.000      -0.034      -0.014\n",
       "wind_bearing                     0.0003      0.000      1.603      0.109    -7.3e-05       0.001\n",
       "Total Score Over Close          -1.1042      1.819     -0.607      0.544      -4.669       2.461\n",
       "Total Score Under Close         -2.2448      1.790     -1.254      0.210      -5.754       1.264\n",
       "Total Score Over Odds Range      1.2549      1.100      1.141      0.254      -0.901       3.411\n",
       "Total Score Under Odds Range     1.8828      1.781      1.057      0.290      -1.607       5.373\n",
       "================================================================================================\n",
       "\"\"\""
      ]
     },
     "execution_count": 69,
     "metadata": {},
     "output_type": "execute_result"
    }
   ],
   "source": [
    "logit_model.summary()"
   ]
  },
  {
   "cell_type": "code",
   "execution_count": null,
   "metadata": {},
   "outputs": [],
   "source": [
    "logreg = LogisticRegression(solver = 'lbfgs')\n",
    "print_test_scores(logreg, X_train_stand, X_test_stand,y_train, y_test)"
   ]
  },
  {
   "cell_type": "markdown",
   "metadata": {},
   "source": [
    "#### Not Standardized"
   ]
  },
  {
   "cell_type": "code",
   "execution_count": 70,
   "metadata": {},
   "outputs": [
    {
     "name": "stdout",
     "output_type": "stream",
     "text": [
      "Average Recall Score : 0.37255487567987566\n",
      "Average Precision Score : 0.5047398318417418\n",
      "Average F1 Score : 0.42815884480630706\n",
      "F1 Scores:[0.46412214 0.41967213 0.40609137 0.44724409 0.38383838 0.42019544\n",
      " 0.4375     0.41008403 0.44186047 0.45098039]\n"
     ]
    }
   ],
   "source": [
    "logreg = LogisticRegression(solver = 'lbfgs')\n",
    "print_cv_scores(logreg, X_train,y_train)"
   ]
  },
  {
   "cell_type": "code",
   "execution_count": null,
   "metadata": {},
   "outputs": [],
   "source": [
    "logreg = LogisticRegression(solver = 'lbfgs')\n",
    "print_test_scores(logreg, X_train, X_test, y_train, y_test)"
   ]
  },
  {
   "cell_type": "markdown",
   "metadata": {},
   "source": [
    "#### with dummies "
   ]
  },
  {
   "cell_type": "code",
   "execution_count": 71,
   "metadata": {
    "scrolled": true
   },
   "outputs": [
    {
     "name": "stdout",
     "output_type": "stream",
     "text": [
      "Average Recall Score : 0.5214581714581714\n",
      "Average Precision Score : 0.516020674298699\n",
      "Average F1 Score : 0.5185144594671721\n",
      "F1 Scores:[0.53611111 0.54338549 0.51948052 0.48245614 0.51267606 0.50909091\n",
      " 0.52149792 0.51841746 0.5        0.54202899]\n"
     ]
    }
   ],
   "source": [
    "logreg = LogisticRegression(solver = 'lbfgs', max_iter = 1000)\n",
    "print_cv_scores(logreg, X_dummies_train,y_train)"
   ]
  },
  {
   "cell_type": "code",
   "execution_count": 155,
   "metadata": {
    "scrolled": false
   },
   "outputs": [
    {
     "name": "stdout",
     "output_type": "stream",
     "text": [
      "Average Recall Score : 0.48010724519033976\n",
      "Average Precision Score : 0.5210394845836572\n",
      "Average F1 Score : 0.4995969415208095\n",
      "F1 Scores:[0.48235294 0.47005988 0.52352941 0.55522388 0.48882265 0.48802395\n",
      " 0.49160305 0.48316252 0.49637155 0.51681957]\n"
     ]
    }
   ],
   "source": [
    "logreg = LogisticRegression(solver = 'lbfgs', max_iter = 2000)\n",
    "print_cv_scores(logreg, X_dummies_train,y_train)"
   ]
  },
  {
   "cell_type": "markdown",
   "metadata": {},
   "source": [
    "#### Lasso For Feature Engineering"
   ]
  },
  {
   "cell_type": "code",
   "execution_count": 180,
   "metadata": {},
   "outputs": [],
   "source": [
    "names = X_train.columns\n",
    "lasso = Lasso(alpha=0.1)\n",
    "lasso_coef = lasso.fit(X_train,y_train).coef_"
   ]
  },
  {
   "cell_type": "code",
   "execution_count": 181,
   "metadata": {
    "scrolled": true
   },
   "outputs": [
    {
     "data": {
      "image/png": "[encoded data removed]",
      "text/plain": [
       "<Figure size 432x288 with 1 Axes>"
      ]
     },
     "metadata": {
      "needs_background": "light"
     },
     "output_type": "display_data"
    }
   ],
   "source": [
    "_ = plt.plot(range(len(names)), lasso_coef)\n",
    "_ = plt.xticks(range(len(names)), names, rotation =60)\n",
    "_=plt.ylabel('Coefficients')"
   ]
  },
  {
   "cell_type": "markdown",
   "metadata": {},
   "source": [
    "#### less features"
   ]
  },
  {
   "cell_type": "code",
   "execution_count": 304,
   "metadata": {},
   "outputs": [],
   "source": [
    "X3 =less[['wind_bearing','game_over_under', 'line','Total Score Over Close','Total Score Under Close',\n",
    "           'Total Score Over Odds Range','Total Score Under Odds Range'\n",
    "         ]].join(dummies1.loc[:,'surface_Grass':])\n",
    "X3 = X3.join(dummies2.loc[:, 'weather_Clear Night':])\n",
    "X3 = X3.join(dummies3.loc[:,'start_Late':])\n",
    "#X3 = X3.join(dummies4.loc[:,'month_December':])\n",
    "#X3 = X3.join(dummies5.loc[:,'week_2':])"
   ]
  },
  {
   "cell_type": "code",
   "execution_count": 305,
   "metadata": {},
   "outputs": [],
   "source": [
    "X3_train, X3_test, y3_train, y3_test = train_test_split(X3, y, test_size = 0.20)"
   ]
  },
  {
   "cell_type": "code",
   "execution_count": 306,
   "metadata": {
    "scrolled": true
   },
   "outputs": [
    {
     "name": "stdout",
     "output_type": "stream",
     "text": [
      "Average Recall Score : 0.5654690857006446\n",
      "Average Precision Score : 0.5185343960460057\n",
      "Average F1 Score : 0.5407413544839523\n",
      "F1 Scores:[0.54847645 0.54520918 0.55764075 0.51023192 0.52785146 0.52558783\n",
      " 0.55689424 0.56126482 0.52998605 0.54427083]\n"
     ]
    }
   ],
   "source": [
    "logreg = LogisticRegression()\n",
    "print_cv_scores(logreg, X3_train, y3_train)"
   ]
  },
  {
   "cell_type": "markdown",
   "metadata": {},
   "source": [
    "With month and week dummies"
   ]
  },
  {
   "cell_type": "code",
   "execution_count": 347,
   "metadata": {},
   "outputs": [],
   "source": [
    "X4 =less[['wind_bearing','game_over_under','line','Total Score Over Close','Total Score Under Close',\n",
    "          'Total Score Over Odds Range', 'Total Score Under Odds Range'\n",
    "         ]].join(dummies1.loc[:,'surface_Grass':])\n",
    "X4 = X4.join(dummies2.loc[:, 'weather_Clear Night':])\n",
    "X4 = X4.join(dummies3.loc[:,'start_Late':])\n",
    "X4 = X4.join(dummies4.loc[:,'month_December':])\n",
    "X4 = X4.join(dummies5.loc[:,'week_2':])"
   ]
  },
  {
   "cell_type": "code",
   "execution_count": 348,
   "metadata": {},
   "outputs": [],
   "source": [
    "X4_train, X4_test, y4_train, y4_test = train_test_split(X4,y, test_size = 0.2)"
   ]
  },
  {
   "cell_type": "code",
   "execution_count": 349,
   "metadata": {
    "scrolled": true
   },
   "outputs": [
    {
     "name": "stdout",
     "output_type": "stream",
     "text": [
      "Average Recall Score : 0.47286001036001035\n",
      "Average Precision Score : 0.5090827197027117\n",
      "Average F1 Score : 0.4900511165437746\n",
      "F1 Scores:[0.48153619 0.47413793 0.53485064 0.4828614  0.47926267 0.46666667\n",
      " 0.4664723  0.49411765 0.50733138 0.51327434]\n"
     ]
    }
   ],
   "source": [
    "logreg = LogisticRegression()\n",
    "print_cv_scores(logreg, X4_train, y4_train)"
   ]
  },
  {
   "cell_type": "markdown",
   "metadata": {},
   "source": [
    "#### more features"
   ]
  },
  {
   "cell_type": "code",
   "execution_count": 359,
   "metadata": {},
   "outputs": [
    {
     "data": {
      "text/plain": [
       "Index(['season', 'week', 'Home Team', 'Away Team', 'game_over_under', 'line',\n",
       "       'surface', 'weather_icon', 'temperature', 'wind_speed', 'wind_bearing',\n",
       "       'month', 'start', 'over_hit', 'Home Odds Open', 'Home Odds Min',\n",
       "       'Home Odds Max', 'Home Odds Close', 'Away Odds Open', 'Away Odds Min',\n",
       "       'Away Odds Max', 'Away Odds Close', 'Home Line Odds Open',\n",
       "       'Home Line Odds Min', 'Home Line Odds Max', 'Home Line Odds Close',\n",
       "       'Away Line Odds Open', 'Away Line Odds Min', 'Away Line Odds Max',\n",
       "       'Away Line Odds Close', 'Total Score Over Open', 'Total Score Over Min',\n",
       "       'Total Score Over Max', 'Total Score Over Close',\n",
       "       'Total Score Under Open', 'Total Score Under Min',\n",
       "       'Total Score Under Max', 'Total Score Under Close'],\n",
       "      dtype='object')"
      ]
     },
     "execution_count": 359,
     "metadata": {},
     "output_type": "execute_result"
    }
   ],
   "source": [
    "more.columns"
   ]
  },
  {
   "cell_type": "code",
   "execution_count": 360,
   "metadata": {},
   "outputs": [],
   "source": [
    "X5 =more[[ 'game_over_under', 'line',\n",
    "        'wind_bearing',\n",
    "        'Home Odds Open', 'Home Odds Min',\n",
    "       'Home Odds Max', 'Home Odds Close', 'Away Odds Open', 'Away Odds Min',\n",
    "       'Away Odds Max', 'Away Odds Close', 'Home Line Odds Open',\n",
    "       'Home Line Odds Min', 'Home Line Odds Max', 'Home Line Odds Close',\n",
    "       'Away Line Odds Open', 'Away Line Odds Min', 'Away Line Odds Max',\n",
    "       'Away Line Odds Close', 'Total Score Over Open', 'Total Score Over Min',\n",
    "       'Total Score Over Max', 'Total Score Over Close',\n",
    "       'Total Score Under Open', 'Total Score Under Min',\n",
    "       'Total Score Under Max', 'Total Score Under Close']\n",
    "         ].join(dummies1.loc[:,'surface_Grass':])\n",
    "X5 = X5.join(dummies2.loc[:, 'weather_Clear Night':])\n",
    "X5 = X5.join(dummies3.loc[:,'start_Late':])"
   ]
  },
  {
   "cell_type": "code",
   "execution_count": 361,
   "metadata": {},
   "outputs": [],
   "source": [
    "X5_train, X5_test, y5_train, y5_test = train_test_split(X5, y, test_size = 0.20)"
   ]
  },
  {
   "cell_type": "code",
   "execution_count": 364,
   "metadata": {},
   "outputs": [
    {
     "name": "stdout",
     "output_type": "stream",
     "text": [
      "Average Recall Score : 0.5575847057505481\n",
      "Average Precision Score : 0.5203030426429843\n",
      "Average F1 Score : 0.5380165711555395\n",
      "F1 Scores:[0.52027972 0.5414966  0.51104972 0.51621622 0.55661664 0.54232804\n",
      " 0.53783784 0.55747126 0.55238095 0.54448871]\n"
     ]
    }
   ],
   "source": [
    "logreg = LogisticRegression()\n",
    "print_cv_scores(logreg, X5_train, y5_train)"
   ]
  },
  {
   "cell_type": "markdown",
   "metadata": {},
   "source": [
    "#### Hyperparameter Tuning"
   ]
  },
  {
   "cell_type": "code",
   "execution_count": 72,
   "metadata": {
    "scrolled": true
   },
   "outputs": [
    {
     "data": {
      "text/plain": [
       "GridSearchCV(cv=10, error_score='raise-deprecating',\n",
       "             estimator=LogisticRegression(C=1.0, class_weight=None, dual=False,\n",
       "                                          fit_intercept=True,\n",
       "                                          intercept_scaling=1, l1_ratio=None,\n",
       "                                          max_iter=100, multi_class='warn',\n",
       "                                          n_jobs=None, penalty='l2',\n",
       "                                          random_state=None, solver='warn',\n",
       "                                          tol=0.0001, verbose=0,\n",
       "                                          warm_start=False),\n",
       "             iid='warn', n_jobs=None,\n",
       "             param_grid={'C': array([1.00000000e-05, 8.48342898e-05, 7.19685673e-04, 6.10540230e-03,\n",
       "       5.17947468e-02, 4.39397056e-01, 3.72759372e+00, 3.16227766e+01,\n",
       "       2.68269580e+02, 2.27584593e+03, 1.93069773e+04, 1.63789371e+05,\n",
       "       1.38949549e+06, 1.17876863e+07, 1.00000000e+08])},\n",
       "             pre_dispatch='2*n_jobs', refit=True, return_train_score=False,\n",
       "             scoring='f1', verbose=0)"
      ]
     },
     "execution_count": 72,
     "metadata": {},
     "output_type": "execute_result"
    }
   ],
   "source": [
    "c_space = np.logspace(-5,8,15)\n",
    "param_grid = {'C':c_space}\n",
    "logreg = LogisticRegression()\n",
    "logreg_cv = GridSearchCV(logreg,param_grid, cv = 10, scoring = 'f1')\n",
    "logreg_cv.fit(X_dummies_train,y_train)"
   ]
  },
  {
   "cell_type": "code",
   "execution_count": 73,
   "metadata": {},
   "outputs": [
    {
     "data": {
      "text/plain": [
       "{'C': 100000000.0}"
      ]
     },
     "execution_count": 73,
     "metadata": {},
     "output_type": "execute_result"
    }
   ],
   "source": [
    "logreg_cv.best_params_"
   ]
  },
  {
   "cell_type": "code",
   "execution_count": 74,
   "metadata": {},
   "outputs": [
    {
     "data": {
      "text/plain": [
       "0.5194937713765791"
      ]
     },
     "execution_count": 74,
     "metadata": {},
     "output_type": "execute_result"
    }
   ],
   "source": [
    "logreg_cv.best_score_"
   ]
  },
  {
   "cell_type": "code",
   "execution_count": 75,
   "metadata": {
    "scrolled": false
   },
   "outputs": [
    {
     "name": "stdout",
     "output_type": "stream",
     "text": [
      "Average Recall Score : 0.5240157990157991\n",
      "Average Precision Score : 0.5154076620222298\n",
      "Average F1 Score : 0.5195000510870409\n",
      "F1 Scores:[0.53910615 0.55448276 0.52074392 0.48609078 0.5077574  0.50704225\n",
      " 0.51117318 0.52472527 0.50209205 0.54178674]\n"
     ]
    }
   ],
   "source": [
    "logreg = LogisticRegression(C = 100000000.0)\n",
    "print_cv_scores(logreg,X_dummies_train,y_train )"
   ]
  },
  {
   "cell_type": "markdown",
   "metadata": {},
   "source": [
    "After Lasso Feature Engineering"
   ]
  },
  {
   "cell_type": "markdown",
   "metadata": {},
   "source": [
    "less features"
   ]
  },
  {
   "cell_type": "code",
   "execution_count": 350,
   "metadata": {},
   "outputs": [
    {
     "data": {
      "text/plain": [
       "GridSearchCV(cv=10, error_score='raise-deprecating',\n",
       "             estimator=LogisticRegression(C=1.0, class_weight=None, dual=False,\n",
       "                                          fit_intercept=True,\n",
       "                                          intercept_scaling=1, l1_ratio=None,\n",
       "                                          max_iter=100, multi_class='warn',\n",
       "                                          n_jobs=None, penalty='l2',\n",
       "                                          random_state=None, solver='warn',\n",
       "                                          tol=0.0001, verbose=0,\n",
       "                                          warm_start=False),\n",
       "             iid='warn', n_jobs=None,\n",
       "             param_grid={'C': array([1.00000000e-05, 8.48342898e-05, 7.19685673e-04, 6.10540230e-03,\n",
       "       5.17947468e-02, 4.39397056e-01, 3.72759372e+00, 3.16227766e+01,\n",
       "       2.68269580e+02, 2.27584593e+03, 1.93069773e+04, 1.63789371e+05,\n",
       "       1.38949549e+06, 1.17876863e+07, 1.00000000e+08])},\n",
       "             pre_dispatch='2*n_jobs', refit=True, return_train_score=False,\n",
       "             scoring='f1', verbose=0)"
      ]
     },
     "execution_count": 350,
     "metadata": {},
     "output_type": "execute_result"
    }
   ],
   "source": [
    "c_space = np.logspace(-5,8,15)\n",
    "param_grid = {'C':c_space}\n",
    "logreg = LogisticRegression()\n",
    "logreg_cv = GridSearchCV(logreg,param_grid, cv = 10, scoring = 'f1')\n",
    "logreg_cv.fit(X3_train,y3_train)"
   ]
  },
  {
   "cell_type": "code",
   "execution_count": 351,
   "metadata": {},
   "outputs": [
    {
     "data": {
      "text/plain": [
       "{'C': 31.622776601683793}"
      ]
     },
     "execution_count": 351,
     "metadata": {},
     "output_type": "execute_result"
    }
   ],
   "source": [
    "logreg_cv.best_params_"
   ]
  },
  {
   "cell_type": "code",
   "execution_count": 352,
   "metadata": {},
   "outputs": [
    {
     "data": {
      "text/plain": [
       "0.5422865788351315"
      ]
     },
     "execution_count": 352,
     "metadata": {},
     "output_type": "execute_result"
    }
   ],
   "source": [
    "logreg_cv.best_score_"
   ]
  },
  {
   "cell_type": "code",
   "execution_count": 353,
   "metadata": {},
   "outputs": [
    {
     "name": "stdout",
     "output_type": "stream",
     "text": [
      "Average Recall Score : 0.5682899657834011\n",
      "Average Precision Score : 0.5190194219830773\n",
      "Average F1 Score : 0.5422867952309178\n",
      "F1 Scores:[0.54495159 0.54324324 0.56458056 0.5156038  0.53104359 0.52981969\n",
      " 0.56349206 0.55936675 0.53481894 0.53594771]\n"
     ]
    }
   ],
   "source": [
    "logreg = LogisticRegression(C = 31.622776601683793)\n",
    "print_cv_scores(logreg,X3_train,y3_train )"
   ]
  },
  {
   "cell_type": "markdown",
   "metadata": {},
   "source": [
    "#### Standardize Tuned Model"
   ]
  },
  {
   "cell_type": "code",
   "execution_count": 373,
   "metadata": {},
   "outputs": [],
   "source": [
    "X3_train_stand = X3_train.copy()\n",
    "X3_test_stand = X3_test.copy()\n",
    "scale = StandardScaler().fit(X3_train_stand)\n",
    "X3_train_stand = scale.transform(X3_train_stand)\n",
    "X3_test_stand = scale.transform(X3_test_stand)"
   ]
  },
  {
   "cell_type": "code",
   "execution_count": 379,
   "metadata": {},
   "outputs": [
    {
     "name": "stdout",
     "output_type": "stream",
     "text": [
      "Average Recall Score : 0.5665966419988859\n",
      "Average Precision Score : 0.5170373308914658\n",
      "Average F1 Score : 0.5403959341567818\n",
      "F1 Scores:[0.53888889 0.54324324 0.56084656 0.51761518 0.53104359 0.52704577\n",
      " 0.5615894  0.55789474 0.52793296 0.53785901]\n"
     ]
    }
   ],
   "source": [
    "logreg = LogisticRegression(C = 31.622776601683793)\n",
    "print_cv_scores(logreg, X3_train_stand, y3_train)"
   ]
  },
  {
   "cell_type": "code",
   "execution_count": null,
   "metadata": {},
   "outputs": [],
   "source": []
  },
  {
   "cell_type": "code",
   "execution_count": null,
   "metadata": {},
   "outputs": [],
   "source": []
  },
  {
   "cell_type": "markdown",
   "metadata": {},
   "source": [
    "more features"
   ]
  },
  {
   "cell_type": "code",
   "execution_count": 365,
   "metadata": {},
   "outputs": [
    {
     "data": {
      "text/plain": [
       "GridSearchCV(cv=10, error_score='raise-deprecating',\n",
       "             estimator=LogisticRegression(C=1.0, class_weight=None, dual=False,\n",
       "                                          fit_intercept=True,\n",
       "                                          intercept_scaling=1, l1_ratio=None,\n",
       "                                          max_iter=100, multi_class='warn',\n",
       "                                          n_jobs=None, penalty='l2',\n",
       "                                          random_state=None, solver='warn',\n",
       "                                          tol=0.0001, verbose=0,\n",
       "                                          warm_start=False),\n",
       "             iid='warn', n_jobs=None,\n",
       "             param_grid={'C': array([1.00000000e-05, 8.48342898e-05, 7.19685673e-04, 6.10540230e-03,\n",
       "       5.17947468e-02, 4.39397056e-01, 3.72759372e+00, 3.16227766e+01,\n",
       "       2.68269580e+02, 2.27584593e+03, 1.93069773e+04, 1.63789371e+05,\n",
       "       1.38949549e+06, 1.17876863e+07, 1.00000000e+08])},\n",
       "             pre_dispatch='2*n_jobs', refit=True, return_train_score=False,\n",
       "             scoring='f1', verbose=0)"
      ]
     },
     "execution_count": 365,
     "metadata": {},
     "output_type": "execute_result"
    }
   ],
   "source": [
    "c_space = np.logspace(-5,8,15)\n",
    "param_grid = {'C':c_space}\n",
    "logreg = LogisticRegression()\n",
    "logreg_cv = GridSearchCV(logreg,param_grid, cv = 10, scoring = 'f1')\n",
    "logreg_cv.fit(X5_train,y5_train)"
   ]
  },
  {
   "cell_type": "code",
   "execution_count": 366,
   "metadata": {},
   "outputs": [
    {
     "data": {
      "text/plain": [
       "{'C': 3.727593720314938}"
      ]
     },
     "execution_count": 366,
     "metadata": {},
     "output_type": "execute_result"
    }
   ],
   "source": [
    "logreg_cv.best_params_"
   ]
  },
  {
   "cell_type": "code",
   "execution_count": 367,
   "metadata": {},
   "outputs": [
    {
     "data": {
      "text/plain": [
       "0.5372046021127516"
      ]
     },
     "execution_count": 367,
     "metadata": {},
     "output_type": "execute_result"
    }
   ],
   "source": [
    "logreg_cv.best_score_"
   ]
  },
  {
   "cell_type": "code",
   "execution_count": 368,
   "metadata": {},
   "outputs": [
    {
     "name": "stdout",
     "output_type": "stream",
     "text": [
      "Average Recall Score : 0.5581488772586866\n",
      "Average Precision Score : 0.518381551880694\n",
      "Average F1 Score : 0.5372144612212042\n",
      "F1 Scores:[0.51820728 0.54986523 0.51104972 0.51682369 0.55266758 0.53473132\n",
      " 0.53638814 0.56160458 0.55163043 0.53917663]\n"
     ]
    }
   ],
   "source": [
    "logreg = LogisticRegression(C = 3.727593720314938)\n",
    "print_cv_scores(logreg, X5_train, y5_train)"
   ]
  },
  {
   "cell_type": "markdown",
   "metadata": {},
   "source": [
    "### Logistic Regression Model With More Features"
   ]
  },
  {
   "cell_type": "markdown",
   "metadata": {},
   "source": [
    "#### Without Dummies"
   ]
  },
  {
   "cell_type": "code",
   "execution_count": 76,
   "metadata": {},
   "outputs": [
    {
     "name": "stdout",
     "output_type": "stream",
     "text": [
      "Average Recall Score : 0.3779663623413623\n",
      "Average Precision Score : 0.5057457983887679\n",
      "Average F1 Score : 0.4318400830328584\n",
      "F1 Scores:[0.39338843 0.46405229 0.44827586 0.43405676 0.42700157 0.40344828\n",
      " 0.42675159 0.45941807 0.42281879 0.43918919]\n"
     ]
    }
   ],
   "source": [
    "logreg = LogisticRegression(solver = 'lbfgs', max_iter = 2000)\n",
    "print_cv_scores(logreg, X2_train, y2_train)"
   ]
  },
  {
   "cell_type": "code",
   "execution_count": null,
   "metadata": {
    "scrolled": true
   },
   "outputs": [],
   "source": [
    "logreg = LogisticRegression(solver = 'lbfgs', max_iter = 2000)\n",
    "model_prediction_scores(logreg,X2_train, X2_test, y2_train, y2_test )"
   ]
  },
  {
   "cell_type": "markdown",
   "metadata": {},
   "source": [
    "#### with dummies"
   ]
  },
  {
   "cell_type": "code",
   "execution_count": 78,
   "metadata": {},
   "outputs": [
    {
     "name": "stdout",
     "output_type": "stream",
     "text": [
      "Average Recall Score : 0.516661001036001\n",
      "Average Precision Score : 0.5176485527140905\n",
      "Average F1 Score : 0.5169728545523709\n",
      "F1 Scores:[0.52360515 0.52981969 0.52906977 0.5243553  0.52706553 0.52089136\n",
      " 0.48       0.46713287 0.54778887 0.52      ]\n"
     ]
    }
   ],
   "source": [
    "logreg = LogisticRegression(solver = 'lbfgs', max_iter = 2000)\n",
    "print_cv_scores(logreg, X2_dummies_train,y2_train)"
   ]
  },
  {
   "cell_type": "code",
   "execution_count": null,
   "metadata": {},
   "outputs": [],
   "source": [
    "logreg = LogisticRegression(solver = 'lbfgs', max_iter =1000)\n",
    "model_prediction_scores(logreg, X2_dummies_train, X2_dummies_test, y2_train, y2_test)"
   ]
  },
  {
   "cell_type": "markdown",
   "metadata": {},
   "source": [
    "### Decision Tree With Less Features"
   ]
  },
  {
   "cell_type": "markdown",
   "metadata": {},
   "source": [
    "#### without dummies"
   ]
  },
  {
   "cell_type": "code",
   "execution_count": 79,
   "metadata": {},
   "outputs": [
    {
     "name": "stdout",
     "output_type": "stream",
     "text": [
      "Average Recall Score : 0.49475038850038844\n",
      "Average Precision Score : 0.5079522623478916\n",
      "Average F1 Score : 0.5043847534231173\n",
      "F1 Scores:[0.52050919 0.49712644 0.49438202 0.49781659 0.52906977 0.46627566\n",
      " 0.51893408 0.49484536 0.50647482 0.5184136 ]\n"
     ]
    }
   ],
   "source": [
    "dt = DecisionTreeClassifier()\n",
    "print_cv_scores(dt, X_train, y_train)"
   ]
  },
  {
   "cell_type": "markdown",
   "metadata": {},
   "source": [
    "#### with dummies"
   ]
  },
  {
   "cell_type": "code",
   "execution_count": 81,
   "metadata": {
    "scrolled": true
   },
   "outputs": [
    {
     "name": "stdout",
     "output_type": "stream",
     "text": [
      "Average Recall Score : 0.4936026936026936\n",
      "Average Precision Score : 0.5049988613206382\n",
      "Average F1 Score : 0.5004120697160962\n",
      "F1 Scores:[0.50946143 0.47521866 0.45925926 0.50919378 0.49507736 0.47507331\n",
      " 0.50940666 0.53125    0.53802817 0.50215208]\n"
     ]
    }
   ],
   "source": [
    "dt = DecisionTreeClassifier()\n",
    "print_cv_scores(dt, X_dummies_train, y_train)"
   ]
  },
  {
   "cell_type": "code",
   "execution_count": 160,
   "metadata": {},
   "outputs": [
    {
     "name": "stdout",
     "output_type": "stream",
     "text": [
      "Average Recall Score : 0.4907106017191977\n",
      "Average Precision Score : 0.49372499245299084\n",
      "Average F1 Score : 0.4884145227564088\n",
      "F1 Scores:[0.48920863 0.43348281 0.4813278  0.53055556 0.48       0.4870317\n",
      " 0.50442478 0.48773449 0.50980392 0.48057554]\n"
     ]
    }
   ],
   "source": [
    "dt = DecisionTreeClassifier()\n",
    "print_cv_scores(dt, X_dummies_train, y_train)"
   ]
  },
  {
   "cell_type": "markdown",
   "metadata": {},
   "source": [
    "### Decision Tree with more features"
   ]
  },
  {
   "cell_type": "markdown",
   "metadata": {},
   "source": [
    "#### without dummies"
   ]
  },
  {
   "cell_type": "code",
   "execution_count": 82,
   "metadata": {
    "scrolled": true
   },
   "outputs": [
    {
     "name": "stdout",
     "output_type": "stream",
     "text": [
      "Average Recall Score : 0.4787781662781662\n",
      "Average Precision Score : 0.5014698397496477\n",
      "Average F1 Score : 0.4922991598196532\n",
      "F1 Scores:[0.50445104 0.47953216 0.47230321 0.51936872 0.51209104 0.510699\n",
      " 0.49127907 0.46407186 0.50857143 0.46062407]\n"
     ]
    }
   ],
   "source": [
    "dt = DecisionTreeClassifier()\n",
    "print_cv_scores(dt,X2_train, y2_train)"
   ]
  },
  {
   "cell_type": "markdown",
   "metadata": {},
   "source": [
    "#### with dummies"
   ]
  },
  {
   "cell_type": "code",
   "execution_count": 83,
   "metadata": {},
   "outputs": [
    {
     "name": "stdout",
     "output_type": "stream",
     "text": [
      "Average Recall Score : 0.4958640896140897\n",
      "Average Precision Score : 0.4993966361995169\n",
      "Average F1 Score : 0.4951468731960727\n",
      "F1 Scores:[0.52601156 0.48535565 0.48335745 0.46539028 0.52074392 0.50828729\n",
      " 0.46518519 0.50493653 0.50072359 0.49147727]\n"
     ]
    }
   ],
   "source": [
    "dt = DecisionTreeClassifier()\n",
    "print_cv_scores(dt, X2_dummies_train,y2_train)"
   ]
  },
  {
   "cell_type": "code",
   "execution_count": null,
   "metadata": {},
   "outputs": [],
   "source": []
  },
  {
   "cell_type": "markdown",
   "metadata": {},
   "source": [
    "#### Hyperparamter Tuning\n"
   ]
  },
  {
   "cell_type": "markdown",
   "metadata": {},
   "source": [
    "#### Decision Tree with less features and no dummies"
   ]
  },
  {
   "cell_type": "code",
   "execution_count": 94,
   "metadata": {},
   "outputs": [],
   "source": [
    "param_grid = {'max_depth':list(range(1,20)), 'max_features': list(range(1,10)), \n",
    "              'min_samples_leaf': list(range(1,10)), 'criterion':['gini','entropy']}"
   ]
  },
  {
   "cell_type": "code",
   "execution_count": 105,
   "metadata": {},
   "outputs": [],
   "source": [
    "tree = DecisionTreeClassifier()\n",
    "tree_cv = RandomizedSearchCV(tree, param_grid, cv = 10, n_jobs =-1, scoring = 'f1')"
   ]
  },
  {
   "cell_type": "code",
   "execution_count": 106,
   "metadata": {},
   "outputs": [
    {
     "data": {
      "text/plain": [
       "RandomizedSearchCV(cv=10, error_score='raise-deprecating',\n",
       "                   estimator=DecisionTreeClassifier(class_weight=None,\n",
       "                                                    criterion='gini',\n",
       "                                                    max_depth=None,\n",
       "                                                    max_features=None,\n",
       "                                                    max_leaf_nodes=None,\n",
       "                                                    min_impurity_decrease=0.0,\n",
       "                                                    min_impurity_split=None,\n",
       "                                                    min_samples_leaf=1,\n",
       "                                                    min_samples_split=2,\n",
       "                                                    min_weight_fraction_leaf=0.0,\n",
       "                                                    presort=False,\n",
       "                                                    random_state=None,\n",
       "                                                    splitter='best'),\n",
       "                   iid='warn', n_iter=10, n_jobs=-1,\n",
       "                   param_distributions={'criterion': ['gini', 'entropy'],\n",
       "                                        'max_depth': [1, 2, 3, 4, 5, 6, 7, 8, 9,\n",
       "                                                      10, 11, 12, 13, 14, 15,\n",
       "                                                      16, 17, 18, 19],\n",
       "                                        'max_features': [1, 2, 3, 4, 5, 6, 7, 8,\n",
       "                                                         9],\n",
       "                                        'min_samples_leaf': [1, 2, 3, 4, 5, 6,\n",
       "                                                             7, 8, 9]},\n",
       "                   pre_dispatch='2*n_jobs', random_state=None, refit=True,\n",
       "                   return_train_score=False, scoring='f1', verbose=0)"
      ]
     },
     "execution_count": 106,
     "metadata": {},
     "output_type": "execute_result"
    }
   ],
   "source": [
    "tree_cv.fit(X_train,y_train)"
   ]
  },
  {
   "cell_type": "code",
   "execution_count": 107,
   "metadata": {},
   "outputs": [
    {
     "data": {
      "text/plain": [
       "{'min_samples_leaf': 9,\n",
       " 'max_features': 2,\n",
       " 'max_depth': 17,\n",
       " 'criterion': 'entropy'}"
      ]
     },
     "execution_count": 107,
     "metadata": {},
     "output_type": "execute_result"
    }
   ],
   "source": [
    "tree_cv.best_params_"
   ]
  },
  {
   "cell_type": "code",
   "execution_count": 108,
   "metadata": {},
   "outputs": [
    {
     "data": {
      "text/plain": [
       "0.4504187167728806"
      ]
     },
     "execution_count": 108,
     "metadata": {},
     "output_type": "execute_result"
    }
   ],
   "source": [
    "tree_cv.best_score_"
   ]
  },
  {
   "cell_type": "code",
   "execution_count": 109,
   "metadata": {
    "scrolled": true
   },
   "outputs": [
    {
     "name": "stdout",
     "output_type": "stream",
     "text": [
      "Average Recall Score : 0.37679114866614866\n",
      "Average Precision Score : 0.5024293133166875\n",
      "Average F1 Score : 0.4347263683167445\n",
      "F1 Scores:[0.38421955 0.4020979  0.51523546 0.41733547 0.44761905 0.4606414\n",
      " 0.41930116 0.42532468 0.40747029 0.46801872]\n"
     ]
    }
   ],
   "source": [
    "dt= DecisionTreeClassifier(criterion = 'entropy',\n",
    "                           max_depth = 17, \n",
    "                           max_features = 2, \n",
    "                           min_samples_leaf = 9)\n",
    "\n",
    "print_cv_scores(dt, X_train, y_train)"
   ]
  },
  {
   "cell_type": "code",
   "execution_count": null,
   "metadata": {},
   "outputs": [],
   "source": []
  },
  {
   "cell_type": "markdown",
   "metadata": {},
   "source": [
    "#### less features with dummies"
   ]
  },
  {
   "cell_type": "code",
   "execution_count": 101,
   "metadata": {
    "scrolled": true
   },
   "outputs": [
    {
     "data": {
      "text/plain": [
       "RandomizedSearchCV(cv=10, error_score='raise-deprecating',\n",
       "                   estimator=DecisionTreeClassifier(class_weight=None,\n",
       "                                                    criterion='gini',\n",
       "                                                    max_depth=None,\n",
       "                                                    max_features=None,\n",
       "                                                    max_leaf_nodes=None,\n",
       "                                                    min_impurity_decrease=0.0,\n",
       "                                                    min_impurity_split=None,\n",
       "                                                    min_samples_leaf=1,\n",
       "                                                    min_samples_split=2,\n",
       "                                                    min_weight_fraction_leaf=0.0,\n",
       "                                                    presort=False,\n",
       "                                                    random_state=None,\n",
       "                                                    splitter='best'),\n",
       "                   iid='warn', n_iter=10, n_jobs=-1,\n",
       "                   param_distributions={'criterion': ['gini', 'entropy'],\n",
       "                                        'max_depth': [1, 2, 3, 4, 5, 6, 7, 8, 9,\n",
       "                                                      10, 11, 12, 13, 14, 15,\n",
       "                                                      16, 17, 18, 19],\n",
       "                                        'max_features': [1, 2, 3, 4, 5, 6, 7, 8,\n",
       "                                                         9],\n",
       "                                        'min_samples_leaf': [1, 2, 3, 4, 5, 6,\n",
       "                                                             7, 8, 9]},\n",
       "                   pre_dispatch='2*n_jobs', random_state=None, refit=True,\n",
       "                   return_train_score=False, scoring='f1', verbose=0)"
      ]
     },
     "execution_count": 101,
     "metadata": {},
     "output_type": "execute_result"
    }
   ],
   "source": [
    "tree = DecisionTreeClassifier()\n",
    "tree_cv = RandomizedSearchCV(tree, param_grid, cv = 10,n_jobs =-1, scoring = 'f1')\n",
    "tree_cv.fit(X_dummies_train,y_train)"
   ]
  },
  {
   "cell_type": "code",
   "execution_count": 102,
   "metadata": {},
   "outputs": [
    {
     "data": {
      "text/plain": [
       "{'min_samples_leaf': 3,\n",
       " 'max_features': 5,\n",
       " 'max_depth': 13,\n",
       " 'criterion': 'entropy'}"
      ]
     },
     "execution_count": 102,
     "metadata": {},
     "output_type": "execute_result"
    }
   ],
   "source": [
    "tree_cv.best_params_"
   ]
  },
  {
   "cell_type": "code",
   "execution_count": 103,
   "metadata": {},
   "outputs": [
    {
     "data": {
      "text/plain": [
       "0.5442352272953057"
      ]
     },
     "execution_count": 103,
     "metadata": {},
     "output_type": "execute_result"
    }
   ],
   "source": [
    "tree_cv.best_score_"
   ]
  },
  {
   "cell_type": "code",
   "execution_count": 104,
   "metadata": {
    "scrolled": true
   },
   "outputs": [
    {
     "name": "stdout",
     "output_type": "stream",
     "text": [
      "Average Recall Score : 0.569744722869723\n",
      "Average Precision Score : 0.49061319526116787\n",
      "Average F1 Score : 0.5003482802866065\n",
      "F1 Scores:[0.5107604  0.54689564 0.56296296 0.39619651 0.51820728 0.47407407\n",
      " 0.54862843 0.53386454 0.46599132 0.44590164]\n"
     ]
    }
   ],
   "source": [
    "dt = DecisionTreeClassifier(criterion= 'entropy',\n",
    " max_depth= 13,\n",
    " max_features= 5,\n",
    " min_samples_leaf= 3)\n",
    "print_cv_scores(dt,X_dummies_train, y_train)"
   ]
  },
  {
   "cell_type": "markdown",
   "metadata": {},
   "source": [
    "### Random Forest With Less Features"
   ]
  },
  {
   "cell_type": "markdown",
   "metadata": {},
   "source": [
    "#### without dummies"
   ]
  },
  {
   "cell_type": "code",
   "execution_count": 110,
   "metadata": {
    "scrolled": false
   },
   "outputs": [
    {
     "name": "stdout",
     "output_type": "stream",
     "text": [
      "Average Recall Score : 0.4023868492618493\n",
      "Average Precision Score : 0.5036206401447129\n",
      "Average F1 Score : 0.44308254529336244\n",
      "F1 Scores:[0.47878788 0.40842788 0.4091653  0.43681747 0.47425897 0.4591195\n",
      " 0.45987654 0.41733547 0.45253165 0.43450479]\n"
     ]
    }
   ],
   "source": [
    "rf = RandomForestClassifier()\n",
    "print_cv_scores(rf, X_train, y_train)"
   ]
  },
  {
   "cell_type": "markdown",
   "metadata": {},
   "source": [
    "#### with dummies"
   ]
  },
  {
   "cell_type": "code",
   "execution_count": 111,
   "metadata": {
    "scrolled": true
   },
   "outputs": [
    {
     "name": "stdout",
     "output_type": "stream",
     "text": [
      "Average Recall Score : 0.40493881118881125\n",
      "Average Precision Score : 0.503643711997123\n",
      "Average F1 Score : 0.45386202066468473\n",
      "F1 Scores:[0.43548387 0.46082949 0.43653251 0.47926267 0.46248086 0.43226788\n",
      " 0.45635528 0.45070423 0.44936709 0.47533632]\n"
     ]
    }
   ],
   "source": [
    "rf= RandomForestClassifier ()\n",
    "print_cv_scores(rf, X_dummies_train, y_train)"
   ]
  },
  {
   "cell_type": "code",
   "execution_count": 162,
   "metadata": {},
   "outputs": [
    {
     "name": "stdout",
     "output_type": "stream",
     "text": [
      "Average Recall Score : 0.40857470323372896\n",
      "Average Precision Score : 0.5021354045505417\n",
      "Average F1 Score : 0.44058512176818415\n",
      "F1 Scores:[0.4278607  0.40894569 0.40722496 0.45723173 0.45151033 0.4502447\n",
      " 0.45410628 0.41311475 0.43561208 0.5       ]\n"
     ]
    }
   ],
   "source": [
    "rf= RandomForestClassifier ()\n",
    "print_cv_scores(rf, X_dummies_train, y_train)"
   ]
  },
  {
   "cell_type": "markdown",
   "metadata": {},
   "source": [
    "### Random Forest With More Features"
   ]
  },
  {
   "cell_type": "markdown",
   "metadata": {},
   "source": [
    "#### without dummies"
   ]
  },
  {
   "cell_type": "code",
   "execution_count": 112,
   "metadata": {
    "scrolled": true
   },
   "outputs": [
    {
     "name": "stdout",
     "output_type": "stream",
     "text": [
      "Average Recall Score : 0.4169734200984202\n",
      "Average Precision Score : 0.5098332633336573\n",
      "Average F1 Score : 0.43714519851785055\n",
      "F1 Scores:[0.41017488 0.45705024 0.4024961  0.4546851  0.41883117 0.42519685\n",
      " 0.4648318  0.40770465 0.46246246 0.46801872]\n"
     ]
    }
   ],
   "source": [
    "rf = RandomForestClassifier()\n",
    "print_cv_scores(rf, X2_train, y2_train)"
   ]
  },
  {
   "cell_type": "markdown",
   "metadata": {},
   "source": [
    "#### with dummies"
   ]
  },
  {
   "cell_type": "code",
   "execution_count": 113,
   "metadata": {},
   "outputs": [
    {
     "name": "stdout",
     "output_type": "stream",
     "text": [
      "Average Recall Score : 0.4058736402486403\n",
      "Average Precision Score : 0.49106417152847026\n",
      "Average F1 Score : 0.4384556298904377\n",
      "F1 Scores:[0.41640379 0.43518519 0.42022117 0.46769231 0.43209877 0.43225806\n",
      " 0.42122186 0.44135802 0.44827586 0.46984127]\n"
     ]
    }
   ],
   "source": [
    "rf = RandomForestClassifier()\n",
    "print_cv_scores(rf, X2_dummies_train, y2_train)"
   ]
  },
  {
   "cell_type": "markdown",
   "metadata": {},
   "source": [
    "#### Hyperparameter Tuning"
   ]
  },
  {
   "cell_type": "markdown",
   "metadata": {},
   "source": [
    "#### without dummies"
   ]
  },
  {
   "cell_type": "code",
   "execution_count": null,
   "metadata": {},
   "outputs": [],
   "source": [
    "import numpy as np\n",
    "\n",
    "n_estimators = [int(x) for x in np.linspace(start = 200, stop = 2000, num = 10)]\n",
    "max_features = ['auto', 'sqrt']\n",
    "max_depth = [int(x) for x in np.linspace(10, 110, num = 11)]\n",
    "max_depth.append(None)\n",
    "min_samples_split = [2, 5, 10]\n",
    "min_samples_leaf = [1, 2, 4]\n"
   ]
  },
  {
   "cell_type": "code",
   "execution_count": null,
   "metadata": {},
   "outputs": [],
   "source": [
    "random_grid = {'n_estimators': n_estimators,\n",
    "               'max_features': max_features,\n",
    "               'max_depth': max_depth,\n",
    "               'min_samples_split': min_samples_split,\n",
    "               'min_samples_leaf': min_samples_leaf,\n",
    "               'bootstrap': bootstrap}"
   ]
  },
  {
   "cell_type": "code",
   "execution_count": null,
   "metadata": {},
   "outputs": [],
   "source": [
    "rf = RandomForestClassifier()\n",
    "rf_cv = RandomizedSearchCV(rf, random_grid, n_iter = 100,cv = 3)\n",
    "rf_cv.fit(Xrf_train, yrf_train)"
   ]
  },
  {
   "cell_type": "code",
   "execution_count": null,
   "metadata": {},
   "outputs": [],
   "source": [
    "rf_cv.best_params_"
   ]
  },
  {
   "cell_type": "code",
   "execution_count": null,
   "metadata": {},
   "outputs": [],
   "source": [
    "rf_cv.best_score_"
   ]
  },
  {
   "cell_type": "code",
   "execution_count": null,
   "metadata": {},
   "outputs": [],
   "source": [
    "rf = RandomForestClassifier(n_estimators = 400,\n",
    " min_samples_split = 10,\n",
    " min_samples_leaf= 2,\n",
    " max_features= 'sqrt',\n",
    " max_depth= 100,\n",
    " )\n",
    "model_prediction_scores(rf, Xrf_train, Xrf_test, yrf_train, yrf_test)"
   ]
  },
  {
   "cell_type": "markdown",
   "metadata": {},
   "source": [
    "### AdaBoost With Less Features"
   ]
  },
  {
   "cell_type": "markdown",
   "metadata": {},
   "source": [
    "#### without dummies"
   ]
  },
  {
   "cell_type": "code",
   "execution_count": 114,
   "metadata": {
    "scrolled": true
   },
   "outputs": [
    {
     "name": "stdout",
     "output_type": "stream",
     "text": [
      "Average Recall Score : 0.5038283475783476\n",
      "Average Precision Score : 0.507841596049966\n",
      "Average F1 Score : 0.4954402911697485\n",
      "F1 Scores:[0.50771388 0.48185776 0.49928673 0.51282051 0.49630724 0.48082596\n",
      " 0.52574526 0.5        0.47283407 0.47701149]\n"
     ]
    }
   ],
   "source": [
    "dt = DecisionTreeClassifier()\n",
    "ada = AdaBoostClassifier(base_estimator = dt)\n",
    "print_cv_scores(ada, X_train, y_train)"
   ]
  },
  {
   "cell_type": "markdown",
   "metadata": {},
   "source": [
    "#### with dummies"
   ]
  },
  {
   "cell_type": "code",
   "execution_count": 115,
   "metadata": {},
   "outputs": [
    {
     "name": "stdout",
     "output_type": "stream",
     "text": [
      "Average Recall Score : 0.5089500777000777\n",
      "Average Precision Score : 0.5127062954140154\n",
      "Average F1 Score : 0.5113442154217379\n",
      "F1 Scores:[0.51800554 0.5243553  0.49275362 0.51317614 0.49162011 0.5192582\n",
      " 0.50276243 0.49431818 0.54862119 0.50857143]\n"
     ]
    }
   ],
   "source": [
    "dt = DecisionTreeClassifier()\n",
    "ada = AdaBoostClassifier(base_estimator = dt)\n",
    "print_cv_scores(ada, X_dummies_train, y_train)\n"
   ]
  },
  {
   "cell_type": "markdown",
   "metadata": {},
   "source": [
    "### AdaBoost With More Features"
   ]
  },
  {
   "cell_type": "markdown",
   "metadata": {},
   "source": [
    "#### no dummies"
   ]
  },
  {
   "cell_type": "code",
   "execution_count": 116,
   "metadata": {},
   "outputs": [
    {
     "name": "stdout",
     "output_type": "stream",
     "text": [
      "Average Recall Score : 0.4955743330743331\n",
      "Average Precision Score : 0.49653007279593836\n",
      "Average F1 Score : 0.4916492829051191\n",
      "F1 Scores:[0.48093842 0.45400593 0.4972067  0.50139276 0.52454418 0.54022989\n",
      " 0.48373409 0.48979592 0.49142857 0.45321637]\n"
     ]
    }
   ],
   "source": [
    "dt = DecisionTreeClassifier()\n",
    "ada = AdaBoostClassifier(base_estimator = dt)\n",
    "print_cv_scores(ada, X2_train, y2_train)"
   ]
  },
  {
   "cell_type": "markdown",
   "metadata": {},
   "source": [
    "#### with dummies"
   ]
  },
  {
   "cell_type": "code",
   "execution_count": 117,
   "metadata": {},
   "outputs": [
    {
     "name": "stdout",
     "output_type": "stream",
     "text": [
      "Average Recall Score : 0.5012788137788139\n",
      "Average Precision Score : 0.5069351857959876\n",
      "Average F1 Score : 0.49117314752490754\n",
      "F1 Scores:[0.509299   0.47819972 0.48       0.4628821  0.49283668 0.50211566\n",
      " 0.48656294 0.52558783 0.49271137 0.48153619]\n"
     ]
    }
   ],
   "source": [
    "dt = DecisionTreeClassifier()\n",
    "ada = AdaBoostClassifier(base_estimator = dt)\n",
    "print_cv_scores(ada, X2_dummies_train, y2_train)"
   ]
  },
  {
   "cell_type": "markdown",
   "metadata": {},
   "source": [
    "### Gradient Boost With Less Features"
   ]
  },
  {
   "cell_type": "markdown",
   "metadata": {},
   "source": [
    "#### without dummies"
   ]
  },
  {
   "cell_type": "code",
   "execution_count": 118,
   "metadata": {
    "scrolled": false
   },
   "outputs": [
    {
     "name": "stdout",
     "output_type": "stream",
     "text": [
      "Average Recall Score : 0.38561981999482\n",
      "Average Precision Score : 0.5063726773895523\n",
      "Average F1 Score : 0.4373905847213243\n",
      "F1 Scores:[0.44551282 0.4416     0.46251994 0.44620253 0.4184514  0.42345277\n",
      " 0.4274571  0.41186161 0.45276873 0.44407895]\n"
     ]
    }
   ],
   "source": [
    "gb = GradientBoostingClassifier()\n",
    "print_cv_scores(gb, X_train, y_train)"
   ]
  },
  {
   "cell_type": "markdown",
   "metadata": {},
   "source": [
    "#### with dummies\n"
   ]
  },
  {
   "cell_type": "code",
   "execution_count": 119,
   "metadata": {
    "scrolled": false
   },
   "outputs": [
    {
     "name": "stdout",
     "output_type": "stream",
     "text": [
      "Average Recall Score : 0.5399297461797461\n",
      "Average Precision Score : 0.5119955637234733\n",
      "Average F1 Score : 0.5249503166137774\n",
      "F1 Scores:[0.50363901 0.52883263 0.5308311  0.50434783 0.49447514 0.52949246\n",
      " 0.52861035 0.52910053 0.55675676 0.54341737]\n"
     ]
    }
   ],
   "source": [
    "gb = GradientBoostingClassifier()\n",
    "print_cv_scores(gb, X_dummies_train, y_train)"
   ]
  },
  {
   "cell_type": "code",
   "execution_count": 124,
   "metadata": {
    "scrolled": true
   },
   "outputs": [
    {
     "name": "stdout",
     "output_type": "stream",
     "text": [
      "Average Recall Score : 0.5447560541310541\n",
      "Average Precision Score : 0.5119705645156291\n",
      "Average F1 Score : 0.5283421186456174\n",
      "F1 Scores:[0.53038674 0.56608812 0.51728907 0.49855908 0.50884354 0.51253482\n",
      " 0.54155496 0.54205607 0.53333333 0.53277545]\n"
     ]
    }
   ],
   "source": [
    "gb = GradientBoostingClassifier(n_estimators = 200)\n",
    "print_cv_scores(gb, X_dummies_train, y_train)"
   ]
  },
  {
   "cell_type": "code",
   "execution_count": 133,
   "metadata": {
    "scrolled": true
   },
   "outputs": [
    {
     "name": "stdout",
     "output_type": "stream",
     "text": [
      "Average Recall Score : 0.5453250453250453\n",
      "Average Precision Score : 0.517705964910173\n",
      "Average F1 Score : 0.5308380715852501\n",
      "F1 Scores:[0.51339915 0.55795148 0.50904033 0.51274788 0.51771117 0.52808989\n",
      " 0.54912517 0.55359566 0.52793296 0.53878702]\n"
     ]
    }
   ],
   "source": [
    "gb = GradientBoostingClassifier(n_estimators = 300)\n",
    "print_cv_scores(gb, X_dummies_train, y_train)"
   ]
  },
  {
   "cell_type": "code",
   "execution_count": 134,
   "metadata": {
    "scrolled": true
   },
   "outputs": [
    {
     "name": "stdout",
     "output_type": "stream",
     "text": [
      "Average Recall Score : 0.5368006993006993\n",
      "Average Precision Score : 0.5167001643597603\n",
      "Average F1 Score : 0.5265147269388942\n",
      "F1 Scores:[0.53465347 0.56492637 0.51239669 0.49271137 0.48391608 0.51195499\n",
      " 0.53959732 0.53772291 0.54494382 0.54232425]\n"
     ]
    }
   ],
   "source": [
    "gb = GradientBoostingClassifier(n_estimators = 400)\n",
    "print_cv_scores(gb, X_dummies_train, y_train)"
   ]
  },
  {
   "cell_type": "markdown",
   "metadata": {},
   "source": [
    "### Gradient Boost With More Features"
   ]
  },
  {
   "cell_type": "markdown",
   "metadata": {},
   "source": [
    "#### no dummies"
   ]
  },
  {
   "cell_type": "code",
   "execution_count": 122,
   "metadata": {},
   "outputs": [
    {
     "name": "stdout",
     "output_type": "stream",
     "text": [
      "Average Recall Score : 0.42465763403263407\n",
      "Average Precision Score : 0.49894765635091803\n",
      "Average F1 Score : 0.45892214515887686\n",
      "F1 Scores:[0.4622093  0.46614173 0.43492063 0.45354331 0.4813154  0.465625\n",
      " 0.45877061 0.47164179 0.43818466 0.45686901]\n"
     ]
    }
   ],
   "source": [
    "gb = GradientBoostingClassifier()\n",
    "print_cv_scores(gb, X2_train, y2_train)"
   ]
  },
  {
   "cell_type": "markdown",
   "metadata": {},
   "source": [
    "#### with dummies"
   ]
  },
  {
   "cell_type": "code",
   "execution_count": 123,
   "metadata": {},
   "outputs": [
    {
     "name": "stdout",
     "output_type": "stream",
     "text": [
      "Average Recall Score : 0.5047178515928517\n",
      "Average Precision Score : 0.5042550090510004\n",
      "Average F1 Score : 0.5032504330836212\n",
      "F1 Scores:[0.45722714 0.53441296 0.53825137 0.49045521 0.52034884 0.4619883\n",
      " 0.50647482 0.47042641 0.53314528 0.51977401]\n"
     ]
    }
   ],
   "source": [
    "gb = GradientBoostingClassifier()\n",
    "print_cv_scores(gb, X2_dummies_train, y2_train)"
   ]
  },
  {
   "cell_type": "markdown",
   "metadata": {},
   "source": [
    "#### Hyperparameter Tuning"
   ]
  },
  {
   "cell_type": "code",
   "execution_count": 138,
   "metadata": {},
   "outputs": [
    {
     "name": "stdout",
     "output_type": "stream",
     "text": [
      "[23:52:41] WARNING: /Users/travis/build/dmlc/xgboost/src/learner.cc:516: \n",
      "Parameters: { max_features, min_samples_leaf } might not be used.\n",
      "\n",
      "  This may not be accurate due to some parameters are only used in language bindings but\n",
      "  passed down to XGBoost core.  Or some parameters are not used but slip through this\n",
      "  verification. Please open an issue if you find above cases.\n",
      "\n",
      "\n"
     ]
    },
    {
     "data": {
      "text/plain": [
       "GridSearchCV(cv=10, error_score='raise-deprecating',\n",
       "             estimator=XGBClassifier(base_score=None, booster=None,\n",
       "                                     colsample_bylevel=None,\n",
       "                                     colsample_bynode=None,\n",
       "                                     colsample_bytree=None, gamma=None,\n",
       "                                     gpu_id=None, importance_type='gain',\n",
       "                                     interaction_constraints=None,\n",
       "                                     learning_rate=None, max_delta_step=None,\n",
       "                                     max_depth=None, min_child_weight=None,\n",
       "                                     missing=nan, monotone_constra...\n",
       "                                     reg_lambda=None, scale_pos_weight=None,\n",
       "                                     subsample=None, tree_method=None,\n",
       "                                     validate_parameters=None, verbosity=None),\n",
       "             iid='warn', n_jobs=-1,\n",
       "             param_grid={'learning_rate': [0.1, 0.05, 0.02, 0.01],\n",
       "                         'max_depth': [2, 4, 6],\n",
       "                         'max_features': [1.0, 0.3, 0.1],\n",
       "                         'min_samples_leaf': [1, 2, 5, 10],\n",
       "                         'n_estimators': [300, 500, 750, 1000]},\n",
       "             pre_dispatch='2*n_jobs', refit=True, return_train_score=False,\n",
       "             scoring='f1', verbose=0)"
      ]
     },
     "execution_count": 138,
     "metadata": {},
     "output_type": "execute_result"
    }
   ],
   "source": [
    "from xgboost import XGBClassifier\n",
    "param_grid = {'learning_rate': [0.1, 0.05, 0.02, 0.01],\n",
    "                          'max_depth': [2, 4, 6],\n",
    "                          'min_samples_leaf': [1, 2, 5, 10],\n",
    "                          'max_features': [1.0, 0.3, 0.1],\n",
    "                          'n_estimators': [300, 500,750,1000]}\n",
    "\n",
    "xgb = XGBClassifier()\n",
    "xgb_cv = GridSearchCV(xgb,param_grid, n_jobs = -1, cv =10, scoring = 'f1')\n",
    "xgb_cv.fit(X_dummies_train,y_train)\n"
   ]
  },
  {
   "cell_type": "code",
   "execution_count": 139,
   "metadata": {},
   "outputs": [
    {
     "data": {
      "text/plain": [
       "{'learning_rate': 0.01,\n",
       " 'max_depth': 6,\n",
       " 'max_features': 1.0,\n",
       " 'min_samples_leaf': 1,\n",
       " 'n_estimators': 300}"
      ]
     },
     "execution_count": 139,
     "metadata": {},
     "output_type": "execute_result"
    }
   ],
   "source": [
    "xgb_cv.best_params_"
   ]
  },
  {
   "cell_type": "code",
   "execution_count": 140,
   "metadata": {},
   "outputs": [
    {
     "data": {
      "text/plain": [
       "0.5352142011371854"
      ]
     },
     "execution_count": 140,
     "metadata": {},
     "output_type": "execute_result"
    }
   ],
   "source": [
    "xgb_cv.best_score_"
   ]
  },
  {
   "cell_type": "code",
   "execution_count": 387,
   "metadata": {
    "scrolled": false
   },
   "outputs": [
    {
     "name": "stdout",
     "output_type": "stream",
     "text": [
      "Average Recall Score : 0.5749822946175638\n",
      "Average Precision Score : 0.5184907705935113\n",
      "Average F1 Score : 0.5437742989761511\n",
      "F1 Scores:[0.57512953 0.53182461 0.56225931 0.54374159 0.56957087 0.55388813\n",
      " 0.48801128 0.51339915 0.55813953 0.54177898]\n"
     ]
    }
   ],
   "source": [
    "gb =GradientBoostingClassifier(learning_rate =0.01,\n",
    "                               max_depth = 6,\n",
    "                               max_features = 1.0,\n",
    "                               min_samples_leaf=1,\n",
    "                               n_estimators= 300)\n",
    "print_cv_scores(gb,X_dummies_train,y_train)"
   ]
  },
  {
   "cell_type": "code",
   "execution_count": 389,
   "metadata": {},
   "outputs": [
    {
     "data": {
      "text/plain": [
       "GradientBoostingClassifier(criterion='friedman_mse', init=None,\n",
       "                           learning_rate=0.01, loss='deviance', max_depth=6,\n",
       "                           max_features=1.0, max_leaf_nodes=None,\n",
       "                           min_impurity_decrease=0.0, min_impurity_split=None,\n",
       "                           min_samples_leaf=1, min_samples_split=2,\n",
       "                           min_weight_fraction_leaf=0.0, n_estimators=300,\n",
       "                           n_iter_no_change=None, presort='auto',\n",
       "                           random_state=None, subsample=1.0, tol=0.0001,\n",
       "                           validation_fraction=0.1, verbose=0,\n",
       "                           warm_start=False)"
      ]
     },
     "execution_count": 389,
     "metadata": {},
     "output_type": "execute_result"
    }
   ],
   "source": [
    "gb.fit(X_dummies_train,y_train)"
   ]
  },
  {
   "cell_type": "code",
   "execution_count": 390,
   "metadata": {
    "scrolled": false
   },
   "outputs": [
    {
     "data": {
      "text/plain": [
       "Text(0, 0.5, 'Feature Name')"
      ]
     },
     "execution_count": 390,
     "metadata": {},
     "output_type": "execute_result"
    },
    {
     "data": {
      "image/png": "[encoded data removed]",
      "text/plain": [
       "<Figure size 432x288 with 1 Axes>"
      ]
     },
     "metadata": {
      "needs_background": "light"
     },
     "output_type": "display_data"
    }
   ],
   "source": [
    "names  = X_dummies_train.columns \n",
    "feature_importances = 100*gb.feature_importances_ / np.sum(gb.feature_importances_)\n",
    "feature_importances, feature_names, feature_idxs = \\\n",
    "    zip(*sorted(zip(feature_importances, names, range(len(names)))))\n",
    "\n",
    "width = 0.8\n",
    "\n",
    "idx = np.arange(len(names))\n",
    "plt.barh(idx, feature_importances, align='center')\n",
    "plt.yticks(idx, feature_names)\n",
    "\n",
    "plt.title(\"Feature Importances in Gradient Booster\")\n",
    "plt.xlabel('Relative Importance of Feature', fontsize=14)\n",
    "plt.ylabel('Feature Name', fontsize=14)"
   ]
  },
  {
   "cell_type": "code",
   "execution_count": 393,
   "metadata": {},
   "outputs": [],
   "source": [
    "X6 = X_dummies[['game_over_under', 'line', 'temperature', 'wind_speed', 'wind_bearing',\n",
    "       'Total Score Over Close', 'Total Score Under Close',\n",
    "       'Total Score Over Odds Range', 'Total Score Under Odds Range',\n",
    "       'surface_Grass', 'surface_Turf',\n",
    "       'weather_Cloudy', 'weather_Dome',\n",
    "       'weather_Partly Cloudy Day', 'weather_Partly Cloudy Night',\n",
    "       'weather_Rain', 'start_Late', 'start_Night']]\n",
    "\n"
   ]
  },
  {
   "cell_type": "code",
   "execution_count": 403,
   "metadata": {},
   "outputs": [],
   "source": [
    "X6_train, X6_test, y6_train, y6_test = train_test_split(X6, y, test_size = 0.20)"
   ]
  },
  {
   "cell_type": "code",
   "execution_count": 405,
   "metadata": {},
   "outputs": [
    {
     "data": {
      "text/plain": [
       "(7098, 18)"
      ]
     },
     "execution_count": 405,
     "metadata": {},
     "output_type": "execute_result"
    }
   ],
   "source": [
    "X6_train.shape"
   ]
  },
  {
   "cell_type": "code",
   "execution_count": 404,
   "metadata": {},
   "outputs": [
    {
     "name": "stdout",
     "output_type": "stream",
     "text": [
      "Average Recall Score : 0.47479609279609286\n",
      "Average Precision Score : 0.5091866530685781\n",
      "Average F1 Score : 0.4855493457841261\n",
      "F1 Scores:[0.47703704 0.4549483  0.51014493 0.50647482 0.47129909 0.50666667\n",
      " 0.49339207 0.48211509 0.42813456 0.5252809 ]\n"
     ]
    }
   ],
   "source": [
    "gb =GradientBoostingClassifier(learning_rate =0.01,\n",
    "                               max_depth = 6,\n",
    "                               max_features = 1.0,\n",
    "                               min_samples_leaf=1,\n",
    "                               n_estimators= 300)\n",
    "print_cv_scores(gb,X6_train,y6_train)"
   ]
  },
  {
   "cell_type": "code",
   "execution_count": 406,
   "metadata": {},
   "outputs": [
    {
     "name": "stdout",
     "output_type": "stream",
     "text": [
      "[06:34:24] WARNING: /Users/travis/build/dmlc/xgboost/src/learner.cc:516: \n",
      "Parameters: { max_features, min_samples_leaf } might not be used.\n",
      "\n",
      "  This may not be accurate due to some parameters are only used in language bindings but\n",
      "  passed down to XGBoost core.  Or some parameters are not used but slip through this\n",
      "  verification. Please open an issue if you find above cases.\n",
      "\n",
      "\n"
     ]
    },
    {
     "data": {
      "text/plain": [
       "GridSearchCV(cv=5, error_score='raise-deprecating',\n",
       "             estimator=XGBClassifier(base_score=None, booster=None,\n",
       "                                     colsample_bylevel=None,\n",
       "                                     colsample_bynode=None,\n",
       "                                     colsample_bytree=None, gamma=None,\n",
       "                                     gpu_id=None, importance_type='gain',\n",
       "                                     interaction_constraints=None,\n",
       "                                     learning_rate=None, max_delta_step=None,\n",
       "                                     max_depth=None, min_child_weight=None,\n",
       "                                     missing=nan, monotone_constrai...\n",
       "                                     reg_lambda=None, scale_pos_weight=None,\n",
       "                                     subsample=None, tree_method=None,\n",
       "                                     validate_parameters=None, verbosity=None),\n",
       "             iid='warn', n_jobs=-1,\n",
       "             param_grid={'learning_rate': [0.1, 0.05, 0.02, 0.01],\n",
       "                         'max_depth': [2, 4, 6],\n",
       "                         'max_features': [1.0, 0.3, 0.1],\n",
       "                         'min_samples_leaf': [1, 2, 5, 10],\n",
       "                         'n_estimators': [300, 500, 750, 1000]},\n",
       "             pre_dispatch='2*n_jobs', refit=True, return_train_score=False,\n",
       "             scoring='f1', verbose=0)"
      ]
     },
     "execution_count": 406,
     "metadata": {},
     "output_type": "execute_result"
    }
   ],
   "source": [
    "\n",
    "param_grid = {'learning_rate': [0.1, 0.05, 0.02, 0.01],\n",
    "                          'max_depth': [2, 4, 6],\n",
    "                          'min_samples_leaf': [1, 2, 5, 10],\n",
    "                          'max_features': [1.0, 0.3, 0.1],\n",
    "                          'n_estimators': [300, 500,750,1000]}\n",
    "\n",
    "xgb = XGBClassifier()\n",
    "xgb_cv = GridSearchCV(xgb,param_grid, n_jobs = -1, cv =5, scoring = 'f1')\n",
    "xgb_cv.fit(X6_train,y6_train)\n"
   ]
  },
  {
   "cell_type": "code",
   "execution_count": 397,
   "metadata": {},
   "outputs": [
    {
     "data": {
      "text/plain": [
       "{'learning_rate': 0.01,\n",
       " 'max_depth': 2,\n",
       " 'max_features': 1.0,\n",
       " 'min_samples_leaf': 1,\n",
       " 'n_estimators': 300}"
      ]
     },
     "execution_count": 397,
     "metadata": {},
     "output_type": "execute_result"
    }
   ],
   "source": [
    "xgb_cv.best_params_"
   ]
  },
  {
   "cell_type": "code",
   "execution_count": 398,
   "metadata": {},
   "outputs": [
    {
     "data": {
      "text/plain": [
       "0.6140725542170717"
      ]
     },
     "execution_count": 398,
     "metadata": {},
     "output_type": "execute_result"
    }
   ],
   "source": [
    "xgb_cv.best_score_"
   ]
  },
  {
   "cell_type": "code",
   "execution_count": 400,
   "metadata": {},
   "outputs": [
    {
     "name": "stdout",
     "output_type": "stream",
     "text": [
      "Average Recall Score : 0.7519225967540575\n",
      "Average Precision Score : 0.5393123506035327\n",
      "Average F1 Score : 0.6276101205031852\n",
      "F1 Scores:[0.62222222 0.65486726 0.6        0.62857143 0.62162162 0.64840183\n",
      " 0.61320755 0.61395349 0.62325581 0.65      ]\n"
     ]
    }
   ],
   "source": [
    "gb = GradientBoostingClassifier(learning_rate= 0.01,\n",
    "                                 max_depth = 2,\n",
    "                                 max_features= 1.0,\n",
    "                                 min_samples_leaf=1,\n",
    "                                 n_estimators =300)\n",
    "print_cv_scores(gb, X6_train, y6_train)"
   ]
  },
  {
   "cell_type": "markdown",
   "metadata": {},
   "source": [
    "## TESTING!!!"
   ]
  },
  {
   "cell_type": "markdown",
   "metadata": {},
   "source": [
    "### Non-Standardized Tuned Logistc Regression Model"
   ]
  },
  {
   "cell_type": "code",
   "execution_count": 380,
   "metadata": {},
   "outputs": [],
   "source": [
    "X3_train, X3_test, y3_train, y3_test = train_test_split(X3, y, test_size = 0.20)"
   ]
  },
  {
   "cell_type": "code",
   "execution_count": 382,
   "metadata": {},
   "outputs": [
    {
     "name": "stdout",
     "output_type": "stream",
     "text": [
      "Recall score : 0.5852803738317757\n",
      "Precision score : 0.499003984063745\n",
      "F1 score : 0.5387096774193548\n"
     ]
    }
   ],
   "source": [
    "logreg = LogisticRegression(C = 31.622776601683793)\n",
    "logreg.fit(X3_train,y3_train)\n",
    "y_pred = logreg.predict(X3_test)\n",
    "print(f'Recall score : {recall_score(y3_test,y_pred)}')\n",
    "print(f'Precision score : {precision_score(y3_test, y_pred)}')\n",
    "print(f'F1 score : {f1_score(y3_test, y_pred)}')"
   ]
  },
  {
   "cell_type": "markdown",
   "metadata": {},
   "source": [
    "### Standardized Tuned Logistc Regression Model"
   ]
  },
  {
   "cell_type": "code",
   "execution_count": 383,
   "metadata": {},
   "outputs": [],
   "source": [
    "X3_train_stand = X3_train.copy()\n",
    "X3_test_stand = X3_test.copy()\n",
    "scale = StandardScaler().fit(X3_train_stand)\n",
    "X3_train_stand = scale.transform(X3_train_stand)\n",
    "X3_test_stand = scale.transform(X3_test_stand)"
   ]
  },
  {
   "cell_type": "code",
   "execution_count": 384,
   "metadata": {},
   "outputs": [
    {
     "name": "stdout",
     "output_type": "stream",
     "text": [
      "Recall score : 0.5841121495327103\n",
      "Precision score : 0.499001996007984\n",
      "F1 score : 0.5382131324004306\n"
     ]
    }
   ],
   "source": [
    "logreg = LogisticRegression(C = 31.622776601683793)\n",
    "logreg.fit(X3_train_stand,y3_train)\n",
    "y_pred = logreg.predict(X3_test_stand)\n",
    "print(f'Recall score : {recall_score(y3_test,y_pred)}')\n",
    "print(f'Precision score : {precision_score(y3_test, y_pred)}')\n",
    "print(f'F1 score : {f1_score(y3_test, y_pred)}')"
   ]
  },
  {
   "cell_type": "markdown",
   "metadata": {},
   "source": [
    "### Tuned GradientBoost"
   ]
  },
  {
   "cell_type": "code",
   "execution_count": 385,
   "metadata": {},
   "outputs": [],
   "source": [
    "X_dummies_train, X_dummies_test, y_train, y_test = train_test_split(X_dummies,y, test_size = 0.20)"
   ]
  },
  {
   "cell_type": "code",
   "execution_count": 386,
   "metadata": {},
   "outputs": [
    {
     "name": "stdout",
     "output_type": "stream",
     "text": [
      "Recall score : 0.5859284890426759\n",
      "Precision score : 0.4946445959104187\n",
      "F1 score : 0.5364308342133053\n"
     ]
    }
   ],
   "source": [
    "gb =GradientBoostingClassifier(learning_rate =0.01,\n",
    "                               max_depth = 6,\n",
    "                               max_features = 1.0,\n",
    "                               min_samples_leaf=1,\n",
    "                               n_estimators= 300)\n",
    "gb.fit(X_dummies_train, y_train)\n",
    "y_pred = gb.predict(X_dummies_test)\n",
    "print(f'Recall score : {recall_score(y_test,y_pred)}')\n",
    "print(f'Precision score : {precision_score(y_test, y_pred)}')\n",
    "print(f'F1 score : {f1_score(y_test, y_pred)}')"
   ]
  }
 ],
 "metadata": {
  "kernelspec": {
   "display_name": "Python 3",
   "language": "python",
   "name": "python3"
  },
  "language_info": {
   "codemirror_mode": {
    "name": "ipython",
    "version": 3
   },
   "file_extension": ".py",
   "mimetype": "text/x-python",
   "name": "python",
   "nbconvert_exporter": "python",
   "pygments_lexer": "ipython3",
   "version": "3.7.7"
  }
 },
 "nbformat": 4,
 "nbformat_minor": 2
}
