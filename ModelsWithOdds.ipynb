{
 "cells": [
  {
   "cell_type": "code",
   "execution_count": 144,
   "metadata": {},
   "outputs": [],
   "source": [
    "import pandas as pd \n",
    "from sklearn.preprocessing import StandardScaler\n",
    "from statsmodels.tools import add_constant\n",
    "from statsmodels.discrete.discrete_model import Logit\n",
    "from sklearn.linear_model import LogisticRegression, Lasso, Ridge\n",
    "from sklearn.model_selection import train_test_split, cross_val_score\n",
    "from sklearn.tree import DecisionTreeClassifier\n",
    "from sklearn.ensemble import RandomForestClassifier,GradientBoostingClassifier, AdaBoostClassifier \n",
    "from sklearn.metrics import roc_auc_score,accuracy_score, precision_score,recall_score, f1_score\n",
    "from sklearn.model_selection import RandomizedSearchCV, GridSearchCV"
   ]
  },
  {
   "cell_type": "code",
   "execution_count": 46,
   "metadata": {},
   "outputs": [],
   "source": [
    "import warnings\n",
    "warnings.filterwarnings(\"ignore\", category=FutureWarning)"
   ]
  },
  {
   "cell_type": "code",
   "execution_count": 2,
   "metadata": {},
   "outputs": [],
   "source": [
    "with_ou = pd.read_csv('games_and_odds.csv')"
   ]
  },
  {
   "cell_type": "code",
   "execution_count": 121,
   "metadata": {},
   "outputs": [],
   "source": [
    "with_ou2 = pd.read_csv('games_and_odds2.csv')"
   ]
  },
  {
   "cell_type": "code",
   "execution_count": 3,
   "metadata": {
    "scrolled": false
   },
   "outputs": [
    {
     "data": {
      "text/html": [
       "<div>\n",
       "<style scoped>\n",
       "    .dataframe tbody tr th:only-of-type {\n",
       "        vertical-align: middle;\n",
       "    }\n",
       "\n",
       "    .dataframe tbody tr th {\n",
       "        vertical-align: top;\n",
       "    }\n",
       "\n",
       "    .dataframe thead th {\n",
       "        text-align: right;\n",
       "    }\n",
       "</style>\n",
       "<table border=\"1\" class=\"dataframe\">\n",
       "  <thead>\n",
       "    <tr style=\"text-align: right;\">\n",
       "      <th></th>\n",
       "      <th>Unnamed: 0</th>\n",
       "      <th>season</th>\n",
       "      <th>week</th>\n",
       "      <th>Date</th>\n",
       "      <th>Home Team</th>\n",
       "      <th>Away Team</th>\n",
       "      <th>home_team_score</th>\n",
       "      <th>visit_team_score</th>\n",
       "      <th>game_over_under</th>\n",
       "      <th>line</th>\n",
       "      <th>...</th>\n",
       "      <th>month</th>\n",
       "      <th>start</th>\n",
       "      <th>over_hit</th>\n",
       "      <th>under_hit</th>\n",
       "      <th>favorite_covered</th>\n",
       "      <th>underdog_covered</th>\n",
       "      <th>Total Score Over Close</th>\n",
       "      <th>Total Score Under Close</th>\n",
       "      <th>Total Score Over Odds Range</th>\n",
       "      <th>Total Score Under Odds Range</th>\n",
       "    </tr>\n",
       "  </thead>\n",
       "  <tbody>\n",
       "    <tr>\n",
       "      <td>0</td>\n",
       "      <td>0</td>\n",
       "      <td>1983</td>\n",
       "      <td>1</td>\n",
       "      <td>1983-09-03</td>\n",
       "      <td>SF</td>\n",
       "      <td>PHI</td>\n",
       "      <td>17</td>\n",
       "      <td>22</td>\n",
       "      <td>40.0</td>\n",
       "      <td>-4.0</td>\n",
       "      <td>...</td>\n",
       "      <td>September</td>\n",
       "      <td>Night</td>\n",
       "      <td>0</td>\n",
       "      <td>1</td>\n",
       "      <td>0</td>\n",
       "      <td>1</td>\n",
       "      <td>1.936783</td>\n",
       "      <td>1.93928</td>\n",
       "      <td>0.070516</td>\n",
       "      <td>0.031869</td>\n",
       "    </tr>\n",
       "    <tr>\n",
       "      <td>1</td>\n",
       "      <td>1</td>\n",
       "      <td>1983</td>\n",
       "      <td>1</td>\n",
       "      <td>1983-09-04</td>\n",
       "      <td>NO</td>\n",
       "      <td>ARI</td>\n",
       "      <td>28</td>\n",
       "      <td>17</td>\n",
       "      <td>37.0</td>\n",
       "      <td>-3.0</td>\n",
       "      <td>...</td>\n",
       "      <td>September</td>\n",
       "      <td>Day</td>\n",
       "      <td>1</td>\n",
       "      <td>0</td>\n",
       "      <td>1</td>\n",
       "      <td>0</td>\n",
       "      <td>1.936783</td>\n",
       "      <td>1.93928</td>\n",
       "      <td>0.070516</td>\n",
       "      <td>0.031869</td>\n",
       "    </tr>\n",
       "    <tr>\n",
       "      <td>2</td>\n",
       "      <td>2</td>\n",
       "      <td>1983</td>\n",
       "      <td>1</td>\n",
       "      <td>1983-09-04</td>\n",
       "      <td>BUF</td>\n",
       "      <td>MIA</td>\n",
       "      <td>0</td>\n",
       "      <td>12</td>\n",
       "      <td>36.0</td>\n",
       "      <td>4.0</td>\n",
       "      <td>...</td>\n",
       "      <td>September</td>\n",
       "      <td>Day</td>\n",
       "      <td>0</td>\n",
       "      <td>1</td>\n",
       "      <td>0</td>\n",
       "      <td>1</td>\n",
       "      <td>1.936783</td>\n",
       "      <td>1.93928</td>\n",
       "      <td>0.070516</td>\n",
       "      <td>0.031869</td>\n",
       "    </tr>\n",
       "    <tr>\n",
       "      <td>3</td>\n",
       "      <td>3</td>\n",
       "      <td>1983</td>\n",
       "      <td>1</td>\n",
       "      <td>1983-09-04</td>\n",
       "      <td>CHI</td>\n",
       "      <td>ATL</td>\n",
       "      <td>17</td>\n",
       "      <td>20</td>\n",
       "      <td>38.0</td>\n",
       "      <td>-1.5</td>\n",
       "      <td>...</td>\n",
       "      <td>September</td>\n",
       "      <td>Day</td>\n",
       "      <td>0</td>\n",
       "      <td>1</td>\n",
       "      <td>0</td>\n",
       "      <td>1</td>\n",
       "      <td>1.936783</td>\n",
       "      <td>1.93928</td>\n",
       "      <td>0.070516</td>\n",
       "      <td>0.031869</td>\n",
       "    </tr>\n",
       "    <tr>\n",
       "      <td>4</td>\n",
       "      <td>4</td>\n",
       "      <td>1983</td>\n",
       "      <td>1</td>\n",
       "      <td>1983-09-04</td>\n",
       "      <td>CIN</td>\n",
       "      <td>OAK</td>\n",
       "      <td>10</td>\n",
       "      <td>20</td>\n",
       "      <td>42.0</td>\n",
       "      <td>-2.0</td>\n",
       "      <td>...</td>\n",
       "      <td>September</td>\n",
       "      <td>Day</td>\n",
       "      <td>0</td>\n",
       "      <td>1</td>\n",
       "      <td>0</td>\n",
       "      <td>1</td>\n",
       "      <td>1.936783</td>\n",
       "      <td>1.93928</td>\n",
       "      <td>0.070516</td>\n",
       "      <td>0.031869</td>\n",
       "    </tr>\n",
       "  </tbody>\n",
       "</table>\n",
       "<p>5 rows × 26 columns</p>\n",
       "</div>"
      ],
      "text/plain": [
       "   Unnamed: 0  season  week        Date Home Team Away Team  home_team_score  \\\n",
       "0           0    1983     1  1983-09-03        SF       PHI               17   \n",
       "1           1    1983     1  1983-09-04        NO       ARI               28   \n",
       "2           2    1983     1  1983-09-04       BUF       MIA                0   \n",
       "3           3    1983     1  1983-09-04       CHI       ATL               17   \n",
       "4           4    1983     1  1983-09-04       CIN       OAK               10   \n",
       "\n",
       "   visit_team_score  game_over_under  line  ...      month  start  over_hit  \\\n",
       "0                22             40.0  -4.0  ...  September  Night         0   \n",
       "1                17             37.0  -3.0  ...  September    Day         1   \n",
       "2                12             36.0   4.0  ...  September    Day         0   \n",
       "3                20             38.0  -1.5  ...  September    Day         0   \n",
       "4                20             42.0  -2.0  ...  September    Day         0   \n",
       "\n",
       "   under_hit  favorite_covered underdog_covered Total Score Over Close  \\\n",
       "0          1                 0                1               1.936783   \n",
       "1          0                 1                0               1.936783   \n",
       "2          1                 0                1               1.936783   \n",
       "3          1                 0                1               1.936783   \n",
       "4          1                 0                1               1.936783   \n",
       "\n",
       "  Total Score Under Close  Total Score Over Odds Range  \\\n",
       "0                 1.93928                     0.070516   \n",
       "1                 1.93928                     0.070516   \n",
       "2                 1.93928                     0.070516   \n",
       "3                 1.93928                     0.070516   \n",
       "4                 1.93928                     0.070516   \n",
       "\n",
       "   Total Score Under Odds Range  \n",
       "0                      0.031869  \n",
       "1                      0.031869  \n",
       "2                      0.031869  \n",
       "3                      0.031869  \n",
       "4                      0.031869  \n",
       "\n",
       "[5 rows x 26 columns]"
      ]
     },
     "execution_count": 3,
     "metadata": {},
     "output_type": "execute_result"
    }
   ],
   "source": [
    "with_ou.head()"
   ]
  },
  {
   "cell_type": "code",
   "execution_count": 9,
   "metadata": {},
   "outputs": [
    {
     "data": {
      "text/plain": [
       "(9073, 26)"
      ]
     },
     "execution_count": 9,
     "metadata": {},
     "output_type": "execute_result"
    }
   ],
   "source": [
    "with_ou.shape"
   ]
  },
  {
   "cell_type": "code",
   "execution_count": 10,
   "metadata": {},
   "outputs": [],
   "source": [
    "with_ou.drop(with_ou[(with_ou.over_hit == 0) & (with_ou.under_hit == 0)].index,inplace = True)"
   ]
  },
  {
   "cell_type": "code",
   "execution_count": 123,
   "metadata": {},
   "outputs": [],
   "source": [
    "with_ou2.drop(with_ou2[(with_ou2.over_hit == 0) & (with_ou2.under_hit == 0)].index,inplace = True)"
   ]
  },
  {
   "cell_type": "code",
   "execution_count": 12,
   "metadata": {},
   "outputs": [
    {
     "data": {
      "text/plain": [
       "(8873, 26)"
      ]
     },
     "execution_count": 12,
     "metadata": {},
     "output_type": "execute_result"
    }
   ],
   "source": [
    "with_ou.shape"
   ]
  },
  {
   "cell_type": "code",
   "execution_count": 13,
   "metadata": {},
   "outputs": [],
   "source": [
    "with_ou.drop( ['Unnamed: 0',  'Date', \n",
    "       'home_team_score', 'visit_team_score', \n",
    "       'name',  'under_hit', 'favorite_covered',\n",
    "       'underdog_covered'], axis = 1, inplace = True)"
   ]
  },
  {
   "cell_type": "code",
   "execution_count": 124,
   "metadata": {},
   "outputs": [],
   "source": [
    "with_ou2.drop( ['Unnamed: 0',  'Date', \n",
    "       'home_team_score', 'visit_team_score', \n",
    "       'name',  'under_hit', 'favorite_covered',\n",
    "       'underdog_covered'], axis = 1, inplace = True)"
   ]
  },
  {
   "cell_type": "code",
   "execution_count": 14,
   "metadata": {
    "scrolled": true
   },
   "outputs": [
    {
     "data": {
      "text/html": [
       "<div>\n",
       "<style scoped>\n",
       "    .dataframe tbody tr th:only-of-type {\n",
       "        vertical-align: middle;\n",
       "    }\n",
       "\n",
       "    .dataframe tbody tr th {\n",
       "        vertical-align: top;\n",
       "    }\n",
       "\n",
       "    .dataframe thead th {\n",
       "        text-align: right;\n",
       "    }\n",
       "</style>\n",
       "<table border=\"1\" class=\"dataframe\">\n",
       "  <thead>\n",
       "    <tr style=\"text-align: right;\">\n",
       "      <th></th>\n",
       "      <th>season</th>\n",
       "      <th>week</th>\n",
       "      <th>Home Team</th>\n",
       "      <th>Away Team</th>\n",
       "      <th>game_over_under</th>\n",
       "      <th>line</th>\n",
       "      <th>surface</th>\n",
       "      <th>weather_icon</th>\n",
       "      <th>temperature</th>\n",
       "      <th>wind_speed</th>\n",
       "      <th>wind_bearing</th>\n",
       "      <th>month</th>\n",
       "      <th>start</th>\n",
       "      <th>over_hit</th>\n",
       "      <th>Total Score Over Close</th>\n",
       "      <th>Total Score Under Close</th>\n",
       "      <th>Total Score Over Odds Range</th>\n",
       "      <th>Total Score Under Odds Range</th>\n",
       "    </tr>\n",
       "  </thead>\n",
       "  <tbody>\n",
       "    <tr>\n",
       "      <td>0</td>\n",
       "      <td>1983</td>\n",
       "      <td>1</td>\n",
       "      <td>SF</td>\n",
       "      <td>PHI</td>\n",
       "      <td>40.0</td>\n",
       "      <td>-4.0</td>\n",
       "      <td>Grass</td>\n",
       "      <td>Clear Day</td>\n",
       "      <td>73.32</td>\n",
       "      <td>6.12</td>\n",
       "      <td>282.0</td>\n",
       "      <td>September</td>\n",
       "      <td>Night</td>\n",
       "      <td>0</td>\n",
       "      <td>1.936783</td>\n",
       "      <td>1.93928</td>\n",
       "      <td>0.070516</td>\n",
       "      <td>0.031869</td>\n",
       "    </tr>\n",
       "    <tr>\n",
       "      <td>1</td>\n",
       "      <td>1983</td>\n",
       "      <td>1</td>\n",
       "      <td>NO</td>\n",
       "      <td>ARI</td>\n",
       "      <td>37.0</td>\n",
       "      <td>-3.0</td>\n",
       "      <td>Dome</td>\n",
       "      <td>Dome</td>\n",
       "      <td>70.00</td>\n",
       "      <td>0.00</td>\n",
       "      <td>0.0</td>\n",
       "      <td>September</td>\n",
       "      <td>Day</td>\n",
       "      <td>1</td>\n",
       "      <td>1.936783</td>\n",
       "      <td>1.93928</td>\n",
       "      <td>0.070516</td>\n",
       "      <td>0.031869</td>\n",
       "    </tr>\n",
       "    <tr>\n",
       "      <td>2</td>\n",
       "      <td>1983</td>\n",
       "      <td>1</td>\n",
       "      <td>BUF</td>\n",
       "      <td>MIA</td>\n",
       "      <td>36.0</td>\n",
       "      <td>4.0</td>\n",
       "      <td>Turf</td>\n",
       "      <td>Partly Cloudy Day</td>\n",
       "      <td>78.95</td>\n",
       "      <td>10.67</td>\n",
       "      <td>194.0</td>\n",
       "      <td>September</td>\n",
       "      <td>Day</td>\n",
       "      <td>0</td>\n",
       "      <td>1.936783</td>\n",
       "      <td>1.93928</td>\n",
       "      <td>0.070516</td>\n",
       "      <td>0.031869</td>\n",
       "    </tr>\n",
       "    <tr>\n",
       "      <td>3</td>\n",
       "      <td>1983</td>\n",
       "      <td>1</td>\n",
       "      <td>CHI</td>\n",
       "      <td>ATL</td>\n",
       "      <td>38.0</td>\n",
       "      <td>-1.5</td>\n",
       "      <td>Grass</td>\n",
       "      <td>Clear Day</td>\n",
       "      <td>86.66</td>\n",
       "      <td>11.04</td>\n",
       "      <td>196.0</td>\n",
       "      <td>September</td>\n",
       "      <td>Day</td>\n",
       "      <td>0</td>\n",
       "      <td>1.936783</td>\n",
       "      <td>1.93928</td>\n",
       "      <td>0.070516</td>\n",
       "      <td>0.031869</td>\n",
       "    </tr>\n",
       "    <tr>\n",
       "      <td>4</td>\n",
       "      <td>1983</td>\n",
       "      <td>1</td>\n",
       "      <td>CIN</td>\n",
       "      <td>OAK</td>\n",
       "      <td>42.0</td>\n",
       "      <td>-2.0</td>\n",
       "      <td>Turf</td>\n",
       "      <td>Clear Day</td>\n",
       "      <td>82.18</td>\n",
       "      <td>7.90</td>\n",
       "      <td>194.0</td>\n",
       "      <td>September</td>\n",
       "      <td>Day</td>\n",
       "      <td>0</td>\n",
       "      <td>1.936783</td>\n",
       "      <td>1.93928</td>\n",
       "      <td>0.070516</td>\n",
       "      <td>0.031869</td>\n",
       "    </tr>\n",
       "  </tbody>\n",
       "</table>\n",
       "</div>"
      ],
      "text/plain": [
       "   season  week Home Team Away Team  game_over_under  line surface  \\\n",
       "0    1983     1        SF       PHI             40.0  -4.0   Grass   \n",
       "1    1983     1        NO       ARI             37.0  -3.0    Dome   \n",
       "2    1983     1       BUF       MIA             36.0   4.0    Turf   \n",
       "3    1983     1       CHI       ATL             38.0  -1.5   Grass   \n",
       "4    1983     1       CIN       OAK             42.0  -2.0    Turf   \n",
       "\n",
       "        weather_icon  temperature  wind_speed  wind_bearing      month  start  \\\n",
       "0          Clear Day        73.32        6.12         282.0  September  Night   \n",
       "1               Dome        70.00        0.00           0.0  September    Day   \n",
       "2  Partly Cloudy Day        78.95       10.67         194.0  September    Day   \n",
       "3          Clear Day        86.66       11.04         196.0  September    Day   \n",
       "4          Clear Day        82.18        7.90         194.0  September    Day   \n",
       "\n",
       "   over_hit  Total Score Over Close  Total Score Under Close  \\\n",
       "0         0                1.936783                  1.93928   \n",
       "1         1                1.936783                  1.93928   \n",
       "2         0                1.936783                  1.93928   \n",
       "3         0                1.936783                  1.93928   \n",
       "4         0                1.936783                  1.93928   \n",
       "\n",
       "   Total Score Over Odds Range  Total Score Under Odds Range  \n",
       "0                     0.070516                      0.031869  \n",
       "1                     0.070516                      0.031869  \n",
       "2                     0.070516                      0.031869  \n",
       "3                     0.070516                      0.031869  \n",
       "4                     0.070516                      0.031869  "
      ]
     },
     "execution_count": 14,
     "metadata": {},
     "output_type": "execute_result"
    }
   ],
   "source": [
    "with_ou.head()"
   ]
  },
  {
   "cell_type": "markdown",
   "metadata": {},
   "source": [
    "#### without dummies"
   ]
  },
  {
   "cell_type": "code",
   "execution_count": 15,
   "metadata": {},
   "outputs": [],
   "source": [
    "X = with_ou.drop(['over_hit','season','week','Home Team', 'Away Team','surface','weather_icon','month','start'], axis = 1)\n",
    "y = with_ou.over_hit"
   ]
  },
  {
   "cell_type": "code",
   "execution_count": 16,
   "metadata": {},
   "outputs": [],
   "source": [
    "X_train, X_test, y_train, y_test = train_test_split(X,y,test_size = 0.2)"
   ]
  },
  {
   "cell_type": "markdown",
   "metadata": {},
   "source": [
    "#### Standardized "
   ]
  },
  {
   "cell_type": "code",
   "execution_count": 17,
   "metadata": {},
   "outputs": [],
   "source": [
    "def print_cv_scores(model,X_train,y_train ):\n",
    "    accuracy = cross_val_score(model,X_train,y_train, cv=10, scoring = 'accuracy').mean()\n",
    "    f1 = cross_val_score(model, X_train,y_train, cv = 10, scoring ='f1').mean()\n",
    "    print(f'Accuracy Score : {accuracy}')\n",
    "    print(f'F1 Score : {f1}')\n"
   ]
  },
  {
   "cell_type": "code",
   "execution_count": 18,
   "metadata": {},
   "outputs": [],
   "source": [
    "def model_prediction_scores(model,X_train,X_test,y_train, y_test):\n",
    "    model.fit(X_train,y_train)\n",
    "    y_pred = model.predict(X_test)\n",
    "    accuracy = accuracy_score(y_test, y_pred)\n",
    "    f1 = f1_score(y_test, y_pred)\n",
    "    print(f'Accuracy Score : {accuracy}')\n",
    "    print(f'F1 Score : {f1}')\n"
   ]
  },
  {
   "cell_type": "code",
   "execution_count": 19,
   "metadata": {},
   "outputs": [],
   "source": [
    "X_train_stand = X_train.copy()\n",
    "X_test_stand = X_test.copy()\n",
    "scale = StandardScaler().fit(X_train_stand)\n",
    "X_train_stand = scale.transform(X_train_stand)\n",
    "X_test_stand = scale.transform(X_test_stand)"
   ]
  },
  {
   "cell_type": "code",
   "execution_count": 20,
   "metadata": {},
   "outputs": [
    {
     "name": "stdout",
     "output_type": "stream",
     "text": [
      "Accuracy Score : 0.5160533847741566\n",
      "F1 Score : 0.5220544002628682\n"
     ]
    }
   ],
   "source": [
    "logreg = LogisticRegression(solver = 'lbfgs')\n",
    "print_cv_scores(logreg, X_train_stand, y_train)"
   ]
  },
  {
   "cell_type": "code",
   "execution_count": 21,
   "metadata": {
    "scrolled": true
   },
   "outputs": [
    {
     "name": "stdout",
     "output_type": "stream",
     "text": [
      "Accuracy Score : 0.5154929577464789\n",
      "F1 Score : 0.5141242937853108\n"
     ]
    }
   ],
   "source": [
    "logreg = LogisticRegression(solver = 'lbfgs')\n",
    "model_prediction_scores(logreg, X_train_stand, X_test_stand,y_train, y_test)"
   ]
  },
  {
   "cell_type": "markdown",
   "metadata": {},
   "source": []
  },
  {
   "cell_type": "code",
   "execution_count": 22,
   "metadata": {
    "scrolled": true
   },
   "outputs": [
    {
     "name": "stdout",
     "output_type": "stream",
     "text": [
      "Optimization terminated successfully.\n",
      "         Current function value: 0.690905\n",
      "         Iterations 4\n"
     ]
    },
    {
     "name": "stderr",
     "output_type": "stream",
     "text": [
      "/opt/anaconda3/lib/python3.7/site-packages/numpy/core/fromnumeric.py:2495: FutureWarning: Method .ptp is deprecated and will be removed in a future version. Use numpy.ptp instead.\n",
      "  return ptp(axis=axis, out=out, **kwargs)\n"
     ]
    }
   ],
   "source": [
    "X_const = add_constant(X,prepend =True)\n",
    "logit_model = Logit(y,X_const).fit()"
   ]
  },
  {
   "cell_type": "code",
   "execution_count": 23,
   "metadata": {},
   "outputs": [
    {
     "data": {
      "text/html": [
       "<table class=\"simpletable\">\n",
       "<caption>Logit Regression Results</caption>\n",
       "<tr>\n",
       "  <th>Dep. Variable:</th>       <td>over_hit</td>     <th>  No. Observations:  </th>  <td>  8873</td>  \n",
       "</tr>\n",
       "<tr>\n",
       "  <th>Model:</th>                 <td>Logit</td>      <th>  Df Residuals:      </th>  <td>  8863</td>  \n",
       "</tr>\n",
       "<tr>\n",
       "  <th>Method:</th>                 <td>MLE</td>       <th>  Df Model:          </th>  <td>     9</td>  \n",
       "</tr>\n",
       "<tr>\n",
       "  <th>Date:</th>            <td>Wed, 26 Aug 2020</td> <th>  Pseudo R-squ.:     </th> <td>0.003169</td> \n",
       "</tr>\n",
       "<tr>\n",
       "  <th>Time:</th>                <td>12:40:33</td>     <th>  Log-Likelihood:    </th> <td> -6130.4</td> \n",
       "</tr>\n",
       "<tr>\n",
       "  <th>converged:</th>             <td>True</td>       <th>  LL-Null:           </th> <td> -6149.9</td> \n",
       "</tr>\n",
       "<tr>\n",
       "  <th>Covariance Type:</th>     <td>nonrobust</td>    <th>  LLR p-value:       </th> <td>1.164e-05</td>\n",
       "</tr>\n",
       "</table>\n",
       "<table class=\"simpletable\">\n",
       "<tr>\n",
       "                <td></td>                  <th>coef</th>     <th>std err</th>      <th>z</th>      <th>P>|z|</th>  <th>[0.025</th>    <th>0.975]</th>  \n",
       "</tr>\n",
       "<tr>\n",
       "  <th>const</th>                        <td>    7.3262</td> <td>    6.316</td> <td>    1.160</td> <td> 0.246</td> <td>   -5.054</td> <td>   19.706</td>\n",
       "</tr>\n",
       "<tr>\n",
       "  <th>game_over_under</th>              <td>   -0.0206</td> <td>    0.005</td> <td>   -4.399</td> <td> 0.000</td> <td>   -0.030</td> <td>   -0.011</td>\n",
       "</tr>\n",
       "<tr>\n",
       "  <th>line</th>                         <td>   -0.0027</td> <td>    0.004</td> <td>   -0.752</td> <td> 0.452</td> <td>   -0.010</td> <td>    0.004</td>\n",
       "</tr>\n",
       "<tr>\n",
       "  <th>temperature</th>                  <td>   -0.0011</td> <td>    0.001</td> <td>   -0.773</td> <td> 0.440</td> <td>   -0.004</td> <td>    0.002</td>\n",
       "</tr>\n",
       "<tr>\n",
       "  <th>wind_speed</th>                   <td>   -0.0239</td> <td>    0.005</td> <td>   -4.859</td> <td> 0.000</td> <td>   -0.034</td> <td>   -0.014</td>\n",
       "</tr>\n",
       "<tr>\n",
       "  <th>wind_bearing</th>                 <td>    0.0003</td> <td>    0.000</td> <td>    1.603</td> <td> 0.109</td> <td> -7.3e-05</td> <td>    0.001</td>\n",
       "</tr>\n",
       "<tr>\n",
       "  <th>Total Score Over Close</th>       <td>   -1.1042</td> <td>    1.819</td> <td>   -0.607</td> <td> 0.544</td> <td>   -4.669</td> <td>    2.461</td>\n",
       "</tr>\n",
       "<tr>\n",
       "  <th>Total Score Under Close</th>      <td>   -2.2448</td> <td>    1.790</td> <td>   -1.254</td> <td> 0.210</td> <td>   -5.754</td> <td>    1.264</td>\n",
       "</tr>\n",
       "<tr>\n",
       "  <th>Total Score Over Odds Range</th>  <td>    1.2549</td> <td>    1.100</td> <td>    1.141</td> <td> 0.254</td> <td>   -0.901</td> <td>    3.411</td>\n",
       "</tr>\n",
       "<tr>\n",
       "  <th>Total Score Under Odds Range</th> <td>    1.8828</td> <td>    1.781</td> <td>    1.057</td> <td> 0.290</td> <td>   -1.607</td> <td>    5.373</td>\n",
       "</tr>\n",
       "</table>"
      ],
      "text/plain": [
       "<class 'statsmodels.iolib.summary.Summary'>\n",
       "\"\"\"\n",
       "                           Logit Regression Results                           \n",
       "==============================================================================\n",
       "Dep. Variable:               over_hit   No. Observations:                 8873\n",
       "Model:                          Logit   Df Residuals:                     8863\n",
       "Method:                           MLE   Df Model:                            9\n",
       "Date:                Wed, 26 Aug 2020   Pseudo R-squ.:                0.003169\n",
       "Time:                        12:40:33   Log-Likelihood:                -6130.4\n",
       "converged:                       True   LL-Null:                       -6149.9\n",
       "Covariance Type:            nonrobust   LLR p-value:                 1.164e-05\n",
       "================================================================================================\n",
       "                                   coef    std err          z      P>|z|      [0.025      0.975]\n",
       "------------------------------------------------------------------------------------------------\n",
       "const                            7.3262      6.316      1.160      0.246      -5.054      19.706\n",
       "game_over_under                 -0.0206      0.005     -4.399      0.000      -0.030      -0.011\n",
       "line                            -0.0027      0.004     -0.752      0.452      -0.010       0.004\n",
       "temperature                     -0.0011      0.001     -0.773      0.440      -0.004       0.002\n",
       "wind_speed                      -0.0239      0.005     -4.859      0.000      -0.034      -0.014\n",
       "wind_bearing                     0.0003      0.000      1.603      0.109    -7.3e-05       0.001\n",
       "Total Score Over Close          -1.1042      1.819     -0.607      0.544      -4.669       2.461\n",
       "Total Score Under Close         -2.2448      1.790     -1.254      0.210      -5.754       1.264\n",
       "Total Score Over Odds Range      1.2549      1.100      1.141      0.254      -0.901       3.411\n",
       "Total Score Under Odds Range     1.8828      1.781      1.057      0.290      -1.607       5.373\n",
       "================================================================================================\n",
       "\"\"\""
      ]
     },
     "execution_count": 23,
     "metadata": {},
     "output_type": "execute_result"
    }
   ],
   "source": [
    "logit_model.summary()"
   ]
  },
  {
   "cell_type": "markdown",
   "metadata": {},
   "source": [
    "#### Not Standardized"
   ]
  },
  {
   "cell_type": "code",
   "execution_count": 24,
   "metadata": {},
   "outputs": [
    {
     "name": "stdout",
     "output_type": "stream",
     "text": [
      "Accuracy Score : 0.5164753240260289\n",
      "F1 Score : 0.5215939944834513\n"
     ]
    }
   ],
   "source": [
    "logreg = LogisticRegression(solver = 'lbfgs')\n",
    "print_cv_scores(logreg, X_train,y_train)"
   ]
  },
  {
   "cell_type": "code",
   "execution_count": 25,
   "metadata": {},
   "outputs": [
    {
     "name": "stdout",
     "output_type": "stream",
     "text": [
      "Accuracy Score : 0.5154929577464789\n",
      "F1 Score : 0.5119182746878547\n"
     ]
    }
   ],
   "source": [
    "logreg = LogisticRegression(solver = 'lbfgs')\n",
    "model_prediction_scores(logreg, X_train, X_test, y_train, y_test)"
   ]
  },
  {
   "cell_type": "markdown",
   "metadata": {},
   "source": [
    "#### With Dummies"
   ]
  },
  {
   "cell_type": "code",
   "execution_count": 26,
   "metadata": {},
   "outputs": [],
   "source": [
    "dummies1 = pd.get_dummies(with_ou['surface'],prefix ='surface')\n",
    "dummies2 = pd.get_dummies(with_ou['weather_icon'], prefix = 'weather')\n",
    "dummies3 = pd.get_dummies(with_ou['start'], prefix = 'start')"
   ]
  },
  {
   "cell_type": "code",
   "execution_count": 27,
   "metadata": {},
   "outputs": [],
   "source": [
    "X_dummies = with_ou[['line', 'game_over_under',\n",
    "        'temperature', 'wind_speed', 'wind_bearing']].join(dummies1.loc[:,'surface_Grass':])\n",
    "X_dummies = X_dummies.join(dummies2.loc[:, 'weather_Clear Night':])\n",
    "X_dummies = X_dummies.join(dummies3.loc[:,'start_Late':])"
   ]
  },
  {
   "cell_type": "code",
   "execution_count": 28,
   "metadata": {},
   "outputs": [],
   "source": [
    "X_dummies_train, X_dummies_test, y_train, y_test = train_test_split(X_dummies,y, test_size = 0.20)"
   ]
  },
  {
   "cell_type": "code",
   "execution_count": 29,
   "metadata": {},
   "outputs": [
    {
     "name": "stdout",
     "output_type": "stream",
     "text": [
      "Accuracy Score : 0.5276199714738573\n",
      "F1 Score : 0.5332090538053944\n"
     ]
    }
   ],
   "source": [
    "logreg = LogisticRegression(solver = 'lbfgs', max_iter = 1000)\n",
    "print_cv_scores(logreg, X_dummies_train,y_train)"
   ]
  },
  {
   "cell_type": "code",
   "execution_count": 30,
   "metadata": {
    "scrolled": true
   },
   "outputs": [
    {
     "name": "stdout",
     "output_type": "stream",
     "text": [
      "Accuracy Score : 0.5138028169014085\n",
      "F1 Score : 0.5208217656857301\n"
     ]
    }
   ],
   "source": [
    "logreg =  LogisticRegression(solver = 'lbfgs', max_iter = 1000)\n",
    "model_prediction_scores(logreg, X_dummies_train, X_dummies_test, y_train, y_test)"
   ]
  },
  {
   "cell_type": "markdown",
   "metadata": {},
   "source": [
    "#### Logistic Regression Model With More Columns"
   ]
  },
  {
   "cell_type": "code",
   "execution_count": 128,
   "metadata": {},
   "outputs": [],
   "source": [
    "X2 = with_ou2.drop(['over_hit','season','week','Home Team', 'Away Team','surface','weather_icon','month','start'], axis = 1)\n",
    "y2 = with_ou2.over_hit"
   ]
  },
  {
   "cell_type": "code",
   "execution_count": 129,
   "metadata": {},
   "outputs": [],
   "source": [
    "X2_train, X2_test, y2_train, y2_test = train_test_split(X2,y2,test_size = 0.2)"
   ]
  },
  {
   "cell_type": "code",
   "execution_count": 133,
   "metadata": {},
   "outputs": [
    {
     "name": "stdout",
     "output_type": "stream",
     "text": [
      "Accuracy Score : 0.5223995490601849\n",
      "F1 Score : 0.5121309913915781\n"
     ]
    }
   ],
   "source": [
    "logreg = LogisticRegression(solver = 'lbfgs', max_iter = 2000)\n",
    "print_cv_scores(logreg, X2_train, y2_train)"
   ]
  },
  {
   "cell_type": "code",
   "execution_count": 149,
   "metadata": {},
   "outputs": [
    {
     "name": "stdout",
     "output_type": "stream",
     "text": [
      "Accuracy Score : 0.5194366197183099\n",
      "F1 Score : 0.518351214003388\n"
     ]
    }
   ],
   "source": [
    "logreg = LogisticRegression(solver = 'lbfgs', max_iter = 2000)\n",
    "model_prediction_scores(logreg,X2_train, X2_test, y2_train, y2_test )"
   ]
  },
  {
   "cell_type": "code",
   "execution_count": 125,
   "metadata": {},
   "outputs": [],
   "source": [
    "dummies1_ = pd.get_dummies(with_ou2['surface'],prefix ='surface')\n",
    "dummies2_ = pd.get_dummies(with_ou2['weather_icon'], prefix = 'weather')\n",
    "dummies3_ = pd.get_dummies(with_ou2['start'], prefix = 'start')\n",
    "\n",
    "X_dummies_ = with_ou2[['line', 'game_over_under',\n",
    "        'temperature', 'wind_speed', 'wind_bearing']].join(dummies1_.loc[:,'surface_Grass':])\n",
    "X_dummies_ = X_dummies_.join(dummies2_.loc[:, 'weather_Clear Night':])\n",
    "X_dummies_ = X_dummies_.join(dummies3_.loc[:,'start_Late':])"
   ]
  },
  {
   "cell_type": "code",
   "execution_count": 126,
   "metadata": {},
   "outputs": [],
   "source": [
    "X2_dummies_train, X2_dummies_test, y2_train, y2_test = train_test_split(X_dummies_,y, test_size = 0.20)"
   ]
  },
  {
   "cell_type": "code",
   "execution_count": 127,
   "metadata": {},
   "outputs": [
    {
     "name": "stdout",
     "output_type": "stream",
     "text": [
      "Accuracy Score : 0.5300031784501082\n",
      "F1 Score : 0.5380698596949576\n"
     ]
    }
   ],
   "source": [
    "logreg = LogisticRegression(solver = 'lbfgs', max_iter = 1000)\n",
    "print_cv_scores(logreg, X2_dummies_train,y2_train)"
   ]
  },
  {
   "cell_type": "code",
   "execution_count": 148,
   "metadata": {},
   "outputs": [
    {
     "name": "stdout",
     "output_type": "stream",
     "text": [
      "Accuracy Score : 0.5076056338028169\n",
      "F1 Score : 0.47222222222222227\n"
     ]
    }
   ],
   "source": [
    "logreg = LogisticRegression(solver = 'lbfgs', max_iter =1000)\n",
    "model_prediction_scores(logreg, X2_dummies_train, X2_dummies_test, y2_train, y2_test)"
   ]
  },
  {
   "cell_type": "markdown",
   "metadata": {},
   "source": [
    "#### Decision Tree"
   ]
  },
  {
   "cell_type": "markdown",
   "metadata": {},
   "source": [
    "#### without dummies"
   ]
  },
  {
   "cell_type": "code",
   "execution_count": 55,
   "metadata": {},
   "outputs": [],
   "source": [
    "Xdt = with_ou.drop(['over_hit','season','week','Home Team', 'Away Team','surface',\n",
    "                    'weather_icon','month','start'], axis = 1)\n",
    "ydt = with_ou.over_hit\n",
    "Xdt_train, Xdt_test, ydt_train, ydt_test = train_test_split(Xdt,ydt, test_size = 0.20 )"
   ]
  },
  {
   "cell_type": "code",
   "execution_count": 56,
   "metadata": {},
   "outputs": [
    {
     "name": "stdout",
     "output_type": "stream",
     "text": [
      "Accuracy Score : 0.49506585155738325\n",
      "F1 Score : 0.4862948555251914\n"
     ]
    }
   ],
   "source": [
    "dt = DecisionTreeClassifier()\n",
    "print_cv_scores(dt, Xdt_train, ydt_train)"
   ]
  },
  {
   "cell_type": "code",
   "execution_count": 57,
   "metadata": {
    "scrolled": true
   },
   "outputs": [
    {
     "name": "stdout",
     "output_type": "stream",
     "text": [
      "Accuracy Score : 0.49295774647887325\n",
      "F1 Score : 0.4833524684270953\n"
     ]
    }
   ],
   "source": [
    "dt= DecisionTreeClassifier()\n",
    "model_prediction_scores(dt, Xdt_train, Xdt_test, ydt_train,ydt_test)"
   ]
  },
  {
   "cell_type": "markdown",
   "metadata": {},
   "source": [
    "#### with dummies"
   ]
  },
  {
   "cell_type": "code",
   "execution_count": 62,
   "metadata": {},
   "outputs": [],
   "source": [
    "X_dummies_dt_train, X_dummies_dt_test, y_dummies_dt_train, y_dummies_dt_test = train_test_split(X_dummies,y, test_size = 0.20)"
   ]
  },
  {
   "cell_type": "code",
   "execution_count": 63,
   "metadata": {},
   "outputs": [
    {
     "name": "stdout",
     "output_type": "stream",
     "text": [
      "Accuracy Score : 0.49871751382168983\n",
      "F1 Score : 0.48486562348855483\n"
     ]
    }
   ],
   "source": [
    "dt = DecisionTreeClassifier()\n",
    "print_cv_scores(dt, X_dummies_dt_train, y_dummies_dt_train)"
   ]
  },
  {
   "cell_type": "code",
   "execution_count": 64,
   "metadata": {},
   "outputs": [
    {
     "name": "stdout",
     "output_type": "stream",
     "text": [
      "Accuracy Score : 0.5036619718309859\n",
      "F1 Score : 0.4928036845135291\n"
     ]
    }
   ],
   "source": [
    "dt= DecisionTreeClassifier()\n",
    "model_prediction_scores(dt, X_dummies_dt_train, X_dummies_dt_test, y_dummies_dt_train,y_dummies_dt_test)"
   ]
  },
  {
   "cell_type": "markdown",
   "metadata": {},
   "source": [
    "#### with more columns"
   ]
  },
  {
   "cell_type": "code",
   "execution_count": 134,
   "metadata": {},
   "outputs": [],
   "source": [
    "Xdt2 = with_ou2.drop(['over_hit','season','week','Home Team', 'Away Team','surface',\n",
    "                    'weather_icon','month','start'], axis = 1)\n",
    "ydt2 = with_ou.over_hit\n",
    "Xdt2_train, Xdt2_test, ydt2_train, ydt2_test = train_test_split(Xdt2,ydt2, test_size = 0.20 )"
   ]
  },
  {
   "cell_type": "code",
   "execution_count": 135,
   "metadata": {},
   "outputs": [
    {
     "name": "stdout",
     "output_type": "stream",
     "text": [
      "Accuracy Score : 0.5056447259451524\n",
      "F1 Score : 0.49365711921570077\n"
     ]
    }
   ],
   "source": [
    "dt = DecisionTreeClassifier()\n",
    "print_cv_scores(dt,Xdt2_train, ydt2_train)"
   ]
  },
  {
   "cell_type": "code",
   "execution_count": 136,
   "metadata": {},
   "outputs": [],
   "source": [
    "X_dummies_dt2_train, X_dummies_dt2_test, y_dummies_dt2_train, y_dummies_dt2_test = train_test_split(X_dummies_,y, test_size = 0.20)"
   ]
  },
  {
   "cell_type": "code",
   "execution_count": 137,
   "metadata": {},
   "outputs": [
    {
     "name": "stdout",
     "output_type": "stream",
     "text": [
      "Accuracy Score : 0.5033818709151949\n",
      "F1 Score : 0.48415695416179183\n"
     ]
    }
   ],
   "source": [
    "dt = DecisionTreeClassifier()\n",
    "print_cv_scores(dt, X_dummies_dt2_train,y_dummies_dt2_train)"
   ]
  },
  {
   "cell_type": "markdown",
   "metadata": {},
   "source": [
    "#### Hyperparamter Tuning\n"
   ]
  },
  {
   "cell_type": "code",
   "execution_count": 82,
   "metadata": {},
   "outputs": [],
   "source": [
    "from scipy.stats import randint\n",
    "param_dist = {'max_depth':[3,10], 'max_features': randint(1,9), 'min_samples_leaf': randint(1,9), 'criterion':['gini','entropy']}"
   ]
  },
  {
   "cell_type": "code",
   "execution_count": 83,
   "metadata": {},
   "outputs": [],
   "source": [
    "tree = DecisionTreeClassifier()\n",
    "tree_cv = RandomizedSearchCV(tree, param_dist, cv = 10)"
   ]
  },
  {
   "cell_type": "code",
   "execution_count": 84,
   "metadata": {},
   "outputs": [
    {
     "data": {
      "text/plain": [
       "RandomizedSearchCV(cv=10, error_score='raise-deprecating',\n",
       "                   estimator=DecisionTreeClassifier(class_weight=None,\n",
       "                                                    criterion='gini',\n",
       "                                                    max_depth=None,\n",
       "                                                    max_features=None,\n",
       "                                                    max_leaf_nodes=None,\n",
       "                                                    min_impurity_decrease=0.0,\n",
       "                                                    min_impurity_split=None,\n",
       "                                                    min_samples_leaf=1,\n",
       "                                                    min_samples_split=2,\n",
       "                                                    min_weight_fraction_leaf=0.0,\n",
       "                                                    presort=False,\n",
       "                                                    random_state=None,\n",
       "                                                    splitter='best'),\n",
       "                   iid='..._jobs=None,\n",
       "                   param_distributions={'criterion': ['gini', 'entropy'],\n",
       "                                        'max_depth': [3, 10],\n",
       "                                        'max_features': <scipy.stats._distn_infrastructure.rv_frozen object at 0x1a24e65810>,\n",
       "                                        'min_samples_leaf': <scipy.stats._distn_infrastructure.rv_frozen object at 0x1a25cd70d0>},\n",
       "                   pre_dispatch='2*n_jobs', random_state=None, refit=True,\n",
       "                   return_train_score=False, scoring=None, verbose=0)"
      ]
     },
     "execution_count": 84,
     "metadata": {},
     "output_type": "execute_result"
    }
   ],
   "source": [
    "tree_cv.fit(Xdt_train,ydt_train)"
   ]
  },
  {
   "cell_type": "code",
   "execution_count": 100,
   "metadata": {},
   "outputs": [
    {
     "data": {
      "text/plain": [
       "{'criterion': 'entropy',\n",
       " 'max_depth': 3,\n",
       " 'max_features': 3,\n",
       " 'min_samples_leaf': 2}"
      ]
     },
     "execution_count": 100,
     "metadata": {},
     "output_type": "execute_result"
    }
   ],
   "source": [
    "tree_cv.best_params_"
   ]
  },
  {
   "cell_type": "code",
   "execution_count": 101,
   "metadata": {},
   "outputs": [
    {
     "data": {
      "text/plain": [
       "0.5139475908706678"
      ]
     },
     "execution_count": 101,
     "metadata": {},
     "output_type": "execute_result"
    }
   ],
   "source": [
    "tree_cv.best_score_"
   ]
  },
  {
   "cell_type": "code",
   "execution_count": 138,
   "metadata": {
    "scrolled": false
   },
   "outputs": [
    {
     "data": {
      "text/plain": [
       "RandomizedSearchCV(cv=10, error_score='raise-deprecating',\n",
       "                   estimator=DecisionTreeClassifier(class_weight=None,\n",
       "                                                    criterion='gini',\n",
       "                                                    max_depth=None,\n",
       "                                                    max_features=None,\n",
       "                                                    max_leaf_nodes=None,\n",
       "                                                    min_impurity_decrease=0.0,\n",
       "                                                    min_impurity_split=None,\n",
       "                                                    min_samples_leaf=1,\n",
       "                                                    min_samples_split=2,\n",
       "                                                    min_weight_fraction_leaf=0.0,\n",
       "                                                    presort=False,\n",
       "                                                    random_state=None,\n",
       "                                                    splitter='best'),\n",
       "                   iid='..._jobs=None,\n",
       "                   param_distributions={'criterion': ['gini', 'entropy'],\n",
       "                                        'max_depth': [3, 10],\n",
       "                                        'max_features': <scipy.stats._distn_infrastructure.rv_frozen object at 0x1a24e65810>,\n",
       "                                        'min_samples_leaf': <scipy.stats._distn_infrastructure.rv_frozen object at 0x1a25cd70d0>},\n",
       "                   pre_dispatch='2*n_jobs', random_state=None, refit=True,\n",
       "                   return_train_score=False, scoring=None, verbose=0)"
      ]
     },
     "execution_count": 138,
     "metadata": {},
     "output_type": "execute_result"
    }
   ],
   "source": [
    "tree = DecisionTreeClassifier()\n",
    "tree_cv = RandomizedSearchCV(tree, param_dist, cv = 10)\n",
    "tree_cv.fit(X_dummies_dt_train,y_dummies_dt_train)"
   ]
  },
  {
   "cell_type": "code",
   "execution_count": 140,
   "metadata": {
    "scrolled": true
   },
   "outputs": [
    {
     "data": {
      "text/plain": [
       "{'criterion': 'entropy',\n",
       " 'max_depth': 3,\n",
       " 'max_features': 1,\n",
       " 'min_samples_leaf': 6}"
      ]
     },
     "execution_count": 140,
     "metadata": {},
     "output_type": "execute_result"
    }
   ],
   "source": [
    "tree_cv.best_params_"
   ]
  },
  {
   "cell_type": "code",
   "execution_count": 141,
   "metadata": {},
   "outputs": [
    {
     "data": {
      "text/plain": [
       "0.5156382079459002"
      ]
     },
     "execution_count": 141,
     "metadata": {},
     "output_type": "execute_result"
    }
   ],
   "source": [
    "tree_cv.best_score_"
   ]
  },
  {
   "cell_type": "markdown",
   "metadata": {},
   "source": [
    "#### Random Forest"
   ]
  },
  {
   "cell_type": "markdown",
   "metadata": {},
   "source": [
    "#### without dummies"
   ]
  },
  {
   "cell_type": "code",
   "execution_count": 112,
   "metadata": {},
   "outputs": [],
   "source": [
    "Xrf = with_ou.drop(['over_hit','season','week','Home Team', 'Away Team','surface',\n",
    "                    'weather_icon','month','start'], axis = 1)\n",
    "yrf = with_ou.over_hit\n",
    "Xrf_train, Xrf_test, yrf_train, yrf_test = train_test_split(Xrf,yrf, test_size = 0.20 )"
   ]
  },
  {
   "cell_type": "code",
   "execution_count": 53,
   "metadata": {
    "scrolled": true
   },
   "outputs": [
    {
     "name": "stdout",
     "output_type": "stream",
     "text": [
      "Accuracy Score : 0.49549711940385965\n",
      "F1 Score : 0.43076412604066083\n"
     ]
    }
   ],
   "source": [
    "rf = RandomForestClassifier()\n",
    "print_cv_scores(rf, Xrf_train, y_train)"
   ]
  },
  {
   "cell_type": "markdown",
   "metadata": {},
   "source": [
    "#### with dummies"
   ]
  },
  {
   "cell_type": "code",
   "execution_count": 65,
   "metadata": {},
   "outputs": [],
   "source": [
    "X_dummies_rf_train, X_dummies_rf_test, y_dummies_rf_train, y_dummies_rf_test = train_test_split(X_dummies,y, test_size = 0.20)"
   ]
  },
  {
   "cell_type": "code",
   "execution_count": 66,
   "metadata": {
    "scrolled": true
   },
   "outputs": [
    {
     "name": "stdout",
     "output_type": "stream",
     "text": [
      "Accuracy Score : 0.5043630304677745\n",
      "F1 Score : 0.41319630619907155\n"
     ]
    }
   ],
   "source": [
    "rf= RandomForestClassifier ()\n",
    "print_cv_scores(rf,X_dummies_train,y_train)"
   ]
  },
  {
   "cell_type": "markdown",
   "metadata": {},
   "source": [
    "#### Hyperparameter Tuning"
   ]
  },
  {
   "cell_type": "markdown",
   "metadata": {},
   "source": [
    "#### without dummies"
   ]
  },
  {
   "cell_type": "code",
   "execution_count": 113,
   "metadata": {},
   "outputs": [],
   "source": [
    "import numpy as np\n",
    "\n",
    "n_estimators = [int(x) for x in np.linspace(start = 200, stop = 2000, num = 10)]\n",
    "max_features = ['auto', 'sqrt']\n",
    "max_depth = [int(x) for x in np.linspace(10, 110, num = 11)]\n",
    "max_depth.append(None)\n",
    "min_samples_split = [2, 5, 10]\n",
    "min_samples_leaf = [1, 2, 4]\n",
    "bootstrap = [True, False]"
   ]
  },
  {
   "cell_type": "code",
   "execution_count": 114,
   "metadata": {},
   "outputs": [],
   "source": [
    "random_grid = {'n_estimators': n_estimators,\n",
    "               'max_features': max_features,\n",
    "               'max_depth': max_depth,\n",
    "               'min_samples_split': min_samples_split,\n",
    "               'min_samples_leaf': min_samples_leaf,\n",
    "               'bootstrap': bootstrap}"
   ]
  },
  {
   "cell_type": "code",
   "execution_count": 117,
   "metadata": {},
   "outputs": [
    {
     "data": {
      "text/plain": [
       "RandomizedSearchCV(cv=3, error_score='raise-deprecating',\n",
       "                   estimator=RandomForestClassifier(bootstrap=True,\n",
       "                                                    class_weight=None,\n",
       "                                                    criterion='gini',\n",
       "                                                    max_depth=None,\n",
       "                                                    max_features='auto',\n",
       "                                                    max_leaf_nodes=None,\n",
       "                                                    min_impurity_decrease=0.0,\n",
       "                                                    min_impurity_split=None,\n",
       "                                                    min_samples_leaf=1,\n",
       "                                                    min_samples_split=2,\n",
       "                                                    min_weight_fraction_leaf=0.0,\n",
       "                                                    n_estimators='warn',\n",
       "                                                    n_jobs=None,\n",
       "                                                    oob_sc...\n",
       "                   param_distributions={'bootstrap': [True, False],\n",
       "                                        'max_depth': [10, 20, 30, 40, 50, 60,\n",
       "                                                      70, 80, 90, 100, 110,\n",
       "                                                      None],\n",
       "                                        'max_features': ['auto', 'sqrt'],\n",
       "                                        'min_samples_leaf': [1, 2, 4],\n",
       "                                        'min_samples_split': [2, 5, 10],\n",
       "                                        'n_estimators': [200, 400, 600, 800,\n",
       "                                                         1000, 1200, 1400, 1600,\n",
       "                                                         1800, 2000]},\n",
       "                   pre_dispatch='2*n_jobs', random_state=None, refit=True,\n",
       "                   return_train_score=False, scoring=None, verbose=0)"
      ]
     },
     "execution_count": 117,
     "metadata": {},
     "output_type": "execute_result"
    }
   ],
   "source": [
    "rf = RandomForestClassifier()\n",
    "rf_cv = RandomizedSearchCV(rf, random_grid, n_iter = 100,cv = 3)\n",
    "rf_cv.fit(Xrf_train, yrf_train)"
   ]
  },
  {
   "cell_type": "code",
   "execution_count": 118,
   "metadata": {},
   "outputs": [
    {
     "data": {
      "text/plain": [
       "{'n_estimators': 400,\n",
       " 'min_samples_split': 10,\n",
       " 'min_samples_leaf': 2,\n",
       " 'max_features': 'sqrt',\n",
       " 'max_depth': 100,\n",
       " 'bootstrap': True}"
      ]
     },
     "execution_count": 118,
     "metadata": {},
     "output_type": "execute_result"
    }
   ],
   "source": [
    "rf_cv.best_params_"
   ]
  },
  {
   "cell_type": "code",
   "execution_count": 119,
   "metadata": {},
   "outputs": [
    {
     "data": {
      "text/plain": [
       "0.52465483234714"
      ]
     },
     "execution_count": 119,
     "metadata": {},
     "output_type": "execute_result"
    }
   ],
   "source": [
    "rf_cv.best_score_"
   ]
  },
  {
   "cell_type": "code",
   "execution_count": null,
   "metadata": {},
   "outputs": [],
   "source": []
  },
  {
   "cell_type": "markdown",
   "metadata": {},
   "source": [
    "#### AdaBoost"
   ]
  },
  {
   "cell_type": "code",
   "execution_count": 67,
   "metadata": {},
   "outputs": [],
   "source": [
    "Xa = with_ou.drop(['over_hit','season','week','Home Team', 'Away Team','surface',\n",
    "                    'weather_icon','month','start'], axis = 1)\n",
    "ya = with_ou.over_hit\n",
    "Xa_train, Xa_test, ya_train, ya_test = train_test_split(Xa,ya, test_size = 0.20 )"
   ]
  },
  {
   "cell_type": "code",
   "execution_count": 68,
   "metadata": {
    "scrolled": true
   },
   "outputs": [
    {
     "name": "stdout",
     "output_type": "stream",
     "text": [
      "Accuracy Score : 0.4938030138781425\n",
      "F1 Score : 0.4932422338339437\n"
     ]
    }
   ],
   "source": [
    "dt = DecisionTreeClassifier()\n",
    "ada = AdaBoostClassifier(base_estimator = dt)\n",
    "print_cv_scores(ada, Xa_train, ya_train)"
   ]
  },
  {
   "cell_type": "markdown",
   "metadata": {},
   "source": [
    "#### with dummies"
   ]
  },
  {
   "cell_type": "code",
   "execution_count": 69,
   "metadata": {},
   "outputs": [
    {
     "name": "stdout",
     "output_type": "stream",
     "text": [
      "Accuracy Score : 0.5021132773243262\n",
      "F1 Score : 0.4832311123093212\n"
     ]
    }
   ],
   "source": [
    "X_dummies_a_train, X_dummies_a_test, y_dummies_a_train, y_dummies_a_test = train_test_split(X_dummies,y, test_size = 0.20)\n",
    "dt = DecisionTreeClassifier()\n",
    "ada = AdaBoostClassifier(base_estimator = dt)\n",
    "print_cv_scores(ada, X_dummies_a_train, y_dummies_a_train)\n"
   ]
  },
  {
   "cell_type": "markdown",
   "metadata": {},
   "source": [
    "#### Gradient Boost"
   ]
  },
  {
   "cell_type": "markdown",
   "metadata": {},
   "source": [
    "#### without dummies"
   ]
  },
  {
   "cell_type": "code",
   "execution_count": 70,
   "metadata": {},
   "outputs": [],
   "source": [
    "Xgb = with_ou.drop(['over_hit','season','week','Home Team', 'Away Team','surface',\n",
    "                    'weather_icon','month','start'], axis = 1)\n",
    "ygb= with_ou.over_hit\n",
    "Xgb_train, Xgb_test, ygb_train, ygb_test = train_test_split(Xgb,ygb, test_size = 0.20 )"
   ]
  },
  {
   "cell_type": "code",
   "execution_count": 71,
   "metadata": {
    "scrolled": true
   },
   "outputs": [
    {
     "name": "stdout",
     "output_type": "stream",
     "text": [
      "Accuracy Score : 0.5121188404502146\n",
      "F1 Score : 0.5160929790118493\n"
     ]
    }
   ],
   "source": [
    "gb = GradientBoostingClassifier()\n",
    "print_cv_scores(gb, Xgb_train, ygb_train)"
   ]
  },
  {
   "cell_type": "code",
   "execution_count": null,
   "metadata": {},
   "outputs": [],
   "source": []
  },
  {
   "cell_type": "markdown",
   "metadata": {},
   "source": [
    "#### with dummies\n"
   ]
  },
  {
   "cell_type": "code",
   "execution_count": 72,
   "metadata": {},
   "outputs": [],
   "source": [
    "X_dummies_gb_train, X_dummies_gb_test, y_dummies_gb_train, y_dummies_gb_test = train_test_split(X_dummies,y, test_size = 0.20)"
   ]
  },
  {
   "cell_type": "code",
   "execution_count": 73,
   "metadata": {},
   "outputs": [
    {
     "name": "stdout",
     "output_type": "stream",
     "text": [
      "Accuracy Score : 0.5121214114855429\n",
      "F1 Score : 0.4795231998021744\n"
     ]
    }
   ],
   "source": [
    "gb = GradientBoostingClassifier()\n",
    "print_cv_scores(gb, X_dummies_gb_train, y_dummies_gb_train)"
   ]
  },
  {
   "cell_type": "markdown",
   "metadata": {},
   "source": [
    "#### Hyperparameter Tuning"
   ]
  },
  {
   "cell_type": "code",
   "execution_count": 145,
   "metadata": {},
   "outputs": [
    {
     "data": {
      "text/plain": [
       "GridSearchCV(cv=10, error_score='raise-deprecating',\n",
       "             estimator=GradientBoostingClassifier(criterion='friedman_mse',\n",
       "                                                  init=None, learning_rate=0.1,\n",
       "                                                  loss='deviance', max_depth=3,\n",
       "                                                  max_features=None,\n",
       "                                                  max_leaf_nodes=None,\n",
       "                                                  min_impurity_decrease=0.0,\n",
       "                                                  min_impurity_split=None,\n",
       "                                                  min_samples_leaf=1,\n",
       "                                                  min_samples_split=2,\n",
       "                                                  min_weight_fraction_leaf=0.0,\n",
       "                                                  n_estimators=100,\n",
       "                                                  n_iter_n...\n",
       "                                                  random_state=None,\n",
       "                                                  subsample=1.0, tol=0.0001,\n",
       "                                                  validation_fraction=0.1,\n",
       "                                                  verbose=0, warm_start=False),\n",
       "             iid='warn', n_jobs=None,\n",
       "             param_grid={'learning_rate': [0.1, 0.05, 0.02, 0.01],\n",
       "                         'max_depth': [2, 4, 6],\n",
       "                         'max_features': [1.0, 0.3, 0.1],\n",
       "                         'min_samples_leaf': [1, 2, 5, 10],\n",
       "                         'n_estimators': [250, 500, 750, 1000]},\n",
       "             pre_dispatch='2*n_jobs', refit=True, return_train_score=False,\n",
       "             scoring=None, verbose=0)"
      ]
     },
     "execution_count": 145,
     "metadata": {},
     "output_type": "execute_result"
    }
   ],
   "source": [
    "param_grid = {'learning_rate': [0.1, 0.05, 0.02, 0.01],\n",
    "                          'max_depth': [2, 4, 6],\n",
    "                          'min_samples_leaf': [1, 2, 5, 10],\n",
    "                          'max_features': [1.0, 0.3, 0.1],\n",
    "                          'n_estimators': [250, 500,750,1000]}\n",
    "\n",
    "gb = GradientBoostingClassifier()\n",
    "gb_cv = GridSearchCV(gb,param_grid, cv = 10)\n",
    "gb_cv.fit(Xgb_train,ygb_train)\n"
   ]
  },
  {
   "cell_type": "code",
   "execution_count": 146,
   "metadata": {},
   "outputs": [
    {
     "data": {
      "text/plain": [
       "{'learning_rate': 0.05,\n",
       " 'max_depth': 4,\n",
       " 'max_features': 0.1,\n",
       " 'min_samples_leaf': 5,\n",
       " 'n_estimators': 1000}"
      ]
     },
     "execution_count": 146,
     "metadata": {},
     "output_type": "execute_result"
    }
   ],
   "source": [
    "gb_cv.best_params_"
   ]
  },
  {
   "cell_type": "code",
   "execution_count": 147,
   "metadata": {},
   "outputs": [
    {
     "data": {
      "text/plain": [
       "0.5295857988165681"
      ]
     },
     "execution_count": 147,
     "metadata": {},
     "output_type": "execute_result"
    }
   ],
   "source": [
    "gb_cv.best_score_"
   ]
  },
  {
   "cell_type": "code",
   "execution_count": null,
   "metadata": {},
   "outputs": [],
   "source": []
  }
 ],
 "metadata": {
  "kernelspec": {
   "display_name": "Python 3",
   "language": "python",
   "name": "python3"
  },
  "language_info": {
   "codemirror_mode": {
    "name": "ipython",
    "version": 3
   },
   "file_extension": ".py",
   "mimetype": "text/x-python",
   "name": "python",
   "nbconvert_exporter": "python",
   "pygments_lexer": "ipython3",
   "version": "3.7.7"
  }
 },
 "nbformat": 4,
 "nbformat_minor": 2
}
